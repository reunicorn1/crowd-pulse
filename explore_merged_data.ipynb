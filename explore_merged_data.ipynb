{
 "cells": [
  {
   "cell_type": "code",
   "execution_count": 39,
   "metadata": {},
   "outputs": [],
   "source": [
    "import pandas as pd\n",
    "import numpy as np\n",
    "import matplotlib.pyplot as plt\n",
    "import seaborn as sns\n",
    "import matplotlib.pyplot as plt\n",
    "import seaborn as sns\n",
    "import re"
   ]
  },
  {
   "cell_type": "code",
   "execution_count": 50,
   "metadata": {},
   "outputs": [
    {
     "data": {
      "text/html": [
       "<div>\n",
       "<style scoped>\n",
       "    .dataframe tbody tr th:only-of-type {\n",
       "        vertical-align: middle;\n",
       "    }\n",
       "\n",
       "    .dataframe tbody tr th {\n",
       "        vertical-align: top;\n",
       "    }\n",
       "\n",
       "    .dataframe thead th {\n",
       "        text-align: right;\n",
       "    }\n",
       "</style>\n",
       "<table border=\"1\" class=\"dataframe\">\n",
       "  <thead>\n",
       "    <tr style=\"text-align: right;\">\n",
       "      <th></th>\n",
       "      <th>index</th>\n",
       "      <th>subreddit</th>\n",
       "      <th>post_id</th>\n",
       "      <th>post_title</th>\n",
       "      <th>post_score</th>\n",
       "      <th>post_url</th>\n",
       "      <th>post_comms_num</th>\n",
       "      <th>post_body</th>\n",
       "      <th>post_timestamp</th>\n",
       "    </tr>\n",
       "  </thead>\n",
       "  <tbody>\n",
       "    <tr>\n",
       "      <th>0</th>\n",
       "      <td>1</td>\n",
       "      <td>television</td>\n",
       "      <td>1gmlvja</td>\n",
       "      <td>watch recommend week november 08 2024</td>\n",
       "      <td>51</td>\n",
       "      <td>https://www.reddit.com/r/television/comments/1...</td>\n",
       "      <td>406</td>\n",
       "      <td>comment sort new default feel free describe sh...</td>\n",
       "      <td>2024-11-08 16:00:12</td>\n",
       "    </tr>\n",
       "    <tr>\n",
       "      <th>1</th>\n",
       "      <td>2</td>\n",
       "      <td>television</td>\n",
       "      <td>1gpuzer</td>\n",
       "      <td>kiernan shipka say know go mad man despite eff...</td>\n",
       "      <td>1411</td>\n",
       "      <td>https://people.com/kiernan-shipka-says-she-kne...</td>\n",
       "      <td>74</td>\n",
       "      <td>\" I know brain body decide remember like audit...</td>\n",
       "      <td>2024-11-12 20:45:23</td>\n",
       "    </tr>\n",
       "    <tr>\n",
       "      <th>2</th>\n",
       "      <td>3</td>\n",
       "      <td>television</td>\n",
       "      <td>1gpkns9</td>\n",
       "      <td>jim gaffigan end time tim walz ' snl ' \" I fee...</td>\n",
       "      <td>943</td>\n",
       "      <td>https://www.hollywoodreporter.com/tv/tv-news/j...</td>\n",
       "      <td>97</td>\n",
       "      <td>\" it expectation maya going continue entire ti...</td>\n",
       "      <td>2024-11-12 13:25:57</td>\n",
       "    </tr>\n",
       "    <tr>\n",
       "      <th>3</th>\n",
       "      <td>4</td>\n",
       "      <td>television</td>\n",
       "      <td>1gq3tw7</td>\n",
       "      <td>hbo series oz unforgettable character tv</td>\n",
       "      <td>62</td>\n",
       "      <td>https://www.reddit.com/r/television/comments/1...</td>\n",
       "      <td>36</td>\n",
       "      <td>ryan oreilly vern schillinger simon adebisi to...</td>\n",
       "      <td>2024-11-13 03:35:16</td>\n",
       "    </tr>\n",
       "    <tr>\n",
       "      <th>4</th>\n",
       "      <td>5</td>\n",
       "      <td>television</td>\n",
       "      <td>1gq3oj3</td>\n",
       "      <td>st denis medical series premiere discussion</td>\n",
       "      <td>21</td>\n",
       "      <td>https://www.reddit.com/r/television/comments/1...</td>\n",
       "      <td>6</td>\n",
       "      <td>st denis medical premise staff oregon understa...</td>\n",
       "      <td>2024-11-13 03:27:24</td>\n",
       "    </tr>\n",
       "  </tbody>\n",
       "</table>\n",
       "</div>"
      ],
      "text/plain": [
       "   index   subreddit  post_id  \\\n",
       "0      1  television  1gmlvja   \n",
       "1      2  television  1gpuzer   \n",
       "2      3  television  1gpkns9   \n",
       "3      4  television  1gq3tw7   \n",
       "4      5  television  1gq3oj3   \n",
       "\n",
       "                                          post_title post_score  \\\n",
       "0              watch recommend week november 08 2024         51   \n",
       "1  kiernan shipka say know go mad man despite eff...       1411   \n",
       "2  jim gaffigan end time tim walz ' snl ' \" I fee...        943   \n",
       "3           hbo series oz unforgettable character tv         62   \n",
       "4        st denis medical series premiere discussion         21   \n",
       "\n",
       "                                            post_url post_comms_num  \\\n",
       "0  https://www.reddit.com/r/television/comments/1...            406   \n",
       "1  https://people.com/kiernan-shipka-says-she-kne...             74   \n",
       "2  https://www.hollywoodreporter.com/tv/tv-news/j...             97   \n",
       "3  https://www.reddit.com/r/television/comments/1...             36   \n",
       "4  https://www.reddit.com/r/television/comments/1...              6   \n",
       "\n",
       "                                           post_body       post_timestamp  \n",
       "0  comment sort new default feel free describe sh...  2024-11-08 16:00:12  \n",
       "1  \" I know brain body decide remember like audit...  2024-11-12 20:45:23  \n",
       "2  \" it expectation maya going continue entire ti...  2024-11-12 13:25:57  \n",
       "3  ryan oreilly vern schillinger simon adebisi to...  2024-11-13 03:35:16  \n",
       "4  st denis medical premise staff oregon understa...  2024-11-13 03:27:24  "
      ]
     },
     "execution_count": 50,
     "metadata": {},
     "output_type": "execute_result"
    }
   ],
   "source": [
    "# Explore Data\n",
    "df = pd.read_csv('cleaned_merged_file.csv')\n",
    "df = df.drop(df.index[:1])\n",
    "df = df.reset_index()\n",
    "df = df.dropna(subset=['post_body'])\n",
    "df = df.dropna(subset=['post_title'])\n",
    "\n",
    "df.head()\n"
   ]
  },
  {
   "cell_type": "markdown",
   "metadata": {},
   "source": [
    "### Roberta Pretrained Model Sentiment Analysis"
   ]
  },
  {
   "cell_type": "code",
   "execution_count": 51,
   "metadata": {},
   "outputs": [],
   "source": [
    "from transformers import AutoTokenizer\n",
    "from transformers import AutoModelForSequenceClassification\n",
    "from scipy.special import softmax\n",
    "from tqdm import tqdm"
   ]
  },
  {
   "cell_type": "code",
   "execution_count": 52,
   "metadata": {},
   "outputs": [
    {
     "name": "stdout",
     "output_type": "stream",
     "text": [
      "2.5.1+cu124\n"
     ]
    }
   ],
   "source": [
    "import torch\n",
    "print(torch.__version__)"
   ]
  },
  {
   "cell_type": "code",
   "execution_count": 53,
   "metadata": {},
   "outputs": [],
   "source": [
    "MODEL = f\"cardiffnlp/twitter-roberta-base-sentiment\"\n",
    "\n",
    "tokenizer = AutoTokenizer.from_pretrained(MODEL)\n",
    "model = AutoModelForSequenceClassification.from_pretrained(MODEL)"
   ]
  },
  {
   "cell_type": "code",
   "execution_count": 54,
   "metadata": {},
   "outputs": [],
   "source": [
    "# Run Roberta Model\n",
    "def polarity_scores_roberta(example, title):\n",
    "    encoded_text = tokenizer(example, return_tensors='pt', max_length=1012)\n",
    "    output = model(**encoded_text)\n",
    "    scores = output[0][0].detach().numpy()\n",
    "    scores = softmax(scores)\n",
    "    scores_dict = {\n",
    "        f'roberta_neg_{title}': scores[0],\n",
    "        f'roberta_neu_{title}': scores[1],\n",
    "        f'roberta_pos_{title}': scores[2],\n",
    "        f'roberta_compound_{title}': scores[2] - scores[0]\n",
    "    }\n",
    "    return scores_dict"
   ]
  },
  {
   "cell_type": "code",
   "execution_count": 57,
   "metadata": {},
   "outputs": [
    {
     "data": {
      "text/plain": [
       "'hi ftm 31 165 55 zyrtec omeprazole advair discus singulair prozac dxd asthma hiatal hernia eczema scoliosis ddxd small fiber neuropathy hi wavinghand almost 5 year try nail diagnosis symptom start bizarre menningitislike episode april 2020 leg start go numb start foot work way painfully torso episode can not curl toe pain paresthesia much external input aka could stab foot would feel interem onset symptom gain fatigue ache joint abdominal discomfort sudden weight loss 30 lb 3 month breathingasthma nearly unconctrollable initially doctor concern ms go test mris nothing alarming come around time also gastroenterologist diagnose hiatal hernia testing barret esophagus moderate damage due gerd see neurologist leave state guess small fiber neuropathy tell present incredibly unusual case opt skin test stomach issue still persist ct scan discover 5 mm ground glass nodule lung chance several subcentimeter mesenteric lymph node concerned nodule follow lung scan around time doctor start talk psychosomatic symptom offer test come back elevated creactive protein 1320 ana titer high rnp antibody score talk psychosomatic symptom disappear lot talk mctd come send rheumatologist poke arm couple time tell doctor overreact tell go back neurologist tell fibromayalgia frustrated doctor say refer help prepare tell doctor forget pursue dx last annual check must sense coming say anything tell give something wrong need see another rheum simultaneously refer get leg fully xraye send pulmanologist upgrade asthma diagnose severe uncontrolled breathing test soon hdct scan talk cancer pulmonary hypertension next list frightening thing last year start syncope episode especially donate blood ask could cardiovascular related ziopatch come back fine doc seem think vessel involve tell give much time much money many health scare exhausted kind think wait thing get bad symptom paint clear picture doctor board recently blood test show wbc high along immune system cell become unusually anemic concern investigate blood cancer can not anymore kidney liver healthy mild non alcoholic fatty liver chronically low vitamin fighting bring get sick common coldsstomach bug every 23 week also exacerbate asthma lead lot nebulizer treatment urgent care visit sometimes scold go er asthma one final detail around april 2020 covid lock go er menningitis like symptom severe neck head pain neck arteriesnerve feel like fire doctor confirm sick something base blood test spinal tap clear menningitis send home everything feel like start get bad would really unwise sort wait see symptom become clear miss field medicine think second rheumatologist good idea tired feeling like alarm bell stress worth'"
      ]
     },
     "execution_count": 57,
     "metadata": {},
     "output_type": "execute_result"
    }
   ],
   "source": [
    "df['post_body'].iloc[2553]"
   ]
  },
  {
   "cell_type": "code",
   "execution_count": 58,
   "metadata": {},
   "outputs": [
    {
     "name": "stderr",
     "output_type": "stream",
     "text": [
      "  0%|          | 50/14722 [00:03<19:13, 12.72it/s]"
     ]
    },
    {
     "name": "stdout",
     "output_type": "stream",
     "text": [
      "Broke for id 48 The expanded size of the tensor (673) must match the existing size (514) at non-singleton dimension 1.  Target sizes: [1, 673].  Tensor sizes: [1, 514]\n"
     ]
    },
    {
     "name": "stderr",
     "output_type": "stream",
     "text": [
      "  1%|          | 107/14722 [00:08<15:43, 15.48it/s]"
     ]
    },
    {
     "name": "stdout",
     "output_type": "stream",
     "text": [
      "Broke for id 106 The expanded size of the tensor (610) must match the existing size (514) at non-singleton dimension 1.  Target sizes: [1, 610].  Tensor sizes: [1, 514]\n"
     ]
    },
    {
     "name": "stderr",
     "output_type": "stream",
     "text": [
      "  1%|          | 160/14722 [00:13<16:43, 14.51it/s]"
     ]
    },
    {
     "name": "stdout",
     "output_type": "stream",
     "text": [
      "Broke for id 159 The expanded size of the tensor (581) must match the existing size (514) at non-singleton dimension 1.  Target sizes: [1, 581].  Tensor sizes: [1, 514]\n"
     ]
    },
    {
     "name": "stderr",
     "output_type": "stream",
     "text": [
      "  2%|▏         | 326/14722 [00:26<16:53, 14.21it/s]"
     ]
    },
    {
     "name": "stdout",
     "output_type": "stream",
     "text": [
      "Broke for id 324 The expanded size of the tensor (1012) must match the existing size (514) at non-singleton dimension 1.  Target sizes: [1, 1012].  Tensor sizes: [1, 514]\n"
     ]
    },
    {
     "name": "stderr",
     "output_type": "stream",
     "text": [
      "  3%|▎         | 396/14722 [00:32<19:01, 12.55it/s]"
     ]
    },
    {
     "name": "stdout",
     "output_type": "stream",
     "text": [
      "Broke for id 396 The expanded size of the tensor (585) must match the existing size (514) at non-singleton dimension 1.  Target sizes: [1, 585].  Tensor sizes: [1, 514]\n"
     ]
    },
    {
     "name": "stderr",
     "output_type": "stream",
     "text": [
      "  3%|▎         | 425/14722 [00:35<34:40,  6.87it/s]"
     ]
    },
    {
     "name": "stdout",
     "output_type": "stream",
     "text": [
      "Broke for id 426 The expanded size of the tensor (552) must match the existing size (514) at non-singleton dimension 1.  Target sizes: [1, 552].  Tensor sizes: [1, 514]\n"
     ]
    },
    {
     "name": "stderr",
     "output_type": "stream",
     "text": [
      "  3%|▎         | 441/14722 [00:37<24:54,  9.56it/s]"
     ]
    },
    {
     "name": "stdout",
     "output_type": "stream",
     "text": [
      "Broke for id 439 The expanded size of the tensor (595) must match the existing size (514) at non-singleton dimension 1.  Target sizes: [1, 595].  Tensor sizes: [1, 514]\n"
     ]
    },
    {
     "name": "stderr",
     "output_type": "stream",
     "text": [
      "  3%|▎         | 458/14722 [00:40<27:46,  8.56it/s]"
     ]
    },
    {
     "name": "stdout",
     "output_type": "stream",
     "text": [
      "Broke for id 457 The expanded size of the tensor (634) must match the existing size (514) at non-singleton dimension 1.  Target sizes: [1, 634].  Tensor sizes: [1, 514]\n"
     ]
    },
    {
     "name": "stderr",
     "output_type": "stream",
     "text": [
      "  3%|▎         | 476/14722 [00:42<21:43, 10.93it/s]"
     ]
    },
    {
     "name": "stdout",
     "output_type": "stream",
     "text": [
      "Broke for id 475 The expanded size of the tensor (543) must match the existing size (514) at non-singleton dimension 1.  Target sizes: [1, 543].  Tensor sizes: [1, 514]\n"
     ]
    },
    {
     "name": "stderr",
     "output_type": "stream",
     "text": [
      "  3%|▎         | 478/14722 [00:42<19:09, 12.39it/s]"
     ]
    },
    {
     "name": "stdout",
     "output_type": "stream",
     "text": [
      "Broke for id 478 The expanded size of the tensor (543) must match the existing size (514) at non-singleton dimension 1.  Target sizes: [1, 543].  Tensor sizes: [1, 514]\n"
     ]
    },
    {
     "name": "stderr",
     "output_type": "stream",
     "text": [
      "  3%|▎         | 486/14722 [00:43<41:33,  5.71it/s]"
     ]
    },
    {
     "name": "stdout",
     "output_type": "stream",
     "text": [
      "Broke for id 487 The expanded size of the tensor (662) must match the existing size (514) at non-singleton dimension 1.  Target sizes: [1, 662].  Tensor sizes: [1, 514]\n"
     ]
    },
    {
     "name": "stderr",
     "output_type": "stream",
     "text": [
      "  3%|▎         | 493/14722 [00:45<1:13:04,  3.24it/s]"
     ]
    },
    {
     "name": "stdout",
     "output_type": "stream",
     "text": [
      "Broke for id 494 The expanded size of the tensor (574) must match the existing size (514) at non-singleton dimension 1.  Target sizes: [1, 574].  Tensor sizes: [1, 514]\n"
     ]
    },
    {
     "name": "stderr",
     "output_type": "stream",
     "text": [
      "  3%|▎         | 509/14722 [00:47<25:18,  9.36it/s]  "
     ]
    },
    {
     "name": "stdout",
     "output_type": "stream",
     "text": [
      "Broke for id 508 The expanded size of the tensor (759) must match the existing size (514) at non-singleton dimension 1.  Target sizes: [1, 759].  Tensor sizes: [1, 514]\n"
     ]
    },
    {
     "name": "stderr",
     "output_type": "stream",
     "text": [
      "  4%|▎         | 535/14722 [00:51<33:44,  7.01it/s]"
     ]
    },
    {
     "name": "stdout",
     "output_type": "stream",
     "text": [
      "Broke for id 534 The expanded size of the tensor (704) must match the existing size (514) at non-singleton dimension 1.  Target sizes: [1, 704].  Tensor sizes: [1, 514]\n"
     ]
    },
    {
     "name": "stderr",
     "output_type": "stream",
     "text": [
      "  4%|▍         | 556/14722 [00:55<42:26,  5.56it/s]"
     ]
    },
    {
     "name": "stdout",
     "output_type": "stream",
     "text": [
      "Broke for id 557 The expanded size of the tensor (519) must match the existing size (514) at non-singleton dimension 1.  Target sizes: [1, 519].  Tensor sizes: [1, 514]\n"
     ]
    },
    {
     "name": "stderr",
     "output_type": "stream",
     "text": [
      "  4%|▍         | 568/14722 [00:56<29:45,  7.93it/s]"
     ]
    },
    {
     "name": "stdout",
     "output_type": "stream",
     "text": [
      "Broke for id 567 The expanded size of the tensor (587) must match the existing size (514) at non-singleton dimension 1.  Target sizes: [1, 587].  Tensor sizes: [1, 514]\n"
     ]
    },
    {
     "name": "stderr",
     "output_type": "stream",
     "text": [
      "  4%|▍         | 617/14722 [01:03<30:53,  7.61it/s]"
     ]
    },
    {
     "name": "stdout",
     "output_type": "stream",
     "text": [
      "Broke for id 616 The expanded size of the tensor (558) must match the existing size (514) at non-singleton dimension 1.  Target sizes: [1, 558].  Tensor sizes: [1, 514]\n"
     ]
    },
    {
     "name": "stderr",
     "output_type": "stream",
     "text": [
      "  4%|▍         | 647/14722 [01:08<23:08, 10.14it/s]"
     ]
    },
    {
     "name": "stdout",
     "output_type": "stream",
     "text": [
      "Broke for id 645 The expanded size of the tensor (1012) must match the existing size (514) at non-singleton dimension 1.  Target sizes: [1, 1012].  Tensor sizes: [1, 514]\n"
     ]
    },
    {
     "name": "stderr",
     "output_type": "stream",
     "text": [
      "  4%|▍         | 660/14722 [01:09<15:55, 14.72it/s]"
     ]
    },
    {
     "name": "stdout",
     "output_type": "stream",
     "text": [
      "Broke for id 658 The expanded size of the tensor (763) must match the existing size (514) at non-singleton dimension 1.  Target sizes: [1, 763].  Tensor sizes: [1, 514]\n"
     ]
    },
    {
     "name": "stderr",
     "output_type": "stream",
     "text": [
      "  5%|▍         | 675/14722 [01:11<22:15, 10.51it/s]"
     ]
    },
    {
     "name": "stdout",
     "output_type": "stream",
     "text": [
      "Broke for id 673 The expanded size of the tensor (686) must match the existing size (514) at non-singleton dimension 1.  Target sizes: [1, 686].  Tensor sizes: [1, 514]\n"
     ]
    },
    {
     "name": "stderr",
     "output_type": "stream",
     "text": [
      "  5%|▍         | 720/14722 [01:15<28:55,  8.07it/s]"
     ]
    },
    {
     "name": "stdout",
     "output_type": "stream",
     "text": [
      "Broke for id 721 The expanded size of the tensor (860) must match the existing size (514) at non-singleton dimension 1.  Target sizes: [1, 860].  Tensor sizes: [1, 514]\n",
      "Broke for id 722 The expanded size of the tensor (1012) must match the existing size (514) at non-singleton dimension 1.  Target sizes: [1, 1012].  Tensor sizes: [1, 514]\n"
     ]
    },
    {
     "name": "stderr",
     "output_type": "stream",
     "text": [
      "  5%|▍         | 733/14722 [01:17<25:28,  9.15it/s]"
     ]
    },
    {
     "name": "stdout",
     "output_type": "stream",
     "text": [
      "Broke for id 734 The expanded size of the tensor (1012) must match the existing size (514) at non-singleton dimension 1.  Target sizes: [1, 1012].  Tensor sizes: [1, 514]\n",
      "Broke for id 736 The expanded size of the tensor (971) must match the existing size (514) at non-singleton dimension 1.  Target sizes: [1, 971].  Tensor sizes: [1, 514]\n"
     ]
    },
    {
     "name": "stderr",
     "output_type": "stream",
     "text": [
      "  5%|▌         | 743/14722 [01:19<26:21,  8.84it/s]  "
     ]
    },
    {
     "name": "stdout",
     "output_type": "stream",
     "text": [
      "Broke for id 743 The expanded size of the tensor (595) must match the existing size (514) at non-singleton dimension 1.  Target sizes: [1, 595].  Tensor sizes: [1, 514]\n",
      "Broke for id 744 The expanded size of the tensor (894) must match the existing size (514) at non-singleton dimension 1.  Target sizes: [1, 894].  Tensor sizes: [1, 514]\n"
     ]
    },
    {
     "name": "stderr",
     "output_type": "stream",
     "text": [
      "  5%|▌         | 745/14722 [01:19<22:02, 10.56it/s]"
     ]
    },
    {
     "name": "stdout",
     "output_type": "stream",
     "text": [
      "Broke for id 747 The expanded size of the tensor (778) must match the existing size (514) at non-singleton dimension 1.  Target sizes: [1, 778].  Tensor sizes: [1, 514]\n"
     ]
    },
    {
     "name": "stderr",
     "output_type": "stream",
     "text": [
      "  5%|▌         | 749/14722 [01:19<19:59, 11.65it/s]"
     ]
    },
    {
     "name": "stdout",
     "output_type": "stream",
     "text": [
      "Broke for id 750 The expanded size of the tensor (1012) must match the existing size (514) at non-singleton dimension 1.  Target sizes: [1, 1012].  Tensor sizes: [1, 514]\n"
     ]
    },
    {
     "name": "stderr",
     "output_type": "stream",
     "text": [
      "  5%|▌         | 756/14722 [01:20<18:03, 12.89it/s]"
     ]
    },
    {
     "name": "stdout",
     "output_type": "stream",
     "text": [
      "Broke for id 756 The expanded size of the tensor (661) must match the existing size (514) at non-singleton dimension 1.  Target sizes: [1, 661].  Tensor sizes: [1, 514]\n"
     ]
    },
    {
     "name": "stderr",
     "output_type": "stream",
     "text": [
      "  6%|▌         | 833/14722 [01:26<14:19, 16.16it/s]"
     ]
    },
    {
     "name": "stdout",
     "output_type": "stream",
     "text": [
      "Broke for id 833 The expanded size of the tensor (1012) must match the existing size (514) at non-singleton dimension 1.  Target sizes: [1, 1012].  Tensor sizes: [1, 514]\n"
     ]
    },
    {
     "name": "stderr",
     "output_type": "stream",
     "text": [
      "  6%|▋         | 934/14722 [01:33<14:39, 15.68it/s]"
     ]
    },
    {
     "name": "stdout",
     "output_type": "stream",
     "text": [
      "Broke for id 935 The expanded size of the tensor (1012) must match the existing size (514) at non-singleton dimension 1.  Target sizes: [1, 1012].  Tensor sizes: [1, 514]\n"
     ]
    },
    {
     "name": "stderr",
     "output_type": "stream",
     "text": [
      "  7%|▋         | 1083/14722 [01:44<15:04, 15.08it/s]"
     ]
    },
    {
     "name": "stdout",
     "output_type": "stream",
     "text": [
      "Broke for id 1084 The expanded size of the tensor (531) must match the existing size (514) at non-singleton dimension 1.  Target sizes: [1, 531].  Tensor sizes: [1, 514]\n"
     ]
    },
    {
     "name": "stderr",
     "output_type": "stream",
     "text": [
      "  9%|▉         | 1384/14722 [02:09<16:57, 13.11it/s]"
     ]
    },
    {
     "name": "stdout",
     "output_type": "stream",
     "text": [
      "Broke for id 1385 The expanded size of the tensor (592) must match the existing size (514) at non-singleton dimension 1.  Target sizes: [1, 592].  Tensor sizes: [1, 514]\n"
     ]
    },
    {
     "name": "stderr",
     "output_type": "stream",
     "text": [
      " 10%|█         | 1487/14722 [02:17<16:21, 13.49it/s]"
     ]
    },
    {
     "name": "stdout",
     "output_type": "stream",
     "text": [
      "Broke for id 1489 The expanded size of the tensor (556) must match the existing size (514) at non-singleton dimension 1.  Target sizes: [1, 556].  Tensor sizes: [1, 514]\n"
     ]
    },
    {
     "name": "stderr",
     "output_type": "stream",
     "text": [
      " 11%|█         | 1558/14722 [02:23<16:03, 13.66it/s]"
     ]
    },
    {
     "name": "stdout",
     "output_type": "stream",
     "text": [
      "Broke for id 1559 The expanded size of the tensor (757) must match the existing size (514) at non-singleton dimension 1.  Target sizes: [1, 757].  Tensor sizes: [1, 514]\n"
     ]
    },
    {
     "name": "stderr",
     "output_type": "stream",
     "text": [
      " 11%|█▏        | 1675/14722 [02:33<13:31, 16.08it/s]"
     ]
    },
    {
     "name": "stdout",
     "output_type": "stream",
     "text": [
      "Broke for id 1676 The expanded size of the tensor (730) must match the existing size (514) at non-singleton dimension 1.  Target sizes: [1, 730].  Tensor sizes: [1, 514]\n"
     ]
    },
    {
     "name": "stderr",
     "output_type": "stream",
     "text": [
      " 13%|█▎        | 1882/14722 [02:51<16:28, 12.99it/s]"
     ]
    },
    {
     "name": "stdout",
     "output_type": "stream",
     "text": [
      "Broke for id 1884 The expanded size of the tensor (734) must match the existing size (514) at non-singleton dimension 1.  Target sizes: [1, 734].  Tensor sizes: [1, 514]\n"
     ]
    },
    {
     "name": "stderr",
     "output_type": "stream",
     "text": [
      " 13%|█▎        | 1889/14722 [02:51<14:29, 14.76it/s]"
     ]
    },
    {
     "name": "stdout",
     "output_type": "stream",
     "text": [
      "Broke for id 1890 The expanded size of the tensor (1012) must match the existing size (514) at non-singleton dimension 1.  Target sizes: [1, 1012].  Tensor sizes: [1, 514]\n"
     ]
    },
    {
     "name": "stderr",
     "output_type": "stream",
     "text": [
      " 16%|█▌        | 2365/14722 [03:36<16:47, 12.27it/s]"
     ]
    },
    {
     "name": "stdout",
     "output_type": "stream",
     "text": [
      "Broke for id 2369 The expanded size of the tensor (963) must match the existing size (514) at non-singleton dimension 1.  Target sizes: [1, 963].  Tensor sizes: [1, 514]\n"
     ]
    },
    {
     "name": "stderr",
     "output_type": "stream",
     "text": [
      " 16%|█▋        | 2423/14722 [03:41<17:09, 11.94it/s]"
     ]
    },
    {
     "name": "stdout",
     "output_type": "stream",
     "text": [
      "Broke for id 2426 The expanded size of the tensor (1012) must match the existing size (514) at non-singleton dimension 1.  Target sizes: [1, 1012].  Tensor sizes: [1, 514]\n"
     ]
    },
    {
     "name": "stderr",
     "output_type": "stream",
     "text": [
      " 17%|█▋        | 2507/14722 [03:50<20:37,  9.87it/s]"
     ]
    },
    {
     "name": "stdout",
     "output_type": "stream",
     "text": [
      "Broke for id 2511 The expanded size of the tensor (551) must match the existing size (514) at non-singleton dimension 1.  Target sizes: [1, 551].  Tensor sizes: [1, 514]\n"
     ]
    },
    {
     "name": "stderr",
     "output_type": "stream",
     "text": [
      " 17%|█▋        | 2556/14722 [03:55<18:22, 11.03it/s]"
     ]
    },
    {
     "name": "stdout",
     "output_type": "stream",
     "text": [
      "Broke for id 2559 index out of range in self\n"
     ]
    },
    {
     "name": "stderr",
     "output_type": "stream",
     "text": [
      " 18%|█▊        | 2586/14722 [03:58<21:13,  9.53it/s]"
     ]
    },
    {
     "name": "stdout",
     "output_type": "stream",
     "text": [
      "Broke for id 2590 The expanded size of the tensor (558) must match the existing size (514) at non-singleton dimension 1.  Target sizes: [1, 558].  Tensor sizes: [1, 514]\n"
     ]
    },
    {
     "name": "stderr",
     "output_type": "stream",
     "text": [
      " 19%|█▊        | 2749/14722 [04:14<14:33, 13.70it/s]"
     ]
    },
    {
     "name": "stdout",
     "output_type": "stream",
     "text": [
      "Broke for id 2754 The expanded size of the tensor (546) must match the existing size (514) at non-singleton dimension 1.  Target sizes: [1, 546].  Tensor sizes: [1, 514]\n"
     ]
    },
    {
     "name": "stderr",
     "output_type": "stream",
     "text": [
      " 19%|█▉        | 2764/14722 [04:15<17:15, 11.55it/s]"
     ]
    },
    {
     "name": "stdout",
     "output_type": "stream",
     "text": [
      "Broke for id 2769 The expanded size of the tensor (538) must match the existing size (514) at non-singleton dimension 1.  Target sizes: [1, 538].  Tensor sizes: [1, 514]\n"
     ]
    },
    {
     "name": "stderr",
     "output_type": "stream",
     "text": [
      " 19%|█▉        | 2830/14722 [04:22<14:56, 13.27it/s]"
     ]
    },
    {
     "name": "stdout",
     "output_type": "stream",
     "text": [
      "Broke for id 2836 The expanded size of the tensor (618) must match the existing size (514) at non-singleton dimension 1.  Target sizes: [1, 618].  Tensor sizes: [1, 514]\n"
     ]
    },
    {
     "name": "stderr",
     "output_type": "stream",
     "text": [
      " 20%|██        | 2945/14722 [04:33<16:07, 12.17it/s]"
     ]
    },
    {
     "name": "stdout",
     "output_type": "stream",
     "text": [
      "Broke for id 2950 The expanded size of the tensor (1012) must match the existing size (514) at non-singleton dimension 1.  Target sizes: [1, 1012].  Tensor sizes: [1, 514]\n"
     ]
    },
    {
     "name": "stderr",
     "output_type": "stream",
     "text": [
      " 21%|██        | 3095/14722 [04:47<13:22, 14.49it/s]"
     ]
    },
    {
     "name": "stdout",
     "output_type": "stream",
     "text": [
      "Broke for id 3100 The expanded size of the tensor (572) must match the existing size (514) at non-singleton dimension 1.  Target sizes: [1, 572].  Tensor sizes: [1, 514]\n"
     ]
    },
    {
     "name": "stderr",
     "output_type": "stream",
     "text": [
      " 23%|██▎       | 3429/14722 [05:17<16:46, 11.22it/s]"
     ]
    },
    {
     "name": "stdout",
     "output_type": "stream",
     "text": [
      "Broke for id 3434 The expanded size of the tensor (1012) must match the existing size (514) at non-singleton dimension 1.  Target sizes: [1, 1012].  Tensor sizes: [1, 514]\n"
     ]
    },
    {
     "name": "stderr",
     "output_type": "stream",
     "text": [
      " 23%|██▎       | 3442/14722 [05:18<13:59, 13.43it/s]"
     ]
    },
    {
     "name": "stdout",
     "output_type": "stream",
     "text": [
      "Broke for id 3447 The expanded size of the tensor (1012) must match the existing size (514) at non-singleton dimension 1.  Target sizes: [1, 1012].  Tensor sizes: [1, 514]\n"
     ]
    },
    {
     "name": "stderr",
     "output_type": "stream",
     "text": [
      " 26%|██▌       | 3812/14722 [05:52<14:21, 12.66it/s]"
     ]
    },
    {
     "name": "stdout",
     "output_type": "stream",
     "text": [
      "Broke for id 3820 The expanded size of the tensor (538) must match the existing size (514) at non-singleton dimension 1.  Target sizes: [1, 538].  Tensor sizes: [1, 514]\n"
     ]
    },
    {
     "name": "stderr",
     "output_type": "stream",
     "text": [
      " 26%|██▌       | 3820/14722 [05:52<09:33, 19.00it/s]"
     ]
    },
    {
     "name": "stdout",
     "output_type": "stream",
     "text": [
      "Broke for id 3823 The expanded size of the tensor (733) must match the existing size (514) at non-singleton dimension 1.  Target sizes: [1, 733].  Tensor sizes: [1, 514]\n",
      "Broke for id 3825 The expanded size of the tensor (605) must match the existing size (514) at non-singleton dimension 1.  Target sizes: [1, 605].  Tensor sizes: [1, 514]\n",
      "Broke for id 3826 The expanded size of the tensor (729) must match the existing size (514) at non-singleton dimension 1.  Target sizes: [1, 729].  Tensor sizes: [1, 514]\n"
     ]
    },
    {
     "name": "stderr",
     "output_type": "stream",
     "text": [
      " 26%|██▌       | 3823/14722 [05:52<09:00, 20.17it/s]"
     ]
    },
    {
     "name": "stdout",
     "output_type": "stream",
     "text": [
      "Broke for id 3829 The expanded size of the tensor (538) must match the existing size (514) at non-singleton dimension 1.  Target sizes: [1, 538].  Tensor sizes: [1, 514]\n",
      "Broke for id 3830 The expanded size of the tensor (603) must match the existing size (514) at non-singleton dimension 1.  Target sizes: [1, 603].  Tensor sizes: [1, 514]\n"
     ]
    },
    {
     "name": "stderr",
     "output_type": "stream",
     "text": [
      " 26%|██▌       | 3831/14722 [05:53<09:44, 18.65it/s]"
     ]
    },
    {
     "name": "stdout",
     "output_type": "stream",
     "text": [
      "Broke for id 3833 The expanded size of the tensor (635) must match the existing size (514) at non-singleton dimension 1.  Target sizes: [1, 635].  Tensor sizes: [1, 514]\n",
      "Broke for id 3834 The expanded size of the tensor (1012) must match the existing size (514) at non-singleton dimension 1.  Target sizes: [1, 1012].  Tensor sizes: [1, 514]\n",
      "Broke for id 3835 The expanded size of the tensor (806) must match the existing size (514) at non-singleton dimension 1.  Target sizes: [1, 806].  Tensor sizes: [1, 514]\n",
      "Broke for id 3837 The expanded size of the tensor (636) must match the existing size (514) at non-singleton dimension 1.  Target sizes: [1, 636].  Tensor sizes: [1, 514]\n"
     ]
    },
    {
     "name": "stderr",
     "output_type": "stream",
     "text": [
      " 26%|██▌       | 3836/14722 [05:53<08:48, 20.59it/s]"
     ]
    },
    {
     "name": "stdout",
     "output_type": "stream",
     "text": [
      "Broke for id 3840 The expanded size of the tensor (836) must match the existing size (514) at non-singleton dimension 1.  Target sizes: [1, 836].  Tensor sizes: [1, 514]\n",
      "Broke for id 3841 The expanded size of the tensor (620) must match the existing size (514) at non-singleton dimension 1.  Target sizes: [1, 620].  Tensor sizes: [1, 514]\n",
      "Broke for id 3842 The expanded size of the tensor (549) must match the existing size (514) at non-singleton dimension 1.  Target sizes: [1, 549].  Tensor sizes: [1, 514]\n",
      "Broke for id 3844 The expanded size of the tensor (806) must match the existing size (514) at non-singleton dimension 1.  Target sizes: [1, 806].  Tensor sizes: [1, 514]\n",
      "Broke for id 3845 The expanded size of the tensor (587) must match the existing size (514) at non-singleton dimension 1.  Target sizes: [1, 587].  Tensor sizes: [1, 514]\n",
      "Broke for id 3846 The expanded size of the tensor (603) must match the existing size (514) at non-singleton dimension 1.  Target sizes: [1, 603].  Tensor sizes: [1, 514]\n",
      "Broke for id 3847 The expanded size of the tensor (1012) must match the existing size (514) at non-singleton dimension 1.  Target sizes: [1, 1012].  Tensor sizes: [1, 514]\n",
      "Broke for id 3848 The expanded size of the tensor (636) must match the existing size (514) at non-singleton dimension 1.  Target sizes: [1, 636].  Tensor sizes: [1, 514]\n"
     ]
    },
    {
     "name": "stderr",
     "output_type": "stream",
     "text": [
      " 26%|██▌       | 3855/14722 [05:53<05:05, 35.59it/s]"
     ]
    },
    {
     "name": "stdout",
     "output_type": "stream",
     "text": [
      "Broke for id 3851 The expanded size of the tensor (951) must match the existing size (514) at non-singleton dimension 1.  Target sizes: [1, 951].  Tensor sizes: [1, 514]\n",
      "Broke for id 3853 The expanded size of the tensor (621) must match the existing size (514) at non-singleton dimension 1.  Target sizes: [1, 621].  Tensor sizes: [1, 514]\n",
      "Broke for id 3854 The expanded size of the tensor (836) must match the existing size (514) at non-singleton dimension 1.  Target sizes: [1, 836].  Tensor sizes: [1, 514]\n",
      "Broke for id 3855 The expanded size of the tensor (842) must match the existing size (514) at non-singleton dimension 1.  Target sizes: [1, 842].  Tensor sizes: [1, 514]\n",
      "Broke for id 3856 The expanded size of the tensor (533) must match the existing size (514) at non-singleton dimension 1.  Target sizes: [1, 533].  Tensor sizes: [1, 514]\n",
      "Broke for id 3857 The expanded size of the tensor (617) must match the existing size (514) at non-singleton dimension 1.  Target sizes: [1, 617].  Tensor sizes: [1, 514]\n",
      "Broke for id 3858 The expanded size of the tensor (1012) must match the existing size (514) at non-singleton dimension 1.  Target sizes: [1, 1012].  Tensor sizes: [1, 514]\n",
      "Broke for id 3859 The expanded size of the tensor (599) must match the existing size (514) at non-singleton dimension 1.  Target sizes: [1, 599].  Tensor sizes: [1, 514]\n",
      "Broke for id 3860 The expanded size of the tensor (635) must match the existing size (514) at non-singleton dimension 1.  Target sizes: [1, 635].  Tensor sizes: [1, 514]\n",
      "Broke for id 3861 The expanded size of the tensor (609) must match the existing size (514) at non-singleton dimension 1.  Target sizes: [1, 609].  Tensor sizes: [1, 514]\n",
      "Broke for id 3863 The expanded size of the tensor (1012) must match the existing size (514) at non-singleton dimension 1.  Target sizes: [1, 1012].  Tensor sizes: [1, 514]\n",
      "Broke for id 3864 The expanded size of the tensor (621) must match the existing size (514) at non-singleton dimension 1.  Target sizes: [1, 621].  Tensor sizes: [1, 514]\n",
      "Broke for id 3865 The expanded size of the tensor (538) must match the existing size (514) at non-singleton dimension 1.  Target sizes: [1, 538].  Tensor sizes: [1, 514]\n",
      "Broke for id 3866 The expanded size of the tensor (549) must match the existing size (514) at non-singleton dimension 1.  Target sizes: [1, 549].  Tensor sizes: [1, 514]\n",
      "Broke for id 3867 The expanded size of the tensor (685) must match the existing size (514) at non-singleton dimension 1.  Target sizes: [1, 685].  Tensor sizes: [1, 514]\n",
      "Broke for id 3868 The expanded size of the tensor (725) must match the existing size (514) at non-singleton dimension 1.  Target sizes: [1, 725].  Tensor sizes: [1, 514]\n",
      "Broke for id 3869 The expanded size of the tensor (842) must match the existing size (514) at non-singleton dimension 1.  Target sizes: [1, 842].  Tensor sizes: [1, 514]\n",
      "Broke for id 3870 The expanded size of the tensor (591) must match the existing size (514) at non-singleton dimension 1.  Target sizes: [1, 591].  Tensor sizes: [1, 514]\n",
      "Broke for id 3871 The expanded size of the tensor (709) must match the existing size (514) at non-singleton dimension 1.  Target sizes: [1, 709].  Tensor sizes: [1, 514]\n",
      "Broke for id 3872 The expanded size of the tensor (607) must match the existing size (514) at non-singleton dimension 1.  Target sizes: [1, 607].  Tensor sizes: [1, 514]\n"
     ]
    },
    {
     "name": "stderr",
     "output_type": "stream",
     "text": [
      " 26%|██▋       | 3873/14722 [05:54<04:12, 42.96it/s]"
     ]
    },
    {
     "name": "stdout",
     "output_type": "stream",
     "text": [
      "Broke for id 3875 The expanded size of the tensor (743) must match the existing size (514) at non-singleton dimension 1.  Target sizes: [1, 743].  Tensor sizes: [1, 514]\n",
      "Broke for id 3876 The expanded size of the tensor (731) must match the existing size (514) at non-singleton dimension 1.  Target sizes: [1, 731].  Tensor sizes: [1, 514]\n",
      "Broke for id 3878 The expanded size of the tensor (630) must match the existing size (514) at non-singleton dimension 1.  Target sizes: [1, 630].  Tensor sizes: [1, 514]\n",
      "Broke for id 3880 The expanded size of the tensor (610) must match the existing size (514) at non-singleton dimension 1.  Target sizes: [1, 610].  Tensor sizes: [1, 514]\n",
      "Broke for id 3881 The expanded size of the tensor (799) must match the existing size (514) at non-singleton dimension 1.  Target sizes: [1, 799].  Tensor sizes: [1, 514]\n",
      "Broke for id 3882 The expanded size of the tensor (599) must match the existing size (514) at non-singleton dimension 1.  Target sizes: [1, 599].  Tensor sizes: [1, 514]\n",
      "Broke for id 3883 The expanded size of the tensor (685) must match the existing size (514) at non-singleton dimension 1.  Target sizes: [1, 685].  Tensor sizes: [1, 514]\n"
     ]
    },
    {
     "name": "stderr",
     "output_type": "stream",
     "text": [
      " 26%|██▋       | 3878/14722 [05:54<04:05, 44.12it/s]"
     ]
    },
    {
     "name": "stdout",
     "output_type": "stream",
     "text": [
      "Broke for id 3885 The expanded size of the tensor (646) must match the existing size (514) at non-singleton dimension 1.  Target sizes: [1, 646].  Tensor sizes: [1, 514]\n"
     ]
    },
    {
     "name": "stderr",
     "output_type": "stream",
     "text": [
      " 26%|██▋       | 3887/14722 [05:55<07:39, 23.58it/s]"
     ]
    },
    {
     "name": "stdout",
     "output_type": "stream",
     "text": [
      "Broke for id 3889 The expanded size of the tensor (799) must match the existing size (514) at non-singleton dimension 1.  Target sizes: [1, 799].  Tensor sizes: [1, 514]\n",
      "Broke for id 3891 The expanded size of the tensor (624) must match the existing size (514) at non-singleton dimension 1.  Target sizes: [1, 624].  Tensor sizes: [1, 514]\n",
      "Broke for id 3893 The expanded size of the tensor (532) must match the existing size (514) at non-singleton dimension 1.  Target sizes: [1, 532].  Tensor sizes: [1, 514]\n",
      "Broke for id 3894 The expanded size of the tensor (698) must match the existing size (514) at non-singleton dimension 1.  Target sizes: [1, 698].  Tensor sizes: [1, 514]\n",
      "Broke for id 3895 The expanded size of the tensor (1012) must match the existing size (514) at non-singleton dimension 1.  Target sizes: [1, 1012].  Tensor sizes: [1, 514]\n"
     ]
    },
    {
     "name": "stderr",
     "output_type": "stream",
     "text": [
      " 27%|██▋       | 3903/14722 [05:55<04:20, 41.49it/s]"
     ]
    },
    {
     "name": "stdout",
     "output_type": "stream",
     "text": [
      "Broke for id 3897 The expanded size of the tensor (818) must match the existing size (514) at non-singleton dimension 1.  Target sizes: [1, 818].  Tensor sizes: [1, 514]\n",
      "Broke for id 3898 The expanded size of the tensor (611) must match the existing size (514) at non-singleton dimension 1.  Target sizes: [1, 611].  Tensor sizes: [1, 514]\n",
      "Broke for id 3899 The expanded size of the tensor (1012) must match the existing size (514) at non-singleton dimension 1.  Target sizes: [1, 1012].  Tensor sizes: [1, 514]\n",
      "Broke for id 3900 The expanded size of the tensor (596) must match the existing size (514) at non-singleton dimension 1.  Target sizes: [1, 596].  Tensor sizes: [1, 514]\n",
      "Broke for id 3901 The expanded size of the tensor (691) must match the existing size (514) at non-singleton dimension 1.  Target sizes: [1, 691].  Tensor sizes: [1, 514]\n",
      "Broke for id 3902 The expanded size of the tensor (731) must match the existing size (514) at non-singleton dimension 1.  Target sizes: [1, 731].  Tensor sizes: [1, 514]\n",
      "Broke for id 3903 The expanded size of the tensor (752) must match the existing size (514) at non-singleton dimension 1.  Target sizes: [1, 752].  Tensor sizes: [1, 514]\n",
      "Broke for id 3904 The expanded size of the tensor (672) must match the existing size (514) at non-singleton dimension 1.  Target sizes: [1, 672].  Tensor sizes: [1, 514]\n",
      "Broke for id 3905 The expanded size of the tensor (1012) must match the existing size (514) at non-singleton dimension 1.  Target sizes: [1, 1012].  Tensor sizes: [1, 514]\n",
      "Broke for id 3906 The expanded size of the tensor (611) must match the existing size (514) at non-singleton dimension 1.  Target sizes: [1, 611].  Tensor sizes: [1, 514]\n",
      "Broke for id 3907 The expanded size of the tensor (574) must match the existing size (514) at non-singleton dimension 1.  Target sizes: [1, 574].  Tensor sizes: [1, 514]\n",
      "Broke for id 3908 The expanded size of the tensor (690) must match the existing size (514) at non-singleton dimension 1.  Target sizes: [1, 690].  Tensor sizes: [1, 514]\n",
      "Broke for id 3909 The expanded size of the tensor (538) must match the existing size (514) at non-singleton dimension 1.  Target sizes: [1, 538].  Tensor sizes: [1, 514]\n",
      "Broke for id 3912 The expanded size of the tensor (803) must match the existing size (514) at non-singleton dimension 1.  Target sizes: [1, 803].  Tensor sizes: [1, 514]\n",
      "Broke for id 3913 The expanded size of the tensor (635) must match the existing size (514) at non-singleton dimension 1.  Target sizes: [1, 635].  Tensor sizes: [1, 514]\n",
      "Broke for id 3914 The expanded size of the tensor (627) must match the existing size (514) at non-singleton dimension 1.  Target sizes: [1, 627].  Tensor sizes: [1, 514]\n",
      "Broke for id 3915 The expanded size of the tensor (650) must match the existing size (514) at non-singleton dimension 1.  Target sizes: [1, 650].  Tensor sizes: [1, 514]\n"
     ]
    },
    {
     "name": "stderr",
     "output_type": "stream",
     "text": [
      " 27%|██▋       | 3909/14722 [05:55<06:17, 28.62it/s]"
     ]
    },
    {
     "name": "stdout",
     "output_type": "stream",
     "text": [
      "Broke for id 3918 The expanded size of the tensor (670) must match the existing size (514) at non-singleton dimension 1.  Target sizes: [1, 670].  Tensor sizes: [1, 514]\n",
      "Broke for id 3919 The expanded size of the tensor (627) must match the existing size (514) at non-singleton dimension 1.  Target sizes: [1, 627].  Tensor sizes: [1, 514]\n",
      "Broke for id 3920 The expanded size of the tensor (711) must match the existing size (514) at non-singleton dimension 1.  Target sizes: [1, 711].  Tensor sizes: [1, 514]\n",
      "Broke for id 3921 The expanded size of the tensor (818) must match the existing size (514) at non-singleton dimension 1.  Target sizes: [1, 818].  Tensor sizes: [1, 514]\n",
      "Broke for id 3922 The expanded size of the tensor (596) must match the existing size (514) at non-singleton dimension 1.  Target sizes: [1, 596].  Tensor sizes: [1, 514]\n",
      "Broke for id 3923 The expanded size of the tensor (752) must match the existing size (514) at non-singleton dimension 1.  Target sizes: [1, 752].  Tensor sizes: [1, 514]\n",
      "Broke for id 3924 The expanded size of the tensor (635) must match the existing size (514) at non-singleton dimension 1.  Target sizes: [1, 635].  Tensor sizes: [1, 514]\n",
      "Broke for id 3925 The expanded size of the tensor (672) must match the existing size (514) at non-singleton dimension 1.  Target sizes: [1, 672].  Tensor sizes: [1, 514]\n"
     ]
    },
    {
     "name": "stderr",
     "output_type": "stream",
     "text": [
      " 27%|██▋       | 3919/14722 [05:55<05:51, 30.77it/s]"
     ]
    },
    {
     "name": "stdout",
     "output_type": "stream",
     "text": [
      "Broke for id 3927 The expanded size of the tensor (731) must match the existing size (514) at non-singleton dimension 1.  Target sizes: [1, 731].  Tensor sizes: [1, 514]\n",
      "Broke for id 3928 The expanded size of the tensor (690) must match the existing size (514) at non-singleton dimension 1.  Target sizes: [1, 690].  Tensor sizes: [1, 514]\n"
     ]
    },
    {
     "name": "stderr",
     "output_type": "stream",
     "text": [
      " 27%|██▋       | 3924/14722 [05:56<06:16, 28.66it/s]"
     ]
    },
    {
     "name": "stdout",
     "output_type": "stream",
     "text": [
      "Broke for id 3930 The expanded size of the tensor (574) must match the existing size (514) at non-singleton dimension 1.  Target sizes: [1, 574].  Tensor sizes: [1, 514]\n",
      "Broke for id 3931 The expanded size of the tensor (717) must match the existing size (514) at non-singleton dimension 1.  Target sizes: [1, 717].  Tensor sizes: [1, 514]\n"
     ]
    },
    {
     "name": "stderr",
     "output_type": "stream",
     "text": [
      " 27%|██▋       | 3928/14722 [05:56<09:13, 19.50it/s]"
     ]
    },
    {
     "name": "stdout",
     "output_type": "stream",
     "text": [
      "Broke for id 3936 The expanded size of the tensor (627) must match the existing size (514) at non-singleton dimension 1.  Target sizes: [1, 627].  Tensor sizes: [1, 514]\n",
      "Broke for id 3937 The expanded size of the tensor (582) must match the existing size (514) at non-singleton dimension 1.  Target sizes: [1, 582].  Tensor sizes: [1, 514]\n",
      "Broke for id 3938 The expanded size of the tensor (601) must match the existing size (514) at non-singleton dimension 1.  Target sizes: [1, 601].  Tensor sizes: [1, 514]\n"
     ]
    },
    {
     "name": "stderr",
     "output_type": "stream",
     "text": [
      " 28%|██▊       | 4067/14722 [06:09<19:11,  9.26it/s]"
     ]
    },
    {
     "name": "stdout",
     "output_type": "stream",
     "text": [
      "Broke for id 4079 The expanded size of the tensor (1012) must match the existing size (514) at non-singleton dimension 1.  Target sizes: [1, 1012].  Tensor sizes: [1, 514]\n"
     ]
    },
    {
     "name": "stderr",
     "output_type": "stream",
     "text": [
      " 28%|██▊       | 4138/14722 [06:15<12:53, 13.68it/s]"
     ]
    },
    {
     "name": "stdout",
     "output_type": "stream",
     "text": [
      "Broke for id 4147 The expanded size of the tensor (576) must match the existing size (514) at non-singleton dimension 1.  Target sizes: [1, 576].  Tensor sizes: [1, 514]\n"
     ]
    },
    {
     "name": "stderr",
     "output_type": "stream",
     "text": [
      " 31%|███       | 4592/14722 [07:00<12:38, 13.36it/s]"
     ]
    },
    {
     "name": "stdout",
     "output_type": "stream",
     "text": [
      "Broke for id 4606 The expanded size of the tensor (554) must match the existing size (514) at non-singleton dimension 1.  Target sizes: [1, 554].  Tensor sizes: [1, 514]\n"
     ]
    },
    {
     "name": "stderr",
     "output_type": "stream",
     "text": [
      " 34%|███▍      | 5041/14722 [07:32<08:55, 18.09it/s]"
     ]
    },
    {
     "name": "stdout",
     "output_type": "stream",
     "text": [
      "Broke for id 5054 The expanded size of the tensor (718) must match the existing size (514) at non-singleton dimension 1.  Target sizes: [1, 718].  Tensor sizes: [1, 514]\n",
      "Broke for id 5057 The expanded size of the tensor (1012) must match the existing size (514) at non-singleton dimension 1.  Target sizes: [1, 1012].  Tensor sizes: [1, 514]\n"
     ]
    },
    {
     "name": "stderr",
     "output_type": "stream",
     "text": [
      " 34%|███▍      | 5056/14722 [07:33<11:03, 14.56it/s]"
     ]
    },
    {
     "name": "stdout",
     "output_type": "stream",
     "text": [
      "Broke for id 5072 The expanded size of the tensor (536) must match the existing size (514) at non-singleton dimension 1.  Target sizes: [1, 536].  Tensor sizes: [1, 514]\n"
     ]
    },
    {
     "name": "stderr",
     "output_type": "stream",
     "text": [
      " 35%|███▍      | 5087/14722 [07:36<15:00, 10.70it/s]"
     ]
    },
    {
     "name": "stdout",
     "output_type": "stream",
     "text": [
      "Broke for id 5102 The expanded size of the tensor (878) must match the existing size (514) at non-singleton dimension 1.  Target sizes: [1, 878].  Tensor sizes: [1, 514]\n"
     ]
    },
    {
     "name": "stderr",
     "output_type": "stream",
     "text": [
      " 35%|███▍      | 5126/14722 [07:39<10:44, 14.90it/s]"
     ]
    },
    {
     "name": "stdout",
     "output_type": "stream",
     "text": [
      "Broke for id 5141 The expanded size of the tensor (1012) must match the existing size (514) at non-singleton dimension 1.  Target sizes: [1, 1012].  Tensor sizes: [1, 514]\n"
     ]
    },
    {
     "name": "stderr",
     "output_type": "stream",
     "text": [
      " 35%|███▌      | 5176/14722 [07:43<12:24, 12.82it/s]"
     ]
    },
    {
     "name": "stdout",
     "output_type": "stream",
     "text": [
      "Broke for id 5196 The expanded size of the tensor (562) must match the existing size (514) at non-singleton dimension 1.  Target sizes: [1, 562].  Tensor sizes: [1, 514]\n"
     ]
    },
    {
     "name": "stderr",
     "output_type": "stream",
     "text": [
      " 35%|███▌      | 5195/14722 [07:45<14:27, 10.98it/s]"
     ]
    },
    {
     "name": "stdout",
     "output_type": "stream",
     "text": [
      "Broke for id 5213 The expanded size of the tensor (903) must match the existing size (514) at non-singleton dimension 1.  Target sizes: [1, 903].  Tensor sizes: [1, 514]\n"
     ]
    },
    {
     "name": "stderr",
     "output_type": "stream",
     "text": [
      " 35%|███▌      | 5215/14722 [07:47<13:25, 11.80it/s]"
     ]
    },
    {
     "name": "stdout",
     "output_type": "stream",
     "text": [
      "Broke for id 5233 The expanded size of the tensor (771) must match the existing size (514) at non-singleton dimension 1.  Target sizes: [1, 771].  Tensor sizes: [1, 514]\n"
     ]
    },
    {
     "name": "stderr",
     "output_type": "stream",
     "text": [
      " 36%|███▌      | 5246/14722 [07:50<15:02, 10.50it/s]"
     ]
    },
    {
     "name": "stdout",
     "output_type": "stream",
     "text": [
      "Broke for id 5263 The expanded size of the tensor (1012) must match the existing size (514) at non-singleton dimension 1.  Target sizes: [1, 1012].  Tensor sizes: [1, 514]\n"
     ]
    },
    {
     "name": "stderr",
     "output_type": "stream",
     "text": [
      " 36%|███▌      | 5250/14722 [07:51<13:59, 11.29it/s]"
     ]
    },
    {
     "name": "stdout",
     "output_type": "stream",
     "text": [
      "Broke for id 5271 The expanded size of the tensor (539) must match the existing size (514) at non-singleton dimension 1.  Target sizes: [1, 539].  Tensor sizes: [1, 514]\n"
     ]
    },
    {
     "name": "stderr",
     "output_type": "stream",
     "text": [
      " 36%|███▌      | 5257/14722 [07:51<11:24, 13.82it/s]"
     ]
    },
    {
     "name": "stdout",
     "output_type": "stream",
     "text": [
      "Broke for id 5274 The expanded size of the tensor (577) must match the existing size (514) at non-singleton dimension 1.  Target sizes: [1, 577].  Tensor sizes: [1, 514]\n",
      "Broke for id 5275 The expanded size of the tensor (600) must match the existing size (514) at non-singleton dimension 1.  Target sizes: [1, 600].  Tensor sizes: [1, 514]\n"
     ]
    },
    {
     "name": "stderr",
     "output_type": "stream",
     "text": [
      " 36%|███▌      | 5266/14722 [07:52<11:05, 14.20it/s]"
     ]
    },
    {
     "name": "stdout",
     "output_type": "stream",
     "text": [
      "Broke for id 5284 The expanded size of the tensor (723) must match the existing size (514) at non-singleton dimension 1.  Target sizes: [1, 723].  Tensor sizes: [1, 514]\n"
     ]
    },
    {
     "name": "stderr",
     "output_type": "stream",
     "text": [
      " 36%|███▌      | 5271/14722 [07:52<11:30, 13.70it/s]"
     ]
    },
    {
     "name": "stdout",
     "output_type": "stream",
     "text": [
      "Broke for id 5289 The expanded size of the tensor (557) must match the existing size (514) at non-singleton dimension 1.  Target sizes: [1, 557].  Tensor sizes: [1, 514]\n"
     ]
    },
    {
     "name": "stderr",
     "output_type": "stream",
     "text": [
      " 36%|███▌      | 5314/14722 [07:56<09:22, 16.72it/s]"
     ]
    },
    {
     "name": "stdout",
     "output_type": "stream",
     "text": [
      "Broke for id 5329 The expanded size of the tensor (526) must match the existing size (514) at non-singleton dimension 1.  Target sizes: [1, 526].  Tensor sizes: [1, 514]\n",
      "Broke for id 5331 The expanded size of the tensor (638) must match the existing size (514) at non-singleton dimension 1.  Target sizes: [1, 638].  Tensor sizes: [1, 514]\n",
      "Broke for id 5332 The expanded size of the tensor (683) must match the existing size (514) at non-singleton dimension 1.  Target sizes: [1, 683].  Tensor sizes: [1, 514]\n"
     ]
    },
    {
     "name": "stderr",
     "output_type": "stream",
     "text": [
      " 36%|███▌      | 5320/14722 [07:58<26:57,  5.81it/s]"
     ]
    },
    {
     "name": "stdout",
     "output_type": "stream",
     "text": [
      "Broke for id 5338 The expanded size of the tensor (1012) must match the existing size (514) at non-singleton dimension 1.  Target sizes: [1, 1012].  Tensor sizes: [1, 514]\n"
     ]
    },
    {
     "name": "stderr",
     "output_type": "stream",
     "text": [
      " 36%|███▌      | 5332/14722 [07:59<14:30, 10.79it/s]"
     ]
    },
    {
     "name": "stdout",
     "output_type": "stream",
     "text": [
      "Broke for id 5352 The expanded size of the tensor (1012) must match the existing size (514) at non-singleton dimension 1.  Target sizes: [1, 1012].  Tensor sizes: [1, 514]\n"
     ]
    },
    {
     "name": "stderr",
     "output_type": "stream",
     "text": [
      " 36%|███▋      | 5340/14722 [08:00<13:22, 11.69it/s]"
     ]
    },
    {
     "name": "stdout",
     "output_type": "stream",
     "text": [
      "Broke for id 5358 The expanded size of the tensor (564) must match the existing size (514) at non-singleton dimension 1.  Target sizes: [1, 564].  Tensor sizes: [1, 514]\n"
     ]
    },
    {
     "name": "stderr",
     "output_type": "stream",
     "text": [
      " 36%|███▋      | 5362/14722 [08:02<11:07, 14.03it/s]"
     ]
    },
    {
     "name": "stdout",
     "output_type": "stream",
     "text": [
      "Broke for id 5380 The expanded size of the tensor (1012) must match the existing size (514) at non-singleton dimension 1.  Target sizes: [1, 1012].  Tensor sizes: [1, 514]\n"
     ]
    },
    {
     "name": "stderr",
     "output_type": "stream",
     "text": [
      " 36%|███▋      | 5367/14722 [08:02<12:52, 12.12it/s]"
     ]
    },
    {
     "name": "stdout",
     "output_type": "stream",
     "text": [
      "Broke for id 5385 The expanded size of the tensor (907) must match the existing size (514) at non-singleton dimension 1.  Target sizes: [1, 907].  Tensor sizes: [1, 514]\n"
     ]
    },
    {
     "name": "stderr",
     "output_type": "stream",
     "text": [
      " 37%|███▋      | 5380/14722 [08:04<14:34, 10.68it/s]"
     ]
    },
    {
     "name": "stdout",
     "output_type": "stream",
     "text": [
      "Broke for id 5398 The expanded size of the tensor (863) must match the existing size (514) at non-singleton dimension 1.  Target sizes: [1, 863].  Tensor sizes: [1, 514]\n"
     ]
    },
    {
     "name": "stderr",
     "output_type": "stream",
     "text": [
      " 37%|███▋      | 5389/14722 [08:04<12:11, 12.75it/s]"
     ]
    },
    {
     "name": "stdout",
     "output_type": "stream",
     "text": [
      "Broke for id 5407 The expanded size of the tensor (551) must match the existing size (514) at non-singleton dimension 1.  Target sizes: [1, 551].  Tensor sizes: [1, 514]\n"
     ]
    },
    {
     "name": "stderr",
     "output_type": "stream",
     "text": [
      " 37%|███▋      | 5394/14722 [08:05<10:33, 14.74it/s]"
     ]
    },
    {
     "name": "stdout",
     "output_type": "stream",
     "text": [
      "Broke for id 5411 The expanded size of the tensor (1012) must match the existing size (514) at non-singleton dimension 1.  Target sizes: [1, 1012].  Tensor sizes: [1, 514]\n"
     ]
    },
    {
     "name": "stderr",
     "output_type": "stream",
     "text": [
      " 37%|███▋      | 5425/14722 [08:08<11:32, 13.43it/s]"
     ]
    },
    {
     "name": "stdout",
     "output_type": "stream",
     "text": [
      "Broke for id 5442 The expanded size of the tensor (919) must match the existing size (514) at non-singleton dimension 1.  Target sizes: [1, 919].  Tensor sizes: [1, 514]\n",
      "Broke for id 5445 The expanded size of the tensor (887) must match the existing size (514) at non-singleton dimension 1.  Target sizes: [1, 887].  Tensor sizes: [1, 514]\n"
     ]
    },
    {
     "name": "stderr",
     "output_type": "stream",
     "text": [
      " 37%|███▋      | 5429/14722 [08:08<09:48, 15.79it/s]"
     ]
    },
    {
     "name": "stdout",
     "output_type": "stream",
     "text": [
      "Broke for id 5447 The expanded size of the tensor (828) must match the existing size (514) at non-singleton dimension 1.  Target sizes: [1, 828].  Tensor sizes: [1, 514]\n"
     ]
    },
    {
     "name": "stderr",
     "output_type": "stream",
     "text": [
      " 37%|███▋      | 5435/14722 [08:08<13:52, 11.16it/s]"
     ]
    },
    {
     "name": "stdout",
     "output_type": "stream",
     "text": [
      "Broke for id 5456 The expanded size of the tensor (1012) must match the existing size (514) at non-singleton dimension 1.  Target sizes: [1, 1012].  Tensor sizes: [1, 514]\n"
     ]
    },
    {
     "name": "stderr",
     "output_type": "stream",
     "text": [
      " 37%|███▋      | 5475/14722 [08:12<10:26, 14.75it/s]"
     ]
    },
    {
     "name": "stdout",
     "output_type": "stream",
     "text": [
      "Broke for id 5493 The expanded size of the tensor (599) must match the existing size (514) at non-singleton dimension 1.  Target sizes: [1, 599].  Tensor sizes: [1, 514]\n"
     ]
    },
    {
     "name": "stderr",
     "output_type": "stream",
     "text": [
      " 38%|███▊      | 5625/14722 [08:25<11:28, 13.20it/s]"
     ]
    },
    {
     "name": "stdout",
     "output_type": "stream",
     "text": [
      "Broke for id 5643 The expanded size of the tensor (607) must match the existing size (514) at non-singleton dimension 1.  Target sizes: [1, 607].  Tensor sizes: [1, 514]\n"
     ]
    },
    {
     "name": "stderr",
     "output_type": "stream",
     "text": [
      " 39%|███▉      | 5724/14722 [08:34<09:14, 16.23it/s]"
     ]
    },
    {
     "name": "stdout",
     "output_type": "stream",
     "text": [
      "Broke for id 5741 The expanded size of the tensor (1012) must match the existing size (514) at non-singleton dimension 1.  Target sizes: [1, 1012].  Tensor sizes: [1, 514]\n"
     ]
    },
    {
     "name": "stderr",
     "output_type": "stream",
     "text": [
      " 40%|███▉      | 5828/14722 [08:42<11:03, 13.40it/s]"
     ]
    },
    {
     "name": "stdout",
     "output_type": "stream",
     "text": [
      "Broke for id 5847 The expanded size of the tensor (1012) must match the existing size (514) at non-singleton dimension 1.  Target sizes: [1, 1012].  Tensor sizes: [1, 514]\n"
     ]
    },
    {
     "name": "stderr",
     "output_type": "stream",
     "text": [
      " 41%|████      | 5982/14722 [08:55<09:09, 15.92it/s]"
     ]
    },
    {
     "name": "stdout",
     "output_type": "stream",
     "text": [
      "Broke for id 6000 The expanded size of the tensor (518) must match the existing size (514) at non-singleton dimension 1.  Target sizes: [1, 518].  Tensor sizes: [1, 514]\n"
     ]
    },
    {
     "name": "stderr",
     "output_type": "stream",
     "text": [
      " 41%|████▏     | 6103/14722 [09:06<09:53, 14.52it/s]"
     ]
    },
    {
     "name": "stdout",
     "output_type": "stream",
     "text": [
      "Broke for id 6121 The expanded size of the tensor (1012) must match the existing size (514) at non-singleton dimension 1.  Target sizes: [1, 1012].  Tensor sizes: [1, 514]\n"
     ]
    },
    {
     "name": "stderr",
     "output_type": "stream",
     "text": [
      " 42%|████▏     | 6218/14722 [09:16<09:07, 15.54it/s]"
     ]
    },
    {
     "name": "stdout",
     "output_type": "stream",
     "text": [
      "Broke for id 6236 The expanded size of the tensor (1012) must match the existing size (514) at non-singleton dimension 1.  Target sizes: [1, 1012].  Tensor sizes: [1, 514]\n",
      "Broke for id 6238 The expanded size of the tensor (929) must match the existing size (514) at non-singleton dimension 1.  Target sizes: [1, 929].  Tensor sizes: [1, 514]\n"
     ]
    },
    {
     "name": "stderr",
     "output_type": "stream",
     "text": [
      " 42%|████▏     | 6230/14722 [09:17<09:02, 15.66it/s]"
     ]
    },
    {
     "name": "stdout",
     "output_type": "stream",
     "text": [
      "Broke for id 6248 The expanded size of the tensor (866) must match the existing size (514) at non-singleton dimension 1.  Target sizes: [1, 866].  Tensor sizes: [1, 514]\n"
     ]
    },
    {
     "name": "stderr",
     "output_type": "stream",
     "text": [
      " 42%|████▏     | 6239/14722 [09:17<09:22, 15.08it/s]"
     ]
    },
    {
     "name": "stdout",
     "output_type": "stream",
     "text": [
      "Broke for id 6257 The expanded size of the tensor (1012) must match the existing size (514) at non-singleton dimension 1.  Target sizes: [1, 1012].  Tensor sizes: [1, 514]\n"
     ]
    },
    {
     "name": "stderr",
     "output_type": "stream",
     "text": [
      " 46%|████▌     | 6712/14722 [09:55<09:30, 14.04it/s]"
     ]
    },
    {
     "name": "stdout",
     "output_type": "stream",
     "text": [
      "Broke for id 6729 The expanded size of the tensor (1012) must match the existing size (514) at non-singleton dimension 1.  Target sizes: [1, 1012].  Tensor sizes: [1, 514]\n"
     ]
    },
    {
     "name": "stderr",
     "output_type": "stream",
     "text": [
      " 46%|████▌     | 6779/14722 [10:01<09:21, 14.15it/s]"
     ]
    },
    {
     "name": "stdout",
     "output_type": "stream",
     "text": [
      "Broke for id 6796 The expanded size of the tensor (830) must match the existing size (514) at non-singleton dimension 1.  Target sizes: [1, 830].  Tensor sizes: [1, 514]\n"
     ]
    },
    {
     "name": "stderr",
     "output_type": "stream",
     "text": [
      " 46%|████▋     | 6817/14722 [10:04<12:42, 10.36it/s]"
     ]
    },
    {
     "name": "stdout",
     "output_type": "stream",
     "text": [
      "Broke for id 6836 The expanded size of the tensor (1012) must match the existing size (514) at non-singleton dimension 1.  Target sizes: [1, 1012].  Tensor sizes: [1, 514]\n"
     ]
    },
    {
     "name": "stderr",
     "output_type": "stream",
     "text": [
      " 46%|████▋     | 6833/14722 [10:06<11:36, 11.33it/s]"
     ]
    },
    {
     "name": "stdout",
     "output_type": "stream",
     "text": [
      "Broke for id 6853 The expanded size of the tensor (538) must match the existing size (514) at non-singleton dimension 1.  Target sizes: [1, 538].  Tensor sizes: [1, 514]\n"
     ]
    },
    {
     "name": "stderr",
     "output_type": "stream",
     "text": [
      " 47%|████▋     | 6887/14722 [10:12<12:52, 10.15it/s]"
     ]
    },
    {
     "name": "stdout",
     "output_type": "stream",
     "text": [
      "Broke for id 6906 The expanded size of the tensor (1012) must match the existing size (514) at non-singleton dimension 1.  Target sizes: [1, 1012].  Tensor sizes: [1, 514]\n",
      "Broke for id 6908 The expanded size of the tensor (1012) must match the existing size (514) at non-singleton dimension 1.  Target sizes: [1, 1012].  Tensor sizes: [1, 514]\n"
     ]
    },
    {
     "name": "stderr",
     "output_type": "stream",
     "text": [
      " 47%|████▋     | 6895/14722 [10:13<11:06, 11.75it/s]"
     ]
    },
    {
     "name": "stdout",
     "output_type": "stream",
     "text": [
      "Broke for id 6912 The expanded size of the tensor (1012) must match the existing size (514) at non-singleton dimension 1.  Target sizes: [1, 1012].  Tensor sizes: [1, 514]\n"
     ]
    },
    {
     "name": "stderr",
     "output_type": "stream",
     "text": [
      " 47%|████▋     | 6909/14722 [10:14<13:03,  9.98it/s]"
     ]
    },
    {
     "name": "stdout",
     "output_type": "stream",
     "text": [
      "Broke for id 6927 The expanded size of the tensor (1012) must match the existing size (514) at non-singleton dimension 1.  Target sizes: [1, 1012].  Tensor sizes: [1, 514]\n"
     ]
    },
    {
     "name": "stderr",
     "output_type": "stream",
     "text": [
      " 47%|████▋     | 6914/14722 [10:15<11:42, 11.12it/s]"
     ]
    },
    {
     "name": "stdout",
     "output_type": "stream",
     "text": [
      "Broke for id 6932 The expanded size of the tensor (940) must match the existing size (514) at non-singleton dimension 1.  Target sizes: [1, 940].  Tensor sizes: [1, 514]\n"
     ]
    },
    {
     "name": "stderr",
     "output_type": "stream",
     "text": [
      " 47%|████▋     | 6944/14722 [10:18<10:27, 12.39it/s]"
     ]
    },
    {
     "name": "stdout",
     "output_type": "stream",
     "text": [
      "Broke for id 6962 The expanded size of the tensor (1012) must match the existing size (514) at non-singleton dimension 1.  Target sizes: [1, 1012].  Tensor sizes: [1, 514]\n"
     ]
    },
    {
     "name": "stderr",
     "output_type": "stream",
     "text": [
      " 47%|████▋     | 6967/14722 [10:20<11:25, 11.31it/s]"
     ]
    },
    {
     "name": "stdout",
     "output_type": "stream",
     "text": [
      "Broke for id 6984 The expanded size of the tensor (1012) must match the existing size (514) at non-singleton dimension 1.  Target sizes: [1, 1012].  Tensor sizes: [1, 514]\n"
     ]
    },
    {
     "name": "stderr",
     "output_type": "stream",
     "text": [
      " 47%|████▋     | 6978/14722 [10:21<13:51,  9.32it/s]"
     ]
    },
    {
     "name": "stdout",
     "output_type": "stream",
     "text": [
      "Broke for id 6998 index out of range in self\n"
     ]
    },
    {
     "name": "stderr",
     "output_type": "stream",
     "text": [
      " 48%|████▊     | 6999/14722 [10:24<12:13, 10.52it/s]"
     ]
    },
    {
     "name": "stdout",
     "output_type": "stream",
     "text": [
      "Broke for id 7017 The expanded size of the tensor (535) must match the existing size (514) at non-singleton dimension 1.  Target sizes: [1, 535].  Tensor sizes: [1, 514]\n"
     ]
    },
    {
     "name": "stderr",
     "output_type": "stream",
     "text": [
      " 48%|████▊     | 7008/14722 [10:24<11:11, 11.48it/s]"
     ]
    },
    {
     "name": "stdout",
     "output_type": "stream",
     "text": [
      "Broke for id 7026 The expanded size of the tensor (547) must match the existing size (514) at non-singleton dimension 1.  Target sizes: [1, 547].  Tensor sizes: [1, 514]\n"
     ]
    },
    {
     "name": "stderr",
     "output_type": "stream",
     "text": [
      " 48%|████▊     | 7012/14722 [10:25<10:36, 12.11it/s]"
     ]
    },
    {
     "name": "stdout",
     "output_type": "stream",
     "text": [
      "Broke for id 7030 The expanded size of the tensor (1012) must match the existing size (514) at non-singleton dimension 1.  Target sizes: [1, 1012].  Tensor sizes: [1, 514]\n"
     ]
    },
    {
     "name": "stderr",
     "output_type": "stream",
     "text": [
      " 48%|████▊     | 7050/14722 [10:29<12:46, 10.01it/s]"
     ]
    },
    {
     "name": "stdout",
     "output_type": "stream",
     "text": [
      "Broke for id 7068 The expanded size of the tensor (702) must match the existing size (514) at non-singleton dimension 1.  Target sizes: [1, 702].  Tensor sizes: [1, 514]\n"
     ]
    },
    {
     "name": "stderr",
     "output_type": "stream",
     "text": [
      " 48%|████▊     | 7067/14722 [10:31<11:52, 10.75it/s]"
     ]
    },
    {
     "name": "stdout",
     "output_type": "stream",
     "text": [
      "Broke for id 7085 The expanded size of the tensor (748) must match the existing size (514) at non-singleton dimension 1.  Target sizes: [1, 748].  Tensor sizes: [1, 514]\n"
     ]
    },
    {
     "name": "stderr",
     "output_type": "stream",
     "text": [
      " 48%|████▊     | 7088/14722 [10:33<13:02,  9.75it/s]"
     ]
    },
    {
     "name": "stdout",
     "output_type": "stream",
     "text": [
      "Broke for id 7105 The expanded size of the tensor (778) must match the existing size (514) at non-singleton dimension 1.  Target sizes: [1, 778].  Tensor sizes: [1, 514]\n"
     ]
    },
    {
     "name": "stderr",
     "output_type": "stream",
     "text": [
      " 48%|████▊     | 7110/14722 [10:36<13:51,  9.15it/s]"
     ]
    },
    {
     "name": "stdout",
     "output_type": "stream",
     "text": [
      "Broke for id 7128 The expanded size of the tensor (783) must match the existing size (514) at non-singleton dimension 1.  Target sizes: [1, 783].  Tensor sizes: [1, 514]\n"
     ]
    },
    {
     "name": "stderr",
     "output_type": "stream",
     "text": [
      " 49%|████▉     | 7182/14722 [10:46<13:40,  9.19it/s]"
     ]
    },
    {
     "name": "stdout",
     "output_type": "stream",
     "text": [
      "Broke for id 7200 The expanded size of the tensor (640) must match the existing size (514) at non-singleton dimension 1.  Target sizes: [1, 640].  Tensor sizes: [1, 514]\n"
     ]
    },
    {
     "name": "stderr",
     "output_type": "stream",
     "text": [
      " 49%|████▉     | 7213/14722 [10:50<15:52,  7.88it/s]"
     ]
    },
    {
     "name": "stdout",
     "output_type": "stream",
     "text": [
      "Broke for id 7233 The expanded size of the tensor (1012) must match the existing size (514) at non-singleton dimension 1.  Target sizes: [1, 1012].  Tensor sizes: [1, 514]\n"
     ]
    },
    {
     "name": "stderr",
     "output_type": "stream",
     "text": [
      " 49%|████▉     | 7268/14722 [10:56<15:09,  8.19it/s]"
     ]
    },
    {
     "name": "stdout",
     "output_type": "stream",
     "text": [
      "Broke for id 7288 The expanded size of the tensor (1012) must match the existing size (514) at non-singleton dimension 1.  Target sizes: [1, 1012].  Tensor sizes: [1, 514]\n"
     ]
    },
    {
     "name": "stderr",
     "output_type": "stream",
     "text": [
      " 50%|████▉     | 7338/14722 [11:05<12:06, 10.16it/s]"
     ]
    },
    {
     "name": "stdout",
     "output_type": "stream",
     "text": [
      "Broke for id 7356 The expanded size of the tensor (1012) must match the existing size (514) at non-singleton dimension 1.  Target sizes: [1, 1012].  Tensor sizes: [1, 514]\n"
     ]
    },
    {
     "name": "stderr",
     "output_type": "stream",
     "text": [
      " 50%|█████     | 7364/14722 [11:08<09:33, 12.84it/s]"
     ]
    },
    {
     "name": "stdout",
     "output_type": "stream",
     "text": [
      "Broke for id 7382 The expanded size of the tensor (1012) must match the existing size (514) at non-singleton dimension 1.  Target sizes: [1, 1012].  Tensor sizes: [1, 514]\n"
     ]
    },
    {
     "name": "stderr",
     "output_type": "stream",
     "text": [
      " 50%|█████     | 7382/14722 [11:09<07:36, 16.07it/s]"
     ]
    },
    {
     "name": "stdout",
     "output_type": "stream",
     "text": [
      "Broke for id 7398 The expanded size of the tensor (864) must match the existing size (514) at non-singleton dimension 1.  Target sizes: [1, 864].  Tensor sizes: [1, 514]\n",
      "Broke for id 7399 The expanded size of the tensor (663) must match the existing size (514) at non-singleton dimension 1.  Target sizes: [1, 663].  Tensor sizes: [1, 514]\n"
     ]
    },
    {
     "name": "stderr",
     "output_type": "stream",
     "text": [
      " 50%|█████     | 7394/14722 [11:11<10:24, 11.73it/s]"
     ]
    },
    {
     "name": "stdout",
     "output_type": "stream",
     "text": [
      "Broke for id 7411 The expanded size of the tensor (1012) must match the existing size (514) at non-singleton dimension 1.  Target sizes: [1, 1012].  Tensor sizes: [1, 514]\n"
     ]
    },
    {
     "name": "stderr",
     "output_type": "stream",
     "text": [
      " 50%|█████     | 7428/14722 [11:14<13:55,  8.73it/s]"
     ]
    },
    {
     "name": "stdout",
     "output_type": "stream",
     "text": [
      "Broke for id 7446 The expanded size of the tensor (561) must match the existing size (514) at non-singleton dimension 1.  Target sizes: [1, 561].  Tensor sizes: [1, 514]\n"
     ]
    },
    {
     "name": "stderr",
     "output_type": "stream",
     "text": [
      " 51%|█████     | 7498/14722 [11:24<09:12, 13.06it/s]"
     ]
    },
    {
     "name": "stdout",
     "output_type": "stream",
     "text": [
      "Broke for id 7515 The expanded size of the tensor (885) must match the existing size (514) at non-singleton dimension 1.  Target sizes: [1, 885].  Tensor sizes: [1, 514]\n"
     ]
    },
    {
     "name": "stderr",
     "output_type": "stream",
     "text": [
      " 51%|█████     | 7521/14722 [11:26<09:52, 12.15it/s]"
     ]
    },
    {
     "name": "stdout",
     "output_type": "stream",
     "text": [
      "Broke for id 7539 The expanded size of the tensor (1012) must match the existing size (514) at non-singleton dimension 1.  Target sizes: [1, 1012].  Tensor sizes: [1, 514]\n"
     ]
    },
    {
     "name": "stderr",
     "output_type": "stream",
     "text": [
      " 51%|█████▏    | 7558/14722 [11:30<10:21, 11.53it/s]"
     ]
    },
    {
     "name": "stdout",
     "output_type": "stream",
     "text": [
      "Broke for id 7576 index out of range in self\n"
     ]
    },
    {
     "name": "stderr",
     "output_type": "stream",
     "text": [
      " 51%|█████▏    | 7578/14722 [11:32<13:39,  8.72it/s]"
     ]
    },
    {
     "name": "stdout",
     "output_type": "stream",
     "text": [
      "Broke for id 7598 index out of range in self\n"
     ]
    },
    {
     "name": "stderr",
     "output_type": "stream",
     "text": [
      " 52%|█████▏    | 7597/14722 [11:35<17:21,  6.84it/s]"
     ]
    },
    {
     "name": "stdout",
     "output_type": "stream",
     "text": [
      "Broke for id 7617 The expanded size of the tensor (654) must match the existing size (514) at non-singleton dimension 1.  Target sizes: [1, 654].  Tensor sizes: [1, 514]\n"
     ]
    },
    {
     "name": "stderr",
     "output_type": "stream",
     "text": [
      " 52%|█████▏    | 7606/14722 [11:36<14:09,  8.38it/s]"
     ]
    },
    {
     "name": "stdout",
     "output_type": "stream",
     "text": [
      "Broke for id 7626 The expanded size of the tensor (1012) must match the existing size (514) at non-singleton dimension 1.  Target sizes: [1, 1012].  Tensor sizes: [1, 514]\n"
     ]
    },
    {
     "name": "stderr",
     "output_type": "stream",
     "text": [
      " 52%|█████▏    | 7636/14722 [11:39<12:04,  9.78it/s]"
     ]
    },
    {
     "name": "stdout",
     "output_type": "stream",
     "text": [
      "Broke for id 7654 The expanded size of the tensor (1012) must match the existing size (514) at non-singleton dimension 1.  Target sizes: [1, 1012].  Tensor sizes: [1, 514]\n"
     ]
    },
    {
     "name": "stderr",
     "output_type": "stream",
     "text": [
      " 52%|█████▏    | 7649/14722 [11:40<10:01, 11.76it/s]"
     ]
    },
    {
     "name": "stdout",
     "output_type": "stream",
     "text": [
      "Broke for id 7666 The expanded size of the tensor (712) must match the existing size (514) at non-singleton dimension 1.  Target sizes: [1, 712].  Tensor sizes: [1, 514]\n"
     ]
    },
    {
     "name": "stderr",
     "output_type": "stream",
     "text": [
      " 52%|█████▏    | 7662/14722 [11:42<10:25, 11.29it/s]"
     ]
    },
    {
     "name": "stdout",
     "output_type": "stream",
     "text": [
      "Broke for id 7681 The expanded size of the tensor (688) must match the existing size (514) at non-singleton dimension 1.  Target sizes: [1, 688].  Tensor sizes: [1, 514]\n"
     ]
    },
    {
     "name": "stderr",
     "output_type": "stream",
     "text": [
      " 52%|█████▏    | 7670/14722 [11:43<10:05, 11.64it/s]"
     ]
    },
    {
     "name": "stdout",
     "output_type": "stream",
     "text": [
      "Broke for id 7688 The expanded size of the tensor (980) must match the existing size (514) at non-singleton dimension 1.  Target sizes: [1, 980].  Tensor sizes: [1, 514]\n"
     ]
    },
    {
     "name": "stderr",
     "output_type": "stream",
     "text": [
      " 52%|█████▏    | 7723/14722 [11:48<17:14,  6.76it/s]"
     ]
    },
    {
     "name": "stdout",
     "output_type": "stream",
     "text": [
      "Broke for id 7743 The expanded size of the tensor (776) must match the existing size (514) at non-singleton dimension 1.  Target sizes: [1, 776].  Tensor sizes: [1, 514]\n"
     ]
    },
    {
     "name": "stderr",
     "output_type": "stream",
     "text": [
      " 53%|█████▎    | 7747/14722 [11:52<09:17, 12.51it/s]"
     ]
    },
    {
     "name": "stdout",
     "output_type": "stream",
     "text": [
      "Broke for id 7765 The expanded size of the tensor (861) must match the existing size (514) at non-singleton dimension 1.  Target sizes: [1, 861].  Tensor sizes: [1, 514]\n"
     ]
    },
    {
     "name": "stderr",
     "output_type": "stream",
     "text": [
      " 53%|█████▎    | 7749/14722 [11:52<08:54, 13.05it/s]"
     ]
    },
    {
     "name": "stdout",
     "output_type": "stream",
     "text": [
      "Broke for id 7768 The expanded size of the tensor (742) must match the existing size (514) at non-singleton dimension 1.  Target sizes: [1, 742].  Tensor sizes: [1, 514]\n"
     ]
    },
    {
     "name": "stderr",
     "output_type": "stream",
     "text": [
      " 53%|█████▎    | 7782/14722 [11:56<10:53, 10.62it/s]"
     ]
    },
    {
     "name": "stdout",
     "output_type": "stream",
     "text": [
      "Broke for id 7800 The expanded size of the tensor (577) must match the existing size (514) at non-singleton dimension 1.  Target sizes: [1, 577].  Tensor sizes: [1, 514]\n"
     ]
    },
    {
     "name": "stderr",
     "output_type": "stream",
     "text": [
      " 53%|█████▎    | 7807/14722 [11:59<12:26,  9.26it/s]"
     ]
    },
    {
     "name": "stdout",
     "output_type": "stream",
     "text": [
      "Broke for id 7825 The expanded size of the tensor (577) must match the existing size (514) at non-singleton dimension 1.  Target sizes: [1, 577].  Tensor sizes: [1, 514]\n"
     ]
    },
    {
     "name": "stderr",
     "output_type": "stream",
     "text": [
      " 53%|█████▎    | 7849/14722 [12:03<11:52,  9.64it/s]"
     ]
    },
    {
     "name": "stdout",
     "output_type": "stream",
     "text": [
      "Broke for id 7867 The expanded size of the tensor (1012) must match the existing size (514) at non-singleton dimension 1.  Target sizes: [1, 1012].  Tensor sizes: [1, 514]\n"
     ]
    },
    {
     "name": "stderr",
     "output_type": "stream",
     "text": [
      " 53%|█████▎    | 7859/14722 [12:04<10:54, 10.48it/s]"
     ]
    },
    {
     "name": "stdout",
     "output_type": "stream",
     "text": [
      "Broke for id 7879 The expanded size of the tensor (566) must match the existing size (514) at non-singleton dimension 1.  Target sizes: [1, 566].  Tensor sizes: [1, 514]\n"
     ]
    },
    {
     "name": "stderr",
     "output_type": "stream",
     "text": [
      " 53%|█████▎    | 7863/14722 [12:05<11:30,  9.94it/s]"
     ]
    },
    {
     "name": "stdout",
     "output_type": "stream",
     "text": [
      "Broke for id 7883 The expanded size of the tensor (943) must match the existing size (514) at non-singleton dimension 1.  Target sizes: [1, 943].  Tensor sizes: [1, 514]\n"
     ]
    },
    {
     "name": "stderr",
     "output_type": "stream",
     "text": [
      " 54%|█████▎    | 7877/14722 [12:06<10:34, 10.80it/s]"
     ]
    },
    {
     "name": "stdout",
     "output_type": "stream",
     "text": [
      "Broke for id 7895 The expanded size of the tensor (715) must match the existing size (514) at non-singleton dimension 1.  Target sizes: [1, 715].  Tensor sizes: [1, 514]\n"
     ]
    },
    {
     "name": "stderr",
     "output_type": "stream",
     "text": [
      " 56%|█████▌    | 8214/14722 [12:33<06:08, 17.65it/s]"
     ]
    },
    {
     "name": "stdout",
     "output_type": "stream",
     "text": [
      "Broke for id 8234 The expanded size of the tensor (587) must match the existing size (514) at non-singleton dimension 1.  Target sizes: [1, 587].  Tensor sizes: [1, 514]\n"
     ]
    },
    {
     "name": "stderr",
     "output_type": "stream",
     "text": [
      " 60%|█████▉    | 8827/14722 [13:20<06:18, 15.55it/s]"
     ]
    },
    {
     "name": "stdout",
     "output_type": "stream",
     "text": [
      "Broke for id 8849 The expanded size of the tensor (1012) must match the existing size (514) at non-singleton dimension 1.  Target sizes: [1, 1012].  Tensor sizes: [1, 514]\n"
     ]
    },
    {
     "name": "stderr",
     "output_type": "stream",
     "text": [
      " 62%|██████▏   | 9134/14722 [13:46<07:01, 13.26it/s]"
     ]
    },
    {
     "name": "stdout",
     "output_type": "stream",
     "text": [
      "Broke for id 9156 The expanded size of the tensor (571) must match the existing size (514) at non-singleton dimension 1.  Target sizes: [1, 571].  Tensor sizes: [1, 514]\n"
     ]
    },
    {
     "name": "stderr",
     "output_type": "stream",
     "text": [
      " 63%|██████▎   | 9203/14722 [13:51<06:14, 14.74it/s]"
     ]
    },
    {
     "name": "stdout",
     "output_type": "stream",
     "text": [
      "Broke for id 9224 The expanded size of the tensor (542) must match the existing size (514) at non-singleton dimension 1.  Target sizes: [1, 542].  Tensor sizes: [1, 514]\n"
     ]
    },
    {
     "name": "stderr",
     "output_type": "stream",
     "text": [
      " 64%|██████▍   | 9407/14722 [14:10<05:53, 15.06it/s]"
     ]
    },
    {
     "name": "stdout",
     "output_type": "stream",
     "text": [
      "Broke for id 9428 The expanded size of the tensor (553) must match the existing size (514) at non-singleton dimension 1.  Target sizes: [1, 553].  Tensor sizes: [1, 514]\n",
      "Broke for id 9429 The expanded size of the tensor (706) must match the existing size (514) at non-singleton dimension 1.  Target sizes: [1, 706].  Tensor sizes: [1, 514]\n"
     ]
    },
    {
     "name": "stderr",
     "output_type": "stream",
     "text": [
      " 64%|██████▍   | 9470/14722 [14:16<05:58, 14.63it/s]"
     ]
    },
    {
     "name": "stdout",
     "output_type": "stream",
     "text": [
      "Broke for id 9491 The expanded size of the tensor (689) must match the existing size (514) at non-singleton dimension 1.  Target sizes: [1, 689].  Tensor sizes: [1, 514]\n"
     ]
    },
    {
     "name": "stderr",
     "output_type": "stream",
     "text": [
      " 65%|██████▍   | 9517/14722 [14:20<06:53, 12.58it/s]"
     ]
    },
    {
     "name": "stdout",
     "output_type": "stream",
     "text": [
      "Broke for id 9539 The expanded size of the tensor (529) must match the existing size (514) at non-singleton dimension 1.  Target sizes: [1, 529].  Tensor sizes: [1, 514]\n"
     ]
    },
    {
     "name": "stderr",
     "output_type": "stream",
     "text": [
      " 65%|██████▍   | 9523/14722 [14:20<07:38, 11.34it/s]"
     ]
    },
    {
     "name": "stdout",
     "output_type": "stream",
     "text": [
      "Broke for id 9548 The expanded size of the tensor (1012) must match the existing size (514) at non-singleton dimension 1.  Target sizes: [1, 1012].  Tensor sizes: [1, 514]\n"
     ]
    },
    {
     "name": "stderr",
     "output_type": "stream",
     "text": [
      " 65%|██████▍   | 9530/14722 [14:21<07:51, 11.01it/s]"
     ]
    },
    {
     "name": "stdout",
     "output_type": "stream",
     "text": [
      "Broke for id 9554 The expanded size of the tensor (864) must match the existing size (514) at non-singleton dimension 1.  Target sizes: [1, 864].  Tensor sizes: [1, 514]\n"
     ]
    },
    {
     "name": "stderr",
     "output_type": "stream",
     "text": [
      " 65%|██████▍   | 9537/14722 [14:21<06:33, 13.18it/s]"
     ]
    },
    {
     "name": "stdout",
     "output_type": "stream",
     "text": [
      "Broke for id 9558 The expanded size of the tensor (854) must match the existing size (514) at non-singleton dimension 1.  Target sizes: [1, 854].  Tensor sizes: [1, 514]\n"
     ]
    },
    {
     "name": "stderr",
     "output_type": "stream",
     "text": [
      " 65%|██████▍   | 9544/14722 [14:22<06:03, 14.26it/s]"
     ]
    },
    {
     "name": "stdout",
     "output_type": "stream",
     "text": [
      "Broke for id 9566 The expanded size of the tensor (598) must match the existing size (514) at non-singleton dimension 1.  Target sizes: [1, 598].  Tensor sizes: [1, 514]\n"
     ]
    },
    {
     "name": "stderr",
     "output_type": "stream",
     "text": [
      " 65%|██████▌   | 9575/14722 [14:25<07:17, 11.75it/s]"
     ]
    },
    {
     "name": "stdout",
     "output_type": "stream",
     "text": [
      "Broke for id 9597 The expanded size of the tensor (658) must match the existing size (514) at non-singleton dimension 1.  Target sizes: [1, 658].  Tensor sizes: [1, 514]\n"
     ]
    },
    {
     "name": "stderr",
     "output_type": "stream",
     "text": [
      " 66%|██████▌   | 9647/14722 [14:31<07:02, 12.01it/s]"
     ]
    },
    {
     "name": "stdout",
     "output_type": "stream",
     "text": [
      "Broke for id 9671 The expanded size of the tensor (1012) must match the existing size (514) at non-singleton dimension 1.  Target sizes: [1, 1012].  Tensor sizes: [1, 514]\n"
     ]
    },
    {
     "name": "stderr",
     "output_type": "stream",
     "text": [
      " 66%|██████▌   | 9707/14722 [14:39<09:36,  8.70it/s]"
     ]
    },
    {
     "name": "stdout",
     "output_type": "stream",
     "text": [
      "Broke for id 9729 The expanded size of the tensor (623) must match the existing size (514) at non-singleton dimension 1.  Target sizes: [1, 623].  Tensor sizes: [1, 514]\n"
     ]
    },
    {
     "name": "stderr",
     "output_type": "stream",
     "text": [
      " 66%|██████▌   | 9725/14722 [14:41<06:22, 13.07it/s]"
     ]
    },
    {
     "name": "stdout",
     "output_type": "stream",
     "text": [
      "Broke for id 9744 The expanded size of the tensor (676) must match the existing size (514) at non-singleton dimension 1.  Target sizes: [1, 676].  Tensor sizes: [1, 514]\n",
      "Broke for id 9745 The expanded size of the tensor (614) must match the existing size (514) at non-singleton dimension 1.  Target sizes: [1, 614].  Tensor sizes: [1, 514]\n",
      "Broke for id 9746 The expanded size of the tensor (596) must match the existing size (514) at non-singleton dimension 1.  Target sizes: [1, 596].  Tensor sizes: [1, 514]\n"
     ]
    },
    {
     "name": "stderr",
     "output_type": "stream",
     "text": [
      " 66%|██████▌   | 9727/14722 [14:41<06:08, 13.55it/s]"
     ]
    },
    {
     "name": "stdout",
     "output_type": "stream",
     "text": [
      "Broke for id 9751 The expanded size of the tensor (590) must match the existing size (514) at non-singleton dimension 1.  Target sizes: [1, 590].  Tensor sizes: [1, 514]\n"
     ]
    },
    {
     "name": "stderr",
     "output_type": "stream",
     "text": [
      " 66%|██████▌   | 9735/14722 [14:41<05:55, 14.03it/s]"
     ]
    },
    {
     "name": "stdout",
     "output_type": "stream",
     "text": [
      "Broke for id 9756 The expanded size of the tensor (606) must match the existing size (514) at non-singleton dimension 1.  Target sizes: [1, 606].  Tensor sizes: [1, 514]\n"
     ]
    },
    {
     "name": "stderr",
     "output_type": "stream",
     "text": [
      " 66%|██████▌   | 9738/14722 [14:42<05:27, 15.22it/s]"
     ]
    },
    {
     "name": "stdout",
     "output_type": "stream",
     "text": [
      "Broke for id 9760 The expanded size of the tensor (589) must match the existing size (514) at non-singleton dimension 1.  Target sizes: [1, 589].  Tensor sizes: [1, 514]\n"
     ]
    },
    {
     "name": "stderr",
     "output_type": "stream",
     "text": [
      " 66%|██████▌   | 9745/14722 [14:42<05:07, 16.18it/s]"
     ]
    },
    {
     "name": "stdout",
     "output_type": "stream",
     "text": [
      "Broke for id 9767 The expanded size of the tensor (600) must match the existing size (514) at non-singleton dimension 1.  Target sizes: [1, 600].  Tensor sizes: [1, 514]\n"
     ]
    },
    {
     "name": "stderr",
     "output_type": "stream",
     "text": [
      " 66%|██████▋   | 9756/14722 [14:43<05:16, 15.69it/s]"
     ]
    },
    {
     "name": "stdout",
     "output_type": "stream",
     "text": [
      "Broke for id 9776 The expanded size of the tensor (540) must match the existing size (514) at non-singleton dimension 1.  Target sizes: [1, 540].  Tensor sizes: [1, 514]\n"
     ]
    },
    {
     "name": "stderr",
     "output_type": "stream",
     "text": [
      " 66%|██████▋   | 9762/14722 [14:43<04:21, 18.94it/s]"
     ]
    },
    {
     "name": "stdout",
     "output_type": "stream",
     "text": [
      "Broke for id 9781 The expanded size of the tensor (591) must match the existing size (514) at non-singleton dimension 1.  Target sizes: [1, 591].  Tensor sizes: [1, 514]\n",
      "Broke for id 9783 The expanded size of the tensor (627) must match the existing size (514) at non-singleton dimension 1.  Target sizes: [1, 627].  Tensor sizes: [1, 514]\n"
     ]
    },
    {
     "name": "stderr",
     "output_type": "stream",
     "text": [
      " 66%|██████▋   | 9774/14722 [14:44<06:48, 12.10it/s]"
     ]
    },
    {
     "name": "stdout",
     "output_type": "stream",
     "text": [
      "Broke for id 9795 The expanded size of the tensor (591) must match the existing size (514) at non-singleton dimension 1.  Target sizes: [1, 591].  Tensor sizes: [1, 514]\n"
     ]
    },
    {
     "name": "stderr",
     "output_type": "stream",
     "text": [
      " 66%|██████▋   | 9789/14722 [14:45<05:42, 14.41it/s]"
     ]
    },
    {
     "name": "stdout",
     "output_type": "stream",
     "text": [
      "Broke for id 9811 The expanded size of the tensor (611) must match the existing size (514) at non-singleton dimension 1.  Target sizes: [1, 611].  Tensor sizes: [1, 514]\n"
     ]
    },
    {
     "name": "stderr",
     "output_type": "stream",
     "text": [
      " 67%|██████▋   | 9799/14722 [14:46<05:49, 14.07it/s]"
     ]
    },
    {
     "name": "stdout",
     "output_type": "stream",
     "text": [
      "Broke for id 9821 The expanded size of the tensor (608) must match the existing size (514) at non-singleton dimension 1.  Target sizes: [1, 608].  Tensor sizes: [1, 514]\n"
     ]
    },
    {
     "name": "stderr",
     "output_type": "stream",
     "text": [
      " 67%|██████▋   | 9822/14722 [14:48<05:44, 14.21it/s]"
     ]
    },
    {
     "name": "stdout",
     "output_type": "stream",
     "text": [
      "Broke for id 9844 The expanded size of the tensor (616) must match the existing size (514) at non-singleton dimension 1.  Target sizes: [1, 616].  Tensor sizes: [1, 514]\n",
      "Broke for id 9846 The expanded size of the tensor (607) must match the existing size (514) at non-singleton dimension 1.  Target sizes: [1, 607].  Tensor sizes: [1, 514]\n"
     ]
    },
    {
     "name": "stderr",
     "output_type": "stream",
     "text": [
      " 67%|██████▋   | 9840/14722 [14:49<06:19, 12.87it/s]"
     ]
    },
    {
     "name": "stdout",
     "output_type": "stream",
     "text": [
      "Broke for id 9861 The expanded size of the tensor (620) must match the existing size (514) at non-singleton dimension 1.  Target sizes: [1, 620].  Tensor sizes: [1, 514]\n"
     ]
    },
    {
     "name": "stderr",
     "output_type": "stream",
     "text": [
      " 67%|██████▋   | 9848/14722 [14:50<05:57, 13.63it/s]"
     ]
    },
    {
     "name": "stdout",
     "output_type": "stream",
     "text": [
      "Broke for id 9871 The expanded size of the tensor (594) must match the existing size (514) at non-singleton dimension 1.  Target sizes: [1, 594].  Tensor sizes: [1, 514]\n"
     ]
    },
    {
     "name": "stderr",
     "output_type": "stream",
     "text": [
      " 67%|██████▋   | 9855/14722 [14:51<05:39, 14.32it/s]"
     ]
    },
    {
     "name": "stdout",
     "output_type": "stream",
     "text": [
      "Broke for id 9877 The expanded size of the tensor (579) must match the existing size (514) at non-singleton dimension 1.  Target sizes: [1, 579].  Tensor sizes: [1, 514]\n"
     ]
    },
    {
     "name": "stderr",
     "output_type": "stream",
     "text": [
      " 67%|██████▋   | 9862/14722 [14:51<05:29, 14.75it/s]"
     ]
    },
    {
     "name": "stdout",
     "output_type": "stream",
     "text": [
      "Broke for id 9884 The expanded size of the tensor (578) must match the existing size (514) at non-singleton dimension 1.  Target sizes: [1, 578].  Tensor sizes: [1, 514]\n",
      "Broke for id 9887 The expanded size of the tensor (619) must match the existing size (514) at non-singleton dimension 1.  Target sizes: [1, 619].  Tensor sizes: [1, 514]\n"
     ]
    },
    {
     "name": "stderr",
     "output_type": "stream",
     "text": [
      " 67%|██████▋   | 9882/14722 [14:53<06:28, 12.45it/s]"
     ]
    },
    {
     "name": "stdout",
     "output_type": "stream",
     "text": [
      "Broke for id 9904 The expanded size of the tensor (646) must match the existing size (514) at non-singleton dimension 1.  Target sizes: [1, 646].  Tensor sizes: [1, 514]\n",
      "Broke for id 9905 The expanded size of the tensor (587) must match the existing size (514) at non-singleton dimension 1.  Target sizes: [1, 587].  Tensor sizes: [1, 514]\n"
     ]
    },
    {
     "name": "stderr",
     "output_type": "stream",
     "text": [
      " 67%|██████▋   | 9891/14722 [14:54<05:36, 14.36it/s]"
     ]
    },
    {
     "name": "stdout",
     "output_type": "stream",
     "text": [
      "Broke for id 9913 The expanded size of the tensor (583) must match the existing size (514) at non-singleton dimension 1.  Target sizes: [1, 583].  Tensor sizes: [1, 514]\n",
      "Broke for id 9916 The expanded size of the tensor (579) must match the existing size (514) at non-singleton dimension 1.  Target sizes: [1, 579].  Tensor sizes: [1, 514]\n"
     ]
    },
    {
     "name": "stderr",
     "output_type": "stream",
     "text": [
      " 67%|██████▋   | 9900/14722 [14:54<04:06, 19.53it/s]"
     ]
    },
    {
     "name": "stdout",
     "output_type": "stream",
     "text": [
      "Broke for id 9920 The expanded size of the tensor (789) must match the existing size (514) at non-singleton dimension 1.  Target sizes: [1, 789].  Tensor sizes: [1, 514]\n",
      "Broke for id 9921 The expanded size of the tensor (632) must match the existing size (514) at non-singleton dimension 1.  Target sizes: [1, 632].  Tensor sizes: [1, 514]\n",
      "Broke for id 9923 The expanded size of the tensor (581) must match the existing size (514) at non-singleton dimension 1.  Target sizes: [1, 581].  Tensor sizes: [1, 514]\n"
     ]
    },
    {
     "name": "stderr",
     "output_type": "stream",
     "text": [
      " 67%|██████▋   | 9917/14722 [14:55<05:44, 13.94it/s]"
     ]
    },
    {
     "name": "stdout",
     "output_type": "stream",
     "text": [
      "Broke for id 9939 The expanded size of the tensor (597) must match the existing size (514) at non-singleton dimension 1.  Target sizes: [1, 597].  Tensor sizes: [1, 514]\n"
     ]
    },
    {
     "name": "stderr",
     "output_type": "stream",
     "text": [
      " 67%|██████▋   | 9931/14722 [14:56<06:22, 12.52it/s]"
     ]
    },
    {
     "name": "stdout",
     "output_type": "stream",
     "text": [
      "Broke for id 9954 The expanded size of the tensor (890) must match the existing size (514) at non-singleton dimension 1.  Target sizes: [1, 890].  Tensor sizes: [1, 514]\n"
     ]
    },
    {
     "name": "stderr",
     "output_type": "stream",
     "text": [
      " 68%|██████▊   | 9939/14722 [14:57<06:28, 12.30it/s]"
     ]
    },
    {
     "name": "stdout",
     "output_type": "stream",
     "text": [
      "Broke for id 9961 The expanded size of the tensor (607) must match the existing size (514) at non-singleton dimension 1.  Target sizes: [1, 607].  Tensor sizes: [1, 514]\n"
     ]
    },
    {
     "name": "stderr",
     "output_type": "stream",
     "text": [
      " 68%|██████▊   | 9945/14722 [14:58<07:05, 11.22it/s]"
     ]
    },
    {
     "name": "stdout",
     "output_type": "stream",
     "text": [
      "Broke for id 9967 The expanded size of the tensor (614) must match the existing size (514) at non-singleton dimension 1.  Target sizes: [1, 614].  Tensor sizes: [1, 514]\n"
     ]
    },
    {
     "name": "stderr",
     "output_type": "stream",
     "text": [
      " 68%|██████▊   | 9950/14722 [14:58<05:15, 15.11it/s]"
     ]
    },
    {
     "name": "stdout",
     "output_type": "stream",
     "text": [
      "Broke for id 9972 The expanded size of the tensor (611) must match the existing size (514) at non-singleton dimension 1.  Target sizes: [1, 611].  Tensor sizes: [1, 514]\n"
     ]
    },
    {
     "name": "stderr",
     "output_type": "stream",
     "text": [
      " 68%|██████▊   | 9963/14722 [14:59<04:37, 17.15it/s]"
     ]
    },
    {
     "name": "stdout",
     "output_type": "stream",
     "text": [
      "Broke for id 9984 The expanded size of the tensor (600) must match the existing size (514) at non-singleton dimension 1.  Target sizes: [1, 600].  Tensor sizes: [1, 514]\n",
      "Broke for id 9985 The expanded size of the tensor (592) must match the existing size (514) at non-singleton dimension 1.  Target sizes: [1, 592].  Tensor sizes: [1, 514]\n",
      "Broke for id 9986 The expanded size of the tensor (519) must match the existing size (514) at non-singleton dimension 1.  Target sizes: [1, 519].  Tensor sizes: [1, 514]\n"
     ]
    },
    {
     "name": "stderr",
     "output_type": "stream",
     "text": [
      " 68%|██████▊   | 9978/14722 [15:00<05:35, 14.16it/s]"
     ]
    },
    {
     "name": "stdout",
     "output_type": "stream",
     "text": [
      "Broke for id 10001 The expanded size of the tensor (568) must match the existing size (514) at non-singleton dimension 1.  Target sizes: [1, 568].  Tensor sizes: [1, 514]\n",
      "Broke for id 10003 The expanded size of the tensor (627) must match the existing size (514) at non-singleton dimension 1.  Target sizes: [1, 627].  Tensor sizes: [1, 514]\n"
     ]
    },
    {
     "name": "stderr",
     "output_type": "stream",
     "text": [
      " 68%|██████▊   | 9986/14722 [15:01<05:37, 14.04it/s]"
     ]
    },
    {
     "name": "stdout",
     "output_type": "stream",
     "text": [
      "Broke for id 10010 The expanded size of the tensor (636) must match the existing size (514) at non-singleton dimension 1.  Target sizes: [1, 636].  Tensor sizes: [1, 514]\n",
      "Broke for id 10011 The expanded size of the tensor (628) must match the existing size (514) at non-singleton dimension 1.  Target sizes: [1, 628].  Tensor sizes: [1, 514]\n",
      "Broke for id 10012 The expanded size of the tensor (577) must match the existing size (514) at non-singleton dimension 1.  Target sizes: [1, 577].  Tensor sizes: [1, 514]\n",
      "Broke for id 10013 The expanded size of the tensor (647) must match the existing size (514) at non-singleton dimension 1.  Target sizes: [1, 647].  Tensor sizes: [1, 514]\n"
     ]
    },
    {
     "name": "stderr",
     "output_type": "stream",
     "text": [
      " 68%|██████▊   | 10005/14722 [15:02<04:30, 17.46it/s]"
     ]
    },
    {
     "name": "stdout",
     "output_type": "stream",
     "text": [
      "Broke for id 10026 The expanded size of the tensor (608) must match the existing size (514) at non-singleton dimension 1.  Target sizes: [1, 608].  Tensor sizes: [1, 514]\n",
      "Broke for id 10028 The expanded size of the tensor (595) must match the existing size (514) at non-singleton dimension 1.  Target sizes: [1, 595].  Tensor sizes: [1, 514]\n"
     ]
    },
    {
     "name": "stderr",
     "output_type": "stream",
     "text": [
      " 68%|██████▊   | 10010/14722 [15:02<04:27, 17.58it/s]"
     ]
    },
    {
     "name": "stdout",
     "output_type": "stream",
     "text": [
      "Broke for id 10032 The expanded size of the tensor (930) must match the existing size (514) at non-singleton dimension 1.  Target sizes: [1, 930].  Tensor sizes: [1, 514]\n",
      "Broke for id 10035 The expanded size of the tensor (626) must match the existing size (514) at non-singleton dimension 1.  Target sizes: [1, 626].  Tensor sizes: [1, 514]\n"
     ]
    },
    {
     "name": "stderr",
     "output_type": "stream",
     "text": [
      " 68%|██████▊   | 10014/14722 [15:02<04:15, 18.41it/s]"
     ]
    },
    {
     "name": "stdout",
     "output_type": "stream",
     "text": [
      "Broke for id 10037 The expanded size of the tensor (1012) must match the existing size (514) at non-singleton dimension 1.  Target sizes: [1, 1012].  Tensor sizes: [1, 514]\n"
     ]
    },
    {
     "name": "stderr",
     "output_type": "stream",
     "text": [
      " 68%|██████▊   | 10020/14722 [15:03<04:49, 16.24it/s]"
     ]
    },
    {
     "name": "stdout",
     "output_type": "stream",
     "text": [
      "Broke for id 10042 The expanded size of the tensor (630) must match the existing size (514) at non-singleton dimension 1.  Target sizes: [1, 630].  Tensor sizes: [1, 514]\n"
     ]
    },
    {
     "name": "stderr",
     "output_type": "stream",
     "text": [
      " 68%|██████▊   | 10045/14722 [15:05<06:43, 11.58it/s]"
     ]
    },
    {
     "name": "stdout",
     "output_type": "stream",
     "text": [
      "Broke for id 10068 The expanded size of the tensor (630) must match the existing size (514) at non-singleton dimension 1.  Target sizes: [1, 630].  Tensor sizes: [1, 514]\n"
     ]
    },
    {
     "name": "stderr",
     "output_type": "stream",
     "text": [
      " 68%|██████▊   | 10053/14722 [15:06<06:03, 12.85it/s]"
     ]
    },
    {
     "name": "stdout",
     "output_type": "stream",
     "text": [
      "Broke for id 10076 The expanded size of the tensor (1012) must match the existing size (514) at non-singleton dimension 1.  Target sizes: [1, 1012].  Tensor sizes: [1, 514]\n"
     ]
    },
    {
     "name": "stderr",
     "output_type": "stream",
     "text": [
      " 68%|██████▊   | 10058/14722 [15:06<05:45, 13.51it/s]"
     ]
    },
    {
     "name": "stdout",
     "output_type": "stream",
     "text": [
      "Broke for id 10081 The expanded size of the tensor (628) must match the existing size (514) at non-singleton dimension 1.  Target sizes: [1, 628].  Tensor sizes: [1, 514]\n",
      "Broke for id 10084 The expanded size of the tensor (633) must match the existing size (514) at non-singleton dimension 1.  Target sizes: [1, 633].  Tensor sizes: [1, 514]\n"
     ]
    },
    {
     "name": "stderr",
     "output_type": "stream",
     "text": [
      " 69%|██████▊   | 10114/14722 [15:12<06:45, 11.37it/s]"
     ]
    },
    {
     "name": "stdout",
     "output_type": "stream",
     "text": [
      "Broke for id 10136 The expanded size of the tensor (573) must match the existing size (514) at non-singleton dimension 1.  Target sizes: [1, 573].  Tensor sizes: [1, 514]\n"
     ]
    },
    {
     "name": "stderr",
     "output_type": "stream",
     "text": [
      " 70%|██████▉   | 10233/14722 [15:21<06:12, 12.05it/s]"
     ]
    },
    {
     "name": "stdout",
     "output_type": "stream",
     "text": [
      "Broke for id 10255 The expanded size of the tensor (766) must match the existing size (514) at non-singleton dimension 1.  Target sizes: [1, 766].  Tensor sizes: [1, 514]\n"
     ]
    },
    {
     "name": "stderr",
     "output_type": "stream",
     "text": [
      " 70%|██████▉   | 10258/14722 [15:24<06:31, 11.39it/s]"
     ]
    },
    {
     "name": "stdout",
     "output_type": "stream",
     "text": [
      "Broke for id 10281 The expanded size of the tensor (878) must match the existing size (514) at non-singleton dimension 1.  Target sizes: [1, 878].  Tensor sizes: [1, 514]\n"
     ]
    },
    {
     "name": "stderr",
     "output_type": "stream",
     "text": [
      " 70%|███████   | 10354/14722 [15:32<06:21, 11.46it/s]"
     ]
    },
    {
     "name": "stdout",
     "output_type": "stream",
     "text": [
      "Broke for id 10376 The expanded size of the tensor (665) must match the existing size (514) at non-singleton dimension 1.  Target sizes: [1, 665].  Tensor sizes: [1, 514]\n"
     ]
    },
    {
     "name": "stderr",
     "output_type": "stream",
     "text": [
      " 70%|███████   | 10372/14722 [15:34<08:06,  8.94it/s]"
     ]
    },
    {
     "name": "stdout",
     "output_type": "stream",
     "text": [
      "Broke for id 10397 The expanded size of the tensor (605) must match the existing size (514) at non-singleton dimension 1.  Target sizes: [1, 605].  Tensor sizes: [1, 514]\n"
     ]
    },
    {
     "name": "stderr",
     "output_type": "stream",
     "text": [
      " 71%|███████   | 10388/14722 [15:35<07:42,  9.37it/s]"
     ]
    },
    {
     "name": "stdout",
     "output_type": "stream",
     "text": [
      "Broke for id 10411 The expanded size of the tensor (748) must match the existing size (514) at non-singleton dimension 1.  Target sizes: [1, 748].  Tensor sizes: [1, 514]\n"
     ]
    },
    {
     "name": "stderr",
     "output_type": "stream",
     "text": [
      " 71%|███████   | 10411/14722 [15:38<06:45, 10.63it/s]"
     ]
    },
    {
     "name": "stdout",
     "output_type": "stream",
     "text": [
      "Broke for id 10433 The expanded size of the tensor (730) must match the existing size (514) at non-singleton dimension 1.  Target sizes: [1, 730].  Tensor sizes: [1, 514]\n"
     ]
    },
    {
     "name": "stderr",
     "output_type": "stream",
     "text": [
      " 71%|███████   | 10442/14722 [15:41<06:16, 11.37it/s]"
     ]
    },
    {
     "name": "stdout",
     "output_type": "stream",
     "text": [
      "Broke for id 10465 The expanded size of the tensor (542) must match the existing size (514) at non-singleton dimension 1.  Target sizes: [1, 542].  Tensor sizes: [1, 514]\n"
     ]
    },
    {
     "name": "stderr",
     "output_type": "stream",
     "text": [
      " 71%|███████   | 10447/14722 [15:42<05:32, 12.87it/s]"
     ]
    },
    {
     "name": "stdout",
     "output_type": "stream",
     "text": [
      "Broke for id 10470 The expanded size of the tensor (946) must match the existing size (514) at non-singleton dimension 1.  Target sizes: [1, 946].  Tensor sizes: [1, 514]\n"
     ]
    },
    {
     "name": "stderr",
     "output_type": "stream",
     "text": [
      " 71%|███████   | 10477/14722 [15:47<11:09,  6.34it/s]"
     ]
    },
    {
     "name": "stdout",
     "output_type": "stream",
     "text": [
      "Broke for id 10502 The expanded size of the tensor (826) must match the existing size (514) at non-singleton dimension 1.  Target sizes: [1, 826].  Tensor sizes: [1, 514]\n"
     ]
    },
    {
     "name": "stderr",
     "output_type": "stream",
     "text": [
      " 71%|███████   | 10482/14722 [15:48<08:36,  8.20it/s]"
     ]
    },
    {
     "name": "stdout",
     "output_type": "stream",
     "text": [
      "Broke for id 10507 The expanded size of the tensor (519) must match the existing size (514) at non-singleton dimension 1.  Target sizes: [1, 519].  Tensor sizes: [1, 514]\n",
      "Broke for id 10508 The expanded size of the tensor (925) must match the existing size (514) at non-singleton dimension 1.  Target sizes: [1, 925].  Tensor sizes: [1, 514]\n"
     ]
    },
    {
     "name": "stderr",
     "output_type": "stream",
     "text": [
      " 71%|███████▏  | 10498/14722 [15:49<06:51, 10.27it/s]"
     ]
    },
    {
     "name": "stdout",
     "output_type": "stream",
     "text": [
      "Broke for id 10520 The expanded size of the tensor (862) must match the existing size (514) at non-singleton dimension 1.  Target sizes: [1, 862].  Tensor sizes: [1, 514]\n"
     ]
    },
    {
     "name": "stderr",
     "output_type": "stream",
     "text": [
      " 71%|███████▏  | 10511/14722 [15:51<08:28,  8.27it/s]"
     ]
    },
    {
     "name": "stdout",
     "output_type": "stream",
     "text": [
      "Broke for id 10536 The expanded size of the tensor (541) must match the existing size (514) at non-singleton dimension 1.  Target sizes: [1, 541].  Tensor sizes: [1, 514]\n"
     ]
    },
    {
     "name": "stderr",
     "output_type": "stream",
     "text": [
      " 72%|███████▏  | 10545/14722 [15:55<07:19,  9.51it/s]"
     ]
    },
    {
     "name": "stdout",
     "output_type": "stream",
     "text": [
      "Broke for id 10570 The expanded size of the tensor (753) must match the existing size (514) at non-singleton dimension 1.  Target sizes: [1, 753].  Tensor sizes: [1, 514]\n"
     ]
    },
    {
     "name": "stderr",
     "output_type": "stream",
     "text": [
      " 72%|███████▏  | 10562/14722 [15:58<08:16,  8.39it/s]"
     ]
    },
    {
     "name": "stdout",
     "output_type": "stream",
     "text": [
      "Broke for id 10584 The expanded size of the tensor (957) must match the existing size (514) at non-singleton dimension 1.  Target sizes: [1, 957].  Tensor sizes: [1, 514]\n",
      "Broke for id 10585 The expanded size of the tensor (773) must match the existing size (514) at non-singleton dimension 1.  Target sizes: [1, 773].  Tensor sizes: [1, 514]\n"
     ]
    },
    {
     "name": "stderr",
     "output_type": "stream",
     "text": [
      " 72%|███████▏  | 10576/14722 [16:00<06:40, 10.36it/s]"
     ]
    },
    {
     "name": "stdout",
     "output_type": "stream",
     "text": [
      "Broke for id 10597 The expanded size of the tensor (601) must match the existing size (514) at non-singleton dimension 1.  Target sizes: [1, 601].  Tensor sizes: [1, 514]\n",
      "Broke for id 10599 The expanded size of the tensor (525) must match the existing size (514) at non-singleton dimension 1.  Target sizes: [1, 525].  Tensor sizes: [1, 514]\n"
     ]
    },
    {
     "name": "stderr",
     "output_type": "stream",
     "text": [
      " 72%|███████▏  | 10583/14722 [16:00<05:14, 13.14it/s]"
     ]
    },
    {
     "name": "stdout",
     "output_type": "stream",
     "text": [
      "Broke for id 10604 The expanded size of the tensor (540) must match the existing size (514) at non-singleton dimension 1.  Target sizes: [1, 540].  Tensor sizes: [1, 514]\n",
      "Broke for id 10605 The expanded size of the tensor (622) must match the existing size (514) at non-singleton dimension 1.  Target sizes: [1, 622].  Tensor sizes: [1, 514]\n"
     ]
    },
    {
     "name": "stderr",
     "output_type": "stream",
     "text": [
      " 73%|███████▎  | 10735/14722 [16:14<04:48, 13.81it/s]"
     ]
    },
    {
     "name": "stdout",
     "output_type": "stream",
     "text": [
      "Broke for id 10759 The expanded size of the tensor (647) must match the existing size (514) at non-singleton dimension 1.  Target sizes: [1, 647].  Tensor sizes: [1, 514]\n"
     ]
    },
    {
     "name": "stderr",
     "output_type": "stream",
     "text": [
      " 73%|███████▎  | 10778/14722 [16:19<04:39, 14.12it/s]"
     ]
    },
    {
     "name": "stdout",
     "output_type": "stream",
     "text": [
      "Broke for id 10803 The expanded size of the tensor (602) must match the existing size (514) at non-singleton dimension 1.  Target sizes: [1, 602].  Tensor sizes: [1, 514]\n"
     ]
    },
    {
     "name": "stderr",
     "output_type": "stream",
     "text": [
      " 76%|███████▋  | 11239/14722 [16:58<04:03, 14.33it/s]"
     ]
    },
    {
     "name": "stdout",
     "output_type": "stream",
     "text": [
      "Broke for id 11270 The expanded size of the tensor (696) must match the existing size (514) at non-singleton dimension 1.  Target sizes: [1, 696].  Tensor sizes: [1, 514]\n"
     ]
    },
    {
     "name": "stderr",
     "output_type": "stream",
     "text": [
      " 82%|████████▏ | 12059/14722 [18:12<03:48, 11.65it/s]"
     ]
    },
    {
     "name": "stdout",
     "output_type": "stream",
     "text": [
      "Broke for id 12092 The expanded size of the tensor (771) must match the existing size (514) at non-singleton dimension 1.  Target sizes: [1, 771].  Tensor sizes: [1, 514]\n"
     ]
    },
    {
     "name": "stderr",
     "output_type": "stream",
     "text": [
      " 82%|████████▏ | 12096/14722 [18:15<03:24, 12.84it/s]"
     ]
    },
    {
     "name": "stdout",
     "output_type": "stream",
     "text": [
      "Broke for id 12130 The expanded size of the tensor (702) must match the existing size (514) at non-singleton dimension 1.  Target sizes: [1, 702].  Tensor sizes: [1, 514]\n"
     ]
    },
    {
     "name": "stderr",
     "output_type": "stream",
     "text": [
      " 83%|████████▎ | 12178/14722 [18:23<03:44, 11.32it/s]"
     ]
    },
    {
     "name": "stdout",
     "output_type": "stream",
     "text": [
      "Broke for id 12212 The expanded size of the tensor (519) must match the existing size (514) at non-singleton dimension 1.  Target sizes: [1, 519].  Tensor sizes: [1, 514]\n"
     ]
    },
    {
     "name": "stderr",
     "output_type": "stream",
     "text": [
      " 83%|████████▎ | 12288/14722 [18:34<02:45, 14.67it/s]"
     ]
    },
    {
     "name": "stdout",
     "output_type": "stream",
     "text": [
      "Broke for id 12321 The expanded size of the tensor (584) must match the existing size (514) at non-singleton dimension 1.  Target sizes: [1, 584].  Tensor sizes: [1, 514]\n"
     ]
    },
    {
     "name": "stderr",
     "output_type": "stream",
     "text": [
      " 85%|████████▍ | 12485/14722 [18:53<02:52, 12.94it/s]"
     ]
    },
    {
     "name": "stdout",
     "output_type": "stream",
     "text": [
      "Broke for id 12519 The expanded size of the tensor (563) must match the existing size (514) at non-singleton dimension 1.  Target sizes: [1, 563].  Tensor sizes: [1, 514]\n"
     ]
    },
    {
     "name": "stderr",
     "output_type": "stream",
     "text": [
      " 86%|████████▌ | 12605/14722 [19:02<03:12, 10.98it/s]"
     ]
    },
    {
     "name": "stdout",
     "output_type": "stream",
     "text": [
      "Broke for id 12642 The expanded size of the tensor (579) must match the existing size (514) at non-singleton dimension 1.  Target sizes: [1, 579].  Tensor sizes: [1, 514]\n"
     ]
    },
    {
     "name": "stderr",
     "output_type": "stream",
     "text": [
      " 86%|████████▌ | 12672/14722 [19:07<02:12, 15.52it/s]"
     ]
    },
    {
     "name": "stdout",
     "output_type": "stream",
     "text": [
      "Broke for id 12708 The expanded size of the tensor (659) must match the existing size (514) at non-singleton dimension 1.  Target sizes: [1, 659].  Tensor sizes: [1, 514]\n"
     ]
    },
    {
     "name": "stderr",
     "output_type": "stream",
     "text": [
      " 87%|████████▋ | 12735/14722 [19:13<02:32, 13.04it/s]"
     ]
    },
    {
     "name": "stdout",
     "output_type": "stream",
     "text": [
      "Broke for id 12771 The expanded size of the tensor (1012) must match the existing size (514) at non-singleton dimension 1.  Target sizes: [1, 1012].  Tensor sizes: [1, 514]\n"
     ]
    },
    {
     "name": "stderr",
     "output_type": "stream",
     "text": [
      " 87%|████████▋ | 12740/14722 [19:13<02:19, 14.23it/s]"
     ]
    },
    {
     "name": "stdout",
     "output_type": "stream",
     "text": [
      "Broke for id 12776 The expanded size of the tensor (606) must match the existing size (514) at non-singleton dimension 1.  Target sizes: [1, 606].  Tensor sizes: [1, 514]\n"
     ]
    },
    {
     "name": "stderr",
     "output_type": "stream",
     "text": [
      " 87%|████████▋ | 12864/14722 [19:25<02:00, 15.44it/s]"
     ]
    },
    {
     "name": "stdout",
     "output_type": "stream",
     "text": [
      "Broke for id 12899 The expanded size of the tensor (1012) must match the existing size (514) at non-singleton dimension 1.  Target sizes: [1, 1012].  Tensor sizes: [1, 514]\n"
     ]
    },
    {
     "name": "stderr",
     "output_type": "stream",
     "text": [
      " 88%|████████▊ | 12959/14722 [19:33<02:05, 14.01it/s]"
     ]
    },
    {
     "name": "stdout",
     "output_type": "stream",
     "text": [
      "Broke for id 12994 The expanded size of the tensor (640) must match the existing size (514) at non-singleton dimension 1.  Target sizes: [1, 640].  Tensor sizes: [1, 514]\n"
     ]
    },
    {
     "name": "stderr",
     "output_type": "stream",
     "text": [
      " 89%|████████▊ | 13033/14722 [19:39<02:28, 11.41it/s]"
     ]
    },
    {
     "name": "stdout",
     "output_type": "stream",
     "text": [
      "Broke for id 13068 The expanded size of the tensor (1012) must match the existing size (514) at non-singleton dimension 1.  Target sizes: [1, 1012].  Tensor sizes: [1, 514]\n"
     ]
    },
    {
     "name": "stderr",
     "output_type": "stream",
     "text": [
      " 89%|████████▉ | 13118/14722 [19:46<01:39, 16.15it/s]"
     ]
    },
    {
     "name": "stdout",
     "output_type": "stream",
     "text": [
      "Broke for id 13154 The expanded size of the tensor (598) must match the existing size (514) at non-singleton dimension 1.  Target sizes: [1, 598].  Tensor sizes: [1, 514]\n"
     ]
    },
    {
     "name": "stderr",
     "output_type": "stream",
     "text": [
      " 89%|████████▉ | 13144/14722 [19:48<01:40, 15.66it/s]"
     ]
    },
    {
     "name": "stdout",
     "output_type": "stream",
     "text": [
      "Broke for id 13179 The expanded size of the tensor (1012) must match the existing size (514) at non-singleton dimension 1.  Target sizes: [1, 1012].  Tensor sizes: [1, 514]\n"
     ]
    },
    {
     "name": "stderr",
     "output_type": "stream",
     "text": [
      " 90%|█████████ | 13287/14722 [20:01<01:44, 13.76it/s]"
     ]
    },
    {
     "name": "stdout",
     "output_type": "stream",
     "text": [
      "Broke for id 13322 The expanded size of the tensor (556) must match the existing size (514) at non-singleton dimension 1.  Target sizes: [1, 556].  Tensor sizes: [1, 514]\n"
     ]
    },
    {
     "name": "stderr",
     "output_type": "stream",
     "text": [
      " 90%|█████████ | 13304/14722 [20:02<01:36, 14.77it/s]"
     ]
    },
    {
     "name": "stdout",
     "output_type": "stream",
     "text": [
      "Broke for id 13340 The expanded size of the tensor (528) must match the existing size (514) at non-singleton dimension 1.  Target sizes: [1, 528].  Tensor sizes: [1, 514]\n"
     ]
    },
    {
     "name": "stderr",
     "output_type": "stream",
     "text": [
      " 91%|█████████ | 13385/14722 [20:08<01:17, 17.17it/s]"
     ]
    },
    {
     "name": "stdout",
     "output_type": "stream",
     "text": [
      "Broke for id 13420 The expanded size of the tensor (1012) must match the existing size (514) at non-singleton dimension 1.  Target sizes: [1, 1012].  Tensor sizes: [1, 514]\n"
     ]
    },
    {
     "name": "stderr",
     "output_type": "stream",
     "text": [
      " 91%|█████████▏| 13470/14722 [20:15<01:16, 16.33it/s]"
     ]
    },
    {
     "name": "stdout",
     "output_type": "stream",
     "text": [
      "Broke for id 13506 The expanded size of the tensor (631) must match the existing size (514) at non-singleton dimension 1.  Target sizes: [1, 631].  Tensor sizes: [1, 514]\n"
     ]
    },
    {
     "name": "stderr",
     "output_type": "stream",
     "text": [
      " 92%|█████████▏| 13495/14722 [20:17<01:18, 15.73it/s]"
     ]
    },
    {
     "name": "stdout",
     "output_type": "stream",
     "text": [
      "Broke for id 13532 The expanded size of the tensor (1012) must match the existing size (514) at non-singleton dimension 1.  Target sizes: [1, 1012].  Tensor sizes: [1, 514]\n"
     ]
    },
    {
     "name": "stderr",
     "output_type": "stream",
     "text": [
      " 92%|█████████▏| 13500/14722 [20:17<01:22, 14.78it/s]"
     ]
    },
    {
     "name": "stdout",
     "output_type": "stream",
     "text": [
      "Broke for id 13536 The expanded size of the tensor (668) must match the existing size (514) at non-singleton dimension 1.  Target sizes: [1, 668].  Tensor sizes: [1, 514]\n"
     ]
    },
    {
     "name": "stderr",
     "output_type": "stream",
     "text": [
      " 92%|█████████▏| 13557/14722 [20:22<01:10, 16.45it/s]"
     ]
    },
    {
     "name": "stdout",
     "output_type": "stream",
     "text": [
      "Broke for id 13593 The expanded size of the tensor (749) must match the existing size (514) at non-singleton dimension 1.  Target sizes: [1, 749].  Tensor sizes: [1, 514]\n"
     ]
    },
    {
     "name": "stderr",
     "output_type": "stream",
     "text": [
      " 95%|█████████▍| 13948/14722 [20:50<00:54, 14.16it/s]"
     ]
    },
    {
     "name": "stdout",
     "output_type": "stream",
     "text": [
      "Broke for id 13987 The expanded size of the tensor (743) must match the existing size (514) at non-singleton dimension 1.  Target sizes: [1, 743].  Tensor sizes: [1, 514]\n"
     ]
    },
    {
     "name": "stderr",
     "output_type": "stream",
     "text": [
      " 97%|█████████▋| 14285/14722 [21:20<00:33, 13.14it/s]"
     ]
    },
    {
     "name": "stdout",
     "output_type": "stream",
     "text": [
      "Broke for id 14332 The expanded size of the tensor (1012) must match the existing size (514) at non-singleton dimension 1.  Target sizes: [1, 1012].  Tensor sizes: [1, 514]\n"
     ]
    },
    {
     "name": "stderr",
     "output_type": "stream",
     "text": [
      " 97%|█████████▋| 14317/14722 [21:23<00:40,  9.96it/s]"
     ]
    },
    {
     "name": "stdout",
     "output_type": "stream",
     "text": [
      "Broke for id 14365 The expanded size of the tensor (544) must match the existing size (514) at non-singleton dimension 1.  Target sizes: [1, 544].  Tensor sizes: [1, 514]\n"
     ]
    },
    {
     "name": "stderr",
     "output_type": "stream",
     "text": [
      " 98%|█████████▊| 14365/14722 [21:27<00:29, 12.03it/s]"
     ]
    },
    {
     "name": "stdout",
     "output_type": "stream",
     "text": [
      "Broke for id 14411 The expanded size of the tensor (1012) must match the existing size (514) at non-singleton dimension 1.  Target sizes: [1, 1012].  Tensor sizes: [1, 514]\n"
     ]
    },
    {
     "name": "stderr",
     "output_type": "stream",
     "text": [
      " 98%|█████████▊| 14393/14722 [21:30<00:23, 13.98it/s]"
     ]
    },
    {
     "name": "stdout",
     "output_type": "stream",
     "text": [
      "Broke for id 14439 The expanded size of the tensor (531) must match the existing size (514) at non-singleton dimension 1.  Target sizes: [1, 531].  Tensor sizes: [1, 514]\n"
     ]
    },
    {
     "name": "stderr",
     "output_type": "stream",
     "text": [
      " 99%|█████████▉| 14561/14722 [21:46<00:14, 10.91it/s]"
     ]
    },
    {
     "name": "stdout",
     "output_type": "stream",
     "text": [
      "Broke for id 14609 The expanded size of the tensor (772) must match the existing size (514) at non-singleton dimension 1.  Target sizes: [1, 772].  Tensor sizes: [1, 514]\n"
     ]
    },
    {
     "name": "stderr",
     "output_type": "stream",
     "text": [
      " 99%|█████████▉| 14612/14722 [21:50<00:08, 13.21it/s]"
     ]
    },
    {
     "name": "stdout",
     "output_type": "stream",
     "text": [
      "Broke for id 14662 index out of range in self\n"
     ]
    },
    {
     "name": "stderr",
     "output_type": "stream",
     "text": [
      "100%|█████████▉| 14653/14722 [21:53<00:04, 15.48it/s]"
     ]
    },
    {
     "name": "stdout",
     "output_type": "stream",
     "text": [
      "Broke for id 14703 The expanded size of the tensor (528) must match the existing size (514) at non-singleton dimension 1.  Target sizes: [1, 528].  Tensor sizes: [1, 514]\n"
     ]
    },
    {
     "name": "stderr",
     "output_type": "stream",
     "text": [
      "100%|██████████| 14722/14722 [21:59<00:00, 11.16it/s]\n"
     ]
    }
   ],
   "source": [
    "# Run the polarity score on the entire dataset\n",
    "res = {}\n",
    "for i, row in tqdm(df.iterrows(), total=len(df)):\n",
    "    try:\n",
    "        body = row['post_body']\n",
    "        title = row['post_title']\n",
    "        myid = row['index']\n",
    "        roberta_result_body = polarity_scores_roberta(body, 'post_body')\n",
    "        roberta_result_title = polarity_scores_roberta(title, 'post_title')\n",
    "        res[myid] = {**roberta_result_body, **roberta_result_title}\n",
    "    except (RuntimeError, IndexError) as e:\n",
    "        print(f'Broke for id {myid}', e)"
   ]
  },
  {
   "cell_type": "code",
   "execution_count": 59,
   "metadata": {},
   "outputs": [],
   "source": [
    "results_df = pd.DataFrame(res).T\n",
    "results_df = results_df.reset_index()\n",
    "results_df = results_df.merge(df, how='left')"
   ]
  },
  {
   "cell_type": "code",
   "execution_count": 67,
   "metadata": {},
   "outputs": [
    {
     "data": {
      "text/html": [
       "<div>\n",
       "<style scoped>\n",
       "    .dataframe tbody tr th:only-of-type {\n",
       "        vertical-align: middle;\n",
       "    }\n",
       "\n",
       "    .dataframe tbody tr th {\n",
       "        vertical-align: top;\n",
       "    }\n",
       "\n",
       "    .dataframe thead th {\n",
       "        text-align: right;\n",
       "    }\n",
       "</style>\n",
       "<table border=\"1\" class=\"dataframe\">\n",
       "  <thead>\n",
       "    <tr style=\"text-align: right;\">\n",
       "      <th></th>\n",
       "      <th>index</th>\n",
       "      <th>roberta_neg_post_body</th>\n",
       "      <th>roberta_neu_post_body</th>\n",
       "      <th>roberta_pos_post_body</th>\n",
       "      <th>roberta_compound_post_body</th>\n",
       "      <th>roberta_neg_post_title</th>\n",
       "      <th>roberta_neu_post_title</th>\n",
       "      <th>roberta_pos_post_title</th>\n",
       "      <th>roberta_compound_post_title</th>\n",
       "      <th>subreddit</th>\n",
       "      <th>post_id</th>\n",
       "      <th>post_title</th>\n",
       "      <th>post_score</th>\n",
       "      <th>post_url</th>\n",
       "      <th>post_comms_num</th>\n",
       "      <th>post_body</th>\n",
       "      <th>post_timestamp</th>\n",
       "    </tr>\n",
       "  </thead>\n",
       "  <tbody>\n",
       "    <tr>\n",
       "      <th>0</th>\n",
       "      <td>1</td>\n",
       "      <td>0.171448</td>\n",
       "      <td>0.768685</td>\n",
       "      <td>0.059867</td>\n",
       "      <td>-0.111581</td>\n",
       "      <td>0.013251</td>\n",
       "      <td>0.928738</td>\n",
       "      <td>0.058012</td>\n",
       "      <td>0.044761</td>\n",
       "      <td>television</td>\n",
       "      <td>1gmlvja</td>\n",
       "      <td>watch recommend week november 08 2024</td>\n",
       "      <td>51</td>\n",
       "      <td>https://www.reddit.com/r/television/comments/1...</td>\n",
       "      <td>406</td>\n",
       "      <td>comment sort new default feel free describe sh...</td>\n",
       "      <td>2024-11-08 16:00:12</td>\n",
       "    </tr>\n",
       "    <tr>\n",
       "      <th>1</th>\n",
       "      <td>2</td>\n",
       "      <td>0.101025</td>\n",
       "      <td>0.739353</td>\n",
       "      <td>0.159622</td>\n",
       "      <td>0.058597</td>\n",
       "      <td>0.268124</td>\n",
       "      <td>0.694112</td>\n",
       "      <td>0.037763</td>\n",
       "      <td>-0.230361</td>\n",
       "      <td>television</td>\n",
       "      <td>1gpuzer</td>\n",
       "      <td>kiernan shipka say know go mad man despite eff...</td>\n",
       "      <td>1411</td>\n",
       "      <td>https://people.com/kiernan-shipka-says-she-kne...</td>\n",
       "      <td>74</td>\n",
       "      <td>\" I know brain body decide remember like audit...</td>\n",
       "      <td>2024-11-12 20:45:23</td>\n",
       "    </tr>\n",
       "    <tr>\n",
       "      <th>2</th>\n",
       "      <td>3</td>\n",
       "      <td>0.031195</td>\n",
       "      <td>0.229534</td>\n",
       "      <td>0.739270</td>\n",
       "      <td>0.708075</td>\n",
       "      <td>0.008140</td>\n",
       "      <td>0.296943</td>\n",
       "      <td>0.694917</td>\n",
       "      <td>0.686777</td>\n",
       "      <td>television</td>\n",
       "      <td>1gpkns9</td>\n",
       "      <td>jim gaffigan end time tim walz ' snl ' \" I fee...</td>\n",
       "      <td>943</td>\n",
       "      <td>https://www.hollywoodreporter.com/tv/tv-news/j...</td>\n",
       "      <td>97</td>\n",
       "      <td>\" it expectation maya going continue entire ti...</td>\n",
       "      <td>2024-11-12 13:25:57</td>\n",
       "    </tr>\n",
       "    <tr>\n",
       "      <th>3</th>\n",
       "      <td>4</td>\n",
       "      <td>0.122717</td>\n",
       "      <td>0.428424</td>\n",
       "      <td>0.448859</td>\n",
       "      <td>0.326142</td>\n",
       "      <td>0.013590</td>\n",
       "      <td>0.429056</td>\n",
       "      <td>0.557354</td>\n",
       "      <td>0.543763</td>\n",
       "      <td>television</td>\n",
       "      <td>1gq3tw7</td>\n",
       "      <td>hbo series oz unforgettable character tv</td>\n",
       "      <td>62</td>\n",
       "      <td>https://www.reddit.com/r/television/comments/1...</td>\n",
       "      <td>36</td>\n",
       "      <td>ryan oreilly vern schillinger simon adebisi to...</td>\n",
       "      <td>2024-11-13 03:35:16</td>\n",
       "    </tr>\n",
       "    <tr>\n",
       "      <th>4</th>\n",
       "      <td>5</td>\n",
       "      <td>0.065585</td>\n",
       "      <td>0.878166</td>\n",
       "      <td>0.056249</td>\n",
       "      <td>-0.009336</td>\n",
       "      <td>0.073045</td>\n",
       "      <td>0.879932</td>\n",
       "      <td>0.047023</td>\n",
       "      <td>-0.026022</td>\n",
       "      <td>television</td>\n",
       "      <td>1gq3oj3</td>\n",
       "      <td>st denis medical series premiere discussion</td>\n",
       "      <td>21</td>\n",
       "      <td>https://www.reddit.com/r/television/comments/1...</td>\n",
       "      <td>6</td>\n",
       "      <td>st denis medical premise staff oregon understa...</td>\n",
       "      <td>2024-11-13 03:27:24</td>\n",
       "    </tr>\n",
       "  </tbody>\n",
       "</table>\n",
       "</div>"
      ],
      "text/plain": [
       "   index  roberta_neg_post_body  roberta_neu_post_body  roberta_pos_post_body  \\\n",
       "0      1               0.171448               0.768685               0.059867   \n",
       "1      2               0.101025               0.739353               0.159622   \n",
       "2      3               0.031195               0.229534               0.739270   \n",
       "3      4               0.122717               0.428424               0.448859   \n",
       "4      5               0.065585               0.878166               0.056249   \n",
       "\n",
       "   roberta_compound_post_body  roberta_neg_post_title  roberta_neu_post_title  \\\n",
       "0                   -0.111581                0.013251                0.928738   \n",
       "1                    0.058597                0.268124                0.694112   \n",
       "2                    0.708075                0.008140                0.296943   \n",
       "3                    0.326142                0.013590                0.429056   \n",
       "4                   -0.009336                0.073045                0.879932   \n",
       "\n",
       "   roberta_pos_post_title  roberta_compound_post_title   subreddit  post_id  \\\n",
       "0                0.058012                     0.044761  television  1gmlvja   \n",
       "1                0.037763                    -0.230361  television  1gpuzer   \n",
       "2                0.694917                     0.686777  television  1gpkns9   \n",
       "3                0.557354                     0.543763  television  1gq3tw7   \n",
       "4                0.047023                    -0.026022  television  1gq3oj3   \n",
       "\n",
       "                                          post_title post_score  \\\n",
       "0              watch recommend week november 08 2024         51   \n",
       "1  kiernan shipka say know go mad man despite eff...       1411   \n",
       "2  jim gaffigan end time tim walz ' snl ' \" I fee...        943   \n",
       "3           hbo series oz unforgettable character tv         62   \n",
       "4        st denis medical series premiere discussion         21   \n",
       "\n",
       "                                            post_url post_comms_num  \\\n",
       "0  https://www.reddit.com/r/television/comments/1...            406   \n",
       "1  https://people.com/kiernan-shipka-says-she-kne...             74   \n",
       "2  https://www.hollywoodreporter.com/tv/tv-news/j...             97   \n",
       "3  https://www.reddit.com/r/television/comments/1...             36   \n",
       "4  https://www.reddit.com/r/television/comments/1...              6   \n",
       "\n",
       "                                           post_body       post_timestamp  \n",
       "0  comment sort new default feel free describe sh...  2024-11-08 16:00:12  \n",
       "1  \" I know brain body decide remember like audit...  2024-11-12 20:45:23  \n",
       "2  \" it expectation maya going continue entire ti...  2024-11-12 13:25:57  \n",
       "3  ryan oreilly vern schillinger simon adebisi to...  2024-11-13 03:35:16  \n",
       "4  st denis medical premise staff oregon understa...  2024-11-13 03:27:24  "
      ]
     },
     "execution_count": 67,
     "metadata": {},
     "output_type": "execute_result"
    }
   ],
   "source": [
    "results_df.head()"
   ]
  },
  {
   "cell_type": "code",
   "execution_count": 76,
   "metadata": {},
   "outputs": [],
   "source": [
    "results_df.to_csv(f\"data_training_roberta.csv\", header=True, encoding='utf-8', index=False)"
   ]
  },
  {
   "cell_type": "code",
   "execution_count": 77,
   "metadata": {},
   "outputs": [
    {
     "data": {
      "text/plain": [
       "14381"
      ]
     },
     "execution_count": 77,
     "metadata": {},
     "output_type": "execute_result"
    }
   ],
   "source": [
    "len(results_df)"
   ]
  },
  {
   "cell_type": "markdown",
   "metadata": {},
   "source": [
    "### Naive Feature Extraction"
   ]
  },
  {
   "cell_type": "code",
   "execution_count": 70,
   "metadata": {},
   "outputs": [],
   "source": [
    "from wordcloud import WordCloud,STOPWORDS\n"
   ]
  },
  {
   "cell_type": "code",
   "execution_count": 78,
   "metadata": {},
   "outputs": [
    {
     "name": "stderr",
     "output_type": "stream",
     "text": [
      "/home/reem/crowd-pulse/myenv/lib/python3.10/site-packages/numpy/core/fromnumeric.py:3432: RuntimeWarning: Mean of empty slice.\n",
      "  return _methods._mean(a, axis=axis, dtype=dtype,\n",
      "/home/reem/crowd-pulse/myenv/lib/python3.10/site-packages/numpy/core/_methods.py:190: RuntimeWarning: invalid value encountered in double_scalars\n",
      "  ret = ret.dtype.type(ret / rcount)\n",
      "/home/reem/crowd-pulse/myenv/lib/python3.10/site-packages/numpy/core/fromnumeric.py:3432: RuntimeWarning: Mean of empty slice.\n",
      "  return _methods._mean(a, axis=axis, dtype=dtype,\n",
      "/home/reem/crowd-pulse/myenv/lib/python3.10/site-packages/numpy/core/_methods.py:190: RuntimeWarning: invalid value encountered in double_scalars\n",
      "  ret = ret.dtype.type(ret / rcount)\n"
     ]
    }
   ],
   "source": [
    "results_df['# Of Words_body'] = results_df['post_body'].apply(lambda x: len(x.split(' ')))\n",
    "results_df['# Of StopWords_body'] = results_df['post_body'].apply(lambda x: len([word for word in x.split(' ') if word in list(STOPWORDS)]))\n",
    "results_df['Average Word Length_body'] = results_df['post_body'].apply(lambda x: np.mean(np.array([len(va) for va in x.split(' ') if va not in list(STOPWORDS)])))\n",
    "\n",
    "results_df['# Of Words_title']= results_df['post_title'].apply(lambda x: len(x.split(' ')))\n",
    "results_df['# Of StopWords_title'] = results_df['post_title'].apply(lambda x: len([word for word in x.split(' ') if word in list(STOPWORDS)]))\n",
    "results_df['Average Word Length_title'] = results_df['post_title'].apply(lambda x: np.mean(np.array([len(va) for va in x.split(' ') if va not in list(STOPWORDS)])))"
   ]
  },
  {
   "cell_type": "code",
   "execution_count": 80,
   "metadata": {},
   "outputs": [],
   "source": [
    "results_df.columns\n",
    "df = results_df"
   ]
  },
  {
   "cell_type": "markdown",
   "metadata": {},
   "source": [
    "## EDA"
   ]
  },
  {
   "cell_type": "code",
   "execution_count": 90,
   "metadata": {},
   "outputs": [
    {
     "data": {
      "image/png": "[encoded data removed]",
      "text/plain": [
       "<Figure size 640x480 with 1 Axes>"
      ]
     },
     "metadata": {},
     "output_type": "display_data"
    }
   ],
   "source": [
    "plt.subplot(2,1,1)\n",
    "plt.title('Distriubtion Of Sentiments Across Our Posts',fontsize=16,fontweight='bold')\n",
    "sns.kdeplot(df['roberta_neg_post_title'],bw_method=0.1)\n",
    "sns.kdeplot(df['roberta_pos_post_title'],bw_method=0.1)\n",
    "sns.kdeplot(df['roberta_neu_post_title'],bw_method=0.1)\n",
    "\n",
    "plt.show()"
   ]
  },
  {
   "cell_type": "markdown",
   "metadata": {},
   "source": []
  },
  {
   "cell_type": "code",
   "execution_count": 87,
   "metadata": {},
   "outputs": [
    {
     "data": {
      "image/png": "[encoded data removed]",
      "text/plain": [
       "<Figure size 640x480 with 1 Axes>"
      ]
     },
     "metadata": {},
     "output_type": "display_data"
    }
   ],
   "source": [
    "plt.subplot(2,1,2)\n",
    "plt.title('CDF Of Sentiments Across Our Posts',fontsize=16,fontweight='bold')\n",
    "sns.kdeplot(df['roberta_neg_post_title'],bw_method=0.1,cumulative=True)\n",
    "sns.kdeplot(df['roberta_pos_post_title'],bw_method=0.1,cumulative=True)\n",
    "sns.kdeplot(df['roberta_neu_post_title'],bw_method=0.1,cumulative=True)\n",
    "plt.xlabel('Sentiment Value',fontsize=19)\n",
    "plt.show()"
   ]
  },
  {
   "cell_type": "markdown",
   "metadata": {},
   "source": [
    "Observation: Apparently, The dominant sentiment among the Reddit post titles is by far neutral. Even more, there is a probability of 70% that a post title is classified to be completely neutral."
   ]
  }
 ],
 "metadata": {
  "kernelspec": {
   "display_name": "myenv",
   "language": "python",
   "name": "python3"
  },
  "language_info": {
   "codemirror_mode": {
    "name": "ipython",
    "version": 3
   },
   "file_extension": ".py",
   "mimetype": "text/x-python",
   "name": "python",
   "nbconvert_exporter": "python",
   "pygments_lexer": "ipython3",
   "version": "3.10.15"
  }
 },
 "nbformat": 4,
 "nbformat_minor": 2
}
