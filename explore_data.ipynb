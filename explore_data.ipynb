{
 "cells": [
  {
   "cell_type": "code",
   "execution_count": 1,
   "metadata": {},
   "outputs": [],
   "source": [
    "import pandas as pd"
   ]
  },
  {
   "cell_type": "code",
   "execution_count": 2,
   "metadata": {},
   "outputs": [],
   "source": [
    "df = pd.read_csv('657a09b3-9fba-4281-907a-f7d2a1a8b965headlines.csv')"
   ]
  },
  {
   "cell_type": "code",
   "execution_count": 3,
   "metadata": {},
   "outputs": [
    {
     "data": {
      "text/html": [
       "<div>\n",
       "<style scoped>\n",
       "    .dataframe tbody tr th:only-of-type {\n",
       "        vertical-align: middle;\n",
       "    }\n",
       "\n",
       "    .dataframe tbody tr th {\n",
       "        vertical-align: top;\n",
       "    }\n",
       "\n",
       "    .dataframe thead th {\n",
       "        text-align: right;\n",
       "    }\n",
       "</style>\n",
       "<table border=\"1\" class=\"dataframe\">\n",
       "  <thead>\n",
       "    <tr style=\"text-align: right;\">\n",
       "      <th></th>\n",
       "      <th>UPenn MCIT Online vs. Northeastern ALIGN MSCS vs. UB MSCS</th>\n",
       "      <th>[\"Not a big fan of MS degrees that aren't Computer Science proper. Bad signal to the market.\", 'I think UPenn has an in person option for the MCIT. Would be such a no brainer if it was an MSCS.', 'I’ve done CS in undergrad and got 5 years of engineering experience, IS the way forward for me doing masters because I’m way past CS and coding', 'Yeah they do, I applied and was rejected from the in person program. Apparently the Online one is highly selective too so I was glad I got in there at the least though.', 'Fair enough.']</th>\n",
       "    </tr>\n",
       "  </thead>\n",
       "  <tbody>\n",
       "    <tr>\n",
       "      <th>0</th>\n",
       "      <td>Profile Review for MSCS/MCIT- Fall 24'</td>\n",
       "      <td>['Not to discourage you but your gpa is  . All...</td>\n",
       "    </tr>\n",
       "    <tr>\n",
       "      <th>1</th>\n",
       "      <td>MCIT Online vs NYU Tandon Bridge vs USC Scient...</td>\n",
       "      <td>[]</td>\n",
       "    </tr>\n",
       "    <tr>\n",
       "      <th>2</th>\n",
       "      <td>MSc Computing at Imperial or UCL or MCIT onlin...</td>\n",
       "      <td>['UCL', 'Yep UCL', 'why UCL? I would of said I...</td>\n",
       "    </tr>\n",
       "    <tr>\n",
       "      <th>3</th>\n",
       "      <td>Review my shortlist and need suggestions</td>\n",
       "      <td>['I would recommend giving GRE and then applyi...</td>\n",
       "    </tr>\n",
       "    <tr>\n",
       "      <th>4</th>\n",
       "      <td>Profile evaluation -2025 Fall</td>\n",
       "      <td>['u got way too many ambitious unis in ur list...</td>\n",
       "    </tr>\n",
       "  </tbody>\n",
       "</table>\n",
       "</div>"
      ],
      "text/plain": [
       "  UPenn MCIT Online vs. Northeastern ALIGN MSCS vs. UB MSCS  \\\n",
       "0             Profile Review for MSCS/MCIT- Fall 24'          \n",
       "1  MCIT Online vs NYU Tandon Bridge vs USC Scient...          \n",
       "2  MSc Computing at Imperial or UCL or MCIT onlin...          \n",
       "3           Review my shortlist and need suggestions          \n",
       "4                      Profile evaluation -2025 Fall          \n",
       "\n",
       "  [\"Not a big fan of MS degrees that aren't Computer Science proper. Bad signal to the market.\", 'I think UPenn has an in person option for the MCIT. Would be such a no brainer if it was an MSCS.', 'I’ve done CS in undergrad and got 5 years of engineering experience, IS the way forward for me doing masters because I’m way past CS and coding', 'Yeah they do, I applied and was rejected from the in person program. Apparently the Online one is highly selective too so I was glad I got in there at the least though.', 'Fair enough.']  \n",
       "0  ['Not to discourage you but your gpa is  . All...                                                                                                                                                                                                                                                                                                                                                                                                                                                                                                  \n",
       "1                                                 []                                                                                                                                                                                                                                                                                                                                                                                                                                                                                                  \n",
       "2  ['UCL', 'Yep UCL', 'why UCL? I would of said I...                                                                                                                                                                                                                                                                                                                                                                                                                                                                                                  \n",
       "3  ['I would recommend giving GRE and then applyi...                                                                                                                                                                                                                                                                                                                                                                                                                                                                                                  \n",
       "4  ['u got way too many ambitious unis in ur list...                                                                                                                                                                                                                                                                                                                                                                                                                                                                                                  "
      ]
     },
     "execution_count": 3,
     "metadata": {},
     "output_type": "execute_result"
    }
   ],
   "source": [
    "df.head()"
   ]
  }
 ],
 "metadata": {
  "kernelspec": {
   "display_name": "myenv",
   "language": "python",
   "name": "python3"
  },
  "language_info": {
   "codemirror_mode": {
    "name": "ipython",
    "version": 3
   },
   "file_extension": ".py",
   "mimetype": "text/x-python",
   "name": "python",
   "nbconvert_exporter": "python",
   "pygments_lexer": "ipython3",
   "version": "3.10.7"
  }
 },
 "nbformat": 4,
 "nbformat_minor": 2
}
