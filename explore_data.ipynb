{
 "cells": [
  {
   "cell_type": "code",
   "execution_count": 1,
   "metadata": {},
   "outputs": [],
   "source": [
    "import pandas as pd\n",
    "import numpy as np"
   ]
  },
  {
   "cell_type": "code",
   "execution_count": 2,
   "metadata": {},
   "outputs": [],
   "source": [
    "import matplotlib.pyplot as plt\n",
    "import seaborn as sns"
   ]
  },
  {
   "cell_type": "code",
   "execution_count": 3,
   "metadata": {},
   "outputs": [],
   "source": [
    "plt.style.use('ggplot')\n",
    "import nltk"
   ]
  },
  {
   "cell_type": "code",
   "execution_count": 4,
   "metadata": {},
   "outputs": [],
   "source": [
    "# Explore Data\n",
    "df = pd.read_csv('data/AskReddit_posts_preprocessed.csv')\n",
    "# Drop rows where 'comment_text' is NaN\n",
    "df = df.dropna(subset=['comment_text'])\n"
   ]
  },
  {
   "cell_type": "code",
   "execution_count": 5,
   "metadata": {},
   "outputs": [],
   "source": [
    "# Add an 'index' column\n",
    "df.insert(0, 'index', range(len(df)))  # Adds a column named 'index' at the start\n"
   ]
  },
  {
   "cell_type": "code",
   "execution_count": 6,
   "metadata": {},
   "outputs": [
    {
     "data": {
      "text/html": [
       "<div>\n",
       "<style scoped>\n",
       "    .dataframe tbody tr th:only-of-type {\n",
       "        vertical-align: middle;\n",
       "    }\n",
       "\n",
       "    .dataframe tbody tr th {\n",
       "        vertical-align: top;\n",
       "    }\n",
       "\n",
       "    .dataframe thead th {\n",
       "        text-align: right;\n",
       "    }\n",
       "</style>\n",
       "<table border=\"1\" class=\"dataframe\">\n",
       "  <thead>\n",
       "    <tr style=\"text-align: right;\">\n",
       "      <th></th>\n",
       "      <th>index</th>\n",
       "      <th>subreddit</th>\n",
       "      <th>post_id</th>\n",
       "      <th>post_title</th>\n",
       "      <th>comment_text</th>\n",
       "      <th>comment_score</th>\n",
       "    </tr>\n",
       "  </thead>\n",
       "  <tbody>\n",
       "    <tr>\n",
       "      <th>0</th>\n",
       "      <td>0</td>\n",
       "      <td>AskReddit</td>\n",
       "      <td>1gkk9s3</td>\n",
       "      <td>2024 United States Elections Thread</td>\n",
       "      <td>much pollster predict iowa harris</td>\n",
       "      <td>60</td>\n",
       "    </tr>\n",
       "    <tr>\n",
       "      <th>1</th>\n",
       "      <td>1</td>\n",
       "      <td>AskReddit</td>\n",
       "      <td>1gkk9s3</td>\n",
       "      <td>2024 United States Elections Thread</td>\n",
       "      <td>devastating reminder social medium echo chambe...</td>\n",
       "      <td>180</td>\n",
       "    </tr>\n",
       "    <tr>\n",
       "      <th>2</th>\n",
       "      <td>2</td>\n",
       "      <td>AskReddit</td>\n",
       "      <td>1gkk9s3</td>\n",
       "      <td>2024 United States Elections Thread</td>\n",
       "      <td>often wonder campaign generally waste time we ...</td>\n",
       "      <td>33</td>\n",
       "    </tr>\n",
       "    <tr>\n",
       "      <th>3</th>\n",
       "      <td>3</td>\n",
       "      <td>AskReddit</td>\n",
       "      <td>1gkk9s3</td>\n",
       "      <td>2024 United States Elections Thread</td>\n",
       "      <td>matter win lose get drunk</td>\n",
       "      <td>56</td>\n",
       "    </tr>\n",
       "    <tr>\n",
       "      <th>4</th>\n",
       "      <td>4</td>\n",
       "      <td>AskReddit</td>\n",
       "      <td>1gkk9s3</td>\n",
       "      <td>2024 United States Elections Thread</td>\n",
       "      <td>day election night national holiday regret get...</td>\n",
       "      <td>44</td>\n",
       "    </tr>\n",
       "  </tbody>\n",
       "</table>\n",
       "</div>"
      ],
      "text/plain": [
       "   index  subreddit  post_id                           post_title  \\\n",
       "0      0  AskReddit  1gkk9s3  2024 United States Elections Thread   \n",
       "1      1  AskReddit  1gkk9s3  2024 United States Elections Thread   \n",
       "2      2  AskReddit  1gkk9s3  2024 United States Elections Thread   \n",
       "3      3  AskReddit  1gkk9s3  2024 United States Elections Thread   \n",
       "4      4  AskReddit  1gkk9s3  2024 United States Elections Thread   \n",
       "\n",
       "                                        comment_text  comment_score  \n",
       "0                  much pollster predict iowa harris             60  \n",
       "1  devastating reminder social medium echo chambe...            180  \n",
       "2  often wonder campaign generally waste time we ...             33  \n",
       "3                          matter win lose get drunk             56  \n",
       "4  day election night national holiday regret get...             44  "
      ]
     },
     "execution_count": 6,
     "metadata": {},
     "output_type": "execute_result"
    }
   ],
   "source": [
    "df.head()"
   ]
  },
  {
   "cell_type": "code",
   "execution_count": 7,
   "metadata": {},
   "outputs": [
    {
     "name": "stdout",
     "output_type": "stream",
     "text": [
      "(26160, 6)\n"
     ]
    }
   ],
   "source": [
    "print(df.shape)"
   ]
  },
  {
   "cell_type": "markdown",
   "metadata": {},
   "source": [
    "### EDA: Exploratory Data Analysis"
   ]
  },
  {
   "cell_type": "code",
   "execution_count": 8,
   "metadata": {},
   "outputs": [
    {
     "name": "stderr",
     "output_type": "stream",
     "text": [
      "/var/folders/k8/490lh42x07b9r46c0sf7k9jh0000gn/T/ipykernel_3449/901532118.py:2: FutureWarning: \n",
      "\n",
      "`shade` is now deprecated in favor of `fill`; setting `fill=True`.\n",
      "This will become an error in seaborn v0.14.0; please update your code.\n",
      "\n",
      "  sns.kdeplot(df['comment_score'], shade=True, color=\"skyblue\")\n"
     ]
    },
    {
     "data": {
      "image/png": "[encoded data removed]",
      "text/plain": [
       "<Figure size 1000x600 with 1 Axes>"
      ]
     },
     "metadata": {},
     "output_type": "display_data"
    }
   ],
   "source": [
    "plt.figure(figsize=(10, 6))\n",
    "sns.kdeplot(df['comment_score'], shade=True, color=\"skyblue\")\n",
    "plt.xlabel('Comment Score')\n",
    "plt.ylabel('Density')\n",
    "plt.title('Density Plot of Comment Scores')\n",
    "plt.xlim(-150, 300)\n",
    "plt.show()"
   ]
  },
  {
   "cell_type": "markdown",
   "metadata": {},
   "source": [
    "### Using VADER\n",
    "Though it doesn't count for relationships between words to give sentiment, but it provides a good start"
   ]
  },
  {
   "cell_type": "code",
   "execution_count": 9,
   "metadata": {},
   "outputs": [
    {
     "name": "stdout",
     "output_type": "stream",
     "text": [
      "uk hear trump basically orange bafoon convict rig last election sexual harassment stop immigration building wall bad america vote president\n"
     ]
    }
   ],
   "source": [
    "example = df['comment_text'][100]\n",
    "print(example)"
   ]
  },
  {
   "cell_type": "code",
   "execution_count": 10,
   "metadata": {},
   "outputs": [],
   "source": [
    "from nltk.sentiment import SentimentIntensityAnalyzer\n",
    "from tqdm import tqdm\n",
    "\n",
    "sia = SentimentIntensityAnalyzer()"
   ]
  },
  {
   "cell_type": "code",
   "execution_count": 11,
   "metadata": {},
   "outputs": [
    {
     "data": {
      "text/plain": [
       "{'neg': 0.0, 'neu': 0.334, 'pos': 0.666, 'compound': 0.6115}"
      ]
     },
     "execution_count": 11,
     "metadata": {},
     "output_type": "execute_result"
    }
   ],
   "source": [
    "sia.polarity_scores('I feel so happy' )"
   ]
  },
  {
   "cell_type": "code",
   "execution_count": 12,
   "metadata": {},
   "outputs": [
    {
     "data": {
      "text/plain": [
       "{'neg': 0.401, 'neu': 0.599, 'pos': 0.0, 'compound': -0.8658}"
      ]
     },
     "execution_count": 12,
     "metadata": {},
     "output_type": "execute_result"
    }
   ],
   "source": [
    "sia.polarity_scores(example)"
   ]
  },
  {
   "cell_type": "code",
   "execution_count": 13,
   "metadata": {},
   "outputs": [
    {
     "name": "stderr",
     "output_type": "stream",
     "text": [
      "100%|██████████| 26160/26160 [00:06<00:00, 4295.40it/s]\n"
     ]
    }
   ],
   "source": [
    "# Run the polarity score on the entire dataset\n",
    "res = {}\n",
    "for i, row in tqdm(df.iterrows(), total=len(df)):\n",
    "    text = row['comment_text']\n",
    "    myid = row['index']\n",
    "    res[myid] = sia.polarity_scores(text)"
   ]
  },
  {
   "cell_type": "code",
   "execution_count": 14,
   "metadata": {},
   "outputs": [],
   "source": [
    "vaders = pd.DataFrame(res).T\n",
    "vaders = vaders.reset_index()\n",
    "vaders = vaders.merge(df, how='left')"
   ]
  },
  {
   "cell_type": "code",
   "execution_count": 15,
   "metadata": {},
   "outputs": [
    {
     "data": {
      "text/html": [
       "<div>\n",
       "<style scoped>\n",
       "    .dataframe tbody tr th:only-of-type {\n",
       "        vertical-align: middle;\n",
       "    }\n",
       "\n",
       "    .dataframe tbody tr th {\n",
       "        vertical-align: top;\n",
       "    }\n",
       "\n",
       "    .dataframe thead th {\n",
       "        text-align: right;\n",
       "    }\n",
       "</style>\n",
       "<table border=\"1\" class=\"dataframe\">\n",
       "  <thead>\n",
       "    <tr style=\"text-align: right;\">\n",
       "      <th></th>\n",
       "      <th>index</th>\n",
       "      <th>neg</th>\n",
       "      <th>neu</th>\n",
       "      <th>pos</th>\n",
       "      <th>compound</th>\n",
       "      <th>subreddit</th>\n",
       "      <th>post_id</th>\n",
       "      <th>post_title</th>\n",
       "      <th>comment_text</th>\n",
       "      <th>comment_score</th>\n",
       "    </tr>\n",
       "  </thead>\n",
       "  <tbody>\n",
       "    <tr>\n",
       "      <th>0</th>\n",
       "      <td>0</td>\n",
       "      <td>0.000</td>\n",
       "      <td>1.000</td>\n",
       "      <td>0.000</td>\n",
       "      <td>0.0000</td>\n",
       "      <td>AskReddit</td>\n",
       "      <td>1gkk9s3</td>\n",
       "      <td>2024 United States Elections Thread</td>\n",
       "      <td>much pollster predict iowa harris</td>\n",
       "      <td>60</td>\n",
       "    </tr>\n",
       "    <tr>\n",
       "      <th>1</th>\n",
       "      <td>1</td>\n",
       "      <td>0.323</td>\n",
       "      <td>0.677</td>\n",
       "      <td>0.000</td>\n",
       "      <td>-0.6486</td>\n",
       "      <td>AskReddit</td>\n",
       "      <td>1gkk9s3</td>\n",
       "      <td>2024 United States Elections Thread</td>\n",
       "      <td>devastating reminder social medium echo chambe...</td>\n",
       "      <td>180</td>\n",
       "    </tr>\n",
       "    <tr>\n",
       "      <th>2</th>\n",
       "      <td>2</td>\n",
       "      <td>0.310</td>\n",
       "      <td>0.519</td>\n",
       "      <td>0.171</td>\n",
       "      <td>-0.7506</td>\n",
       "      <td>AskReddit</td>\n",
       "      <td>1gkk9s3</td>\n",
       "      <td>2024 United States Elections Thread</td>\n",
       "      <td>often wonder campaign generally waste time we ...</td>\n",
       "      <td>33</td>\n",
       "    </tr>\n",
       "    <tr>\n",
       "      <th>3</th>\n",
       "      <td>3</td>\n",
       "      <td>0.464</td>\n",
       "      <td>0.091</td>\n",
       "      <td>0.445</td>\n",
       "      <td>-0.0516</td>\n",
       "      <td>AskReddit</td>\n",
       "      <td>1gkk9s3</td>\n",
       "      <td>2024 United States Elections Thread</td>\n",
       "      <td>matter win lose get drunk</td>\n",
       "      <td>56</td>\n",
       "    </tr>\n",
       "    <tr>\n",
       "      <th>4</th>\n",
       "      <td>4</td>\n",
       "      <td>0.181</td>\n",
       "      <td>0.645</td>\n",
       "      <td>0.174</td>\n",
       "      <td>-0.0258</td>\n",
       "      <td>AskReddit</td>\n",
       "      <td>1gkk9s3</td>\n",
       "      <td>2024 United States Elections Thread</td>\n",
       "      <td>day election night national holiday regret get...</td>\n",
       "      <td>44</td>\n",
       "    </tr>\n",
       "  </tbody>\n",
       "</table>\n",
       "</div>"
      ],
      "text/plain": [
       "   index    neg    neu    pos  compound  subreddit  post_id  \\\n",
       "0      0  0.000  1.000  0.000    0.0000  AskReddit  1gkk9s3   \n",
       "1      1  0.323  0.677  0.000   -0.6486  AskReddit  1gkk9s3   \n",
       "2      2  0.310  0.519  0.171   -0.7506  AskReddit  1gkk9s3   \n",
       "3      3  0.464  0.091  0.445   -0.0516  AskReddit  1gkk9s3   \n",
       "4      4  0.181  0.645  0.174   -0.0258  AskReddit  1gkk9s3   \n",
       "\n",
       "                            post_title  \\\n",
       "0  2024 United States Elections Thread   \n",
       "1  2024 United States Elections Thread   \n",
       "2  2024 United States Elections Thread   \n",
       "3  2024 United States Elections Thread   \n",
       "4  2024 United States Elections Thread   \n",
       "\n",
       "                                        comment_text  comment_score  \n",
       "0                  much pollster predict iowa harris             60  \n",
       "1  devastating reminder social medium echo chambe...            180  \n",
       "2  often wonder campaign generally waste time we ...             33  \n",
       "3                          matter win lose get drunk             56  \n",
       "4  day election night national holiday regret get...             44  "
      ]
     },
     "execution_count": 15,
     "metadata": {},
     "output_type": "execute_result"
    }
   ],
   "source": [
    "# Now we have sentiment score and metadata\n",
    "vaders.head()"
   ]
  },
  {
   "cell_type": "code",
   "execution_count": 16,
   "metadata": {},
   "outputs": [
    {
     "data": {
      "text/plain": [
       "index                                                        10014\n",
       "neg                                                            0.0\n",
       "neu                                                          0.839\n",
       "pos                                                          0.161\n",
       "compound                                                    0.3612\n",
       "subreddit                                                AskReddit\n",
       "post_id                                                    1glxhzw\n",
       "post_title       What's a band you liked, but now think they ar...\n",
       "comment_text     simple plan seem resonate like 9th grade sound...\n",
       "comment_score                                                    5\n",
       "Name: 10014, dtype: object"
      ]
     },
     "execution_count": 16,
     "metadata": {},
     "output_type": "execute_result"
    }
   ],
   "source": [
    "vaders.iloc[10014]"
   ]
  },
  {
   "cell_type": "code",
   "execution_count": 17,
   "metadata": {},
   "outputs": [
    {
     "data": {
      "text/plain": [
       "'simple plan seem resonate like 9th grade sound whiny can not bear listen anymore'"
      ]
     },
     "execution_count": 17,
     "metadata": {},
     "output_type": "execute_result"
    }
   ],
   "source": [
    "vaders['comment_text'][10014]"
   ]
  },
  {
   "cell_type": "code",
   "execution_count": 18,
   "metadata": {},
   "outputs": [
    {
     "data": {
      "image/png": "[encoded data removed]",
      "text/plain": [
       "<Figure size 1000x600 with 1 Axes>"
      ]
     },
     "metadata": {},
     "output_type": "display_data"
    }
   ],
   "source": [
    "plt.figure(figsize=(10, 6))\n",
    "\n",
    "# Plot the data\n",
    "plt.scatter(vaders['comment_score'], vaders['compound'], alpha=0.5)\n",
    "\n",
    "# Add labels and title\n",
    "plt.xlabel('Comment Score')\n",
    "plt.ylabel('Sentiment Compound Score')\n",
    "plt.title('Relationship between Comment Score and Sentiment Compound Score')\n",
    "\n",
    "# Show the plot\n",
    "plt.xlim(-150, 300)\n",
    "plt.show()"
   ]
  },
  {
   "cell_type": "code",
   "execution_count": 19,
   "metadata": {},
   "outputs": [
    {
     "data": {
      "text/plain": [
       "0.005095298462201764"
      ]
     },
     "execution_count": 19,
     "metadata": {},
     "output_type": "execute_result"
    }
   ],
   "source": [
    "correlation = vaders['comment_score'].corr(vaders['compound'])\n",
    "correlation\n"
   ]
  },
  {
   "cell_type": "markdown",
   "metadata": {},
   "source": [
    "I think this means that there's no relationship or what so ever between comment score and sentiment"
   ]
  },
  {
   "cell_type": "code",
   "execution_count": 20,
   "metadata": {},
   "outputs": [],
   "source": [
    "vaders_2 = df.drop_duplicates(subset='post_title', keep='first')"
   ]
  },
  {
   "cell_type": "code",
   "execution_count": 21,
   "metadata": {},
   "outputs": [
    {
     "name": "stderr",
     "output_type": "stream",
     "text": [
      "100%|██████████| 100/100 [00:00<00:00, 3181.89it/s]\n"
     ]
    }
   ],
   "source": [
    "# Run the polarity score on the post title of the entire dataset \n",
    "res = {}\n",
    "for i, row in tqdm(vaders_2.iterrows(), total=len(vaders_2)):\n",
    "    text = row['post_title']\n",
    "    res[text] = sia.polarity_scores(text)"
   ]
  },
  {
   "cell_type": "code",
   "execution_count": 22,
   "metadata": {},
   "outputs": [
    {
     "data": {
      "text/html": [
       "<div>\n",
       "<style scoped>\n",
       "    .dataframe tbody tr th:only-of-type {\n",
       "        vertical-align: middle;\n",
       "    }\n",
       "\n",
       "    .dataframe tbody tr th {\n",
       "        vertical-align: top;\n",
       "    }\n",
       "\n",
       "    .dataframe thead th {\n",
       "        text-align: right;\n",
       "    }\n",
       "</style>\n",
       "<table border=\"1\" class=\"dataframe\">\n",
       "  <thead>\n",
       "    <tr style=\"text-align: right;\">\n",
       "      <th></th>\n",
       "      <th>neg</th>\n",
       "      <th>neu</th>\n",
       "      <th>pos</th>\n",
       "      <th>compound</th>\n",
       "    </tr>\n",
       "  </thead>\n",
       "  <tbody>\n",
       "    <tr>\n",
       "      <th>2024 United States Elections Thread</th>\n",
       "      <td>0.000</td>\n",
       "      <td>0.588</td>\n",
       "      <td>0.412</td>\n",
       "      <td>0.4215</td>\n",
       "    </tr>\n",
       "    <tr>\n",
       "      <th>Who is the ideal male role model for young men?</th>\n",
       "      <td>0.000</td>\n",
       "      <td>0.726</td>\n",
       "      <td>0.274</td>\n",
       "      <td>0.5267</td>\n",
       "    </tr>\n",
       "    <tr>\n",
       "      <th>What is the worst pain you’ve EVER felt?</th>\n",
       "      <td>0.552</td>\n",
       "      <td>0.448</td>\n",
       "      <td>0.000</td>\n",
       "      <td>-0.8126</td>\n",
       "    </tr>\n",
       "    <tr>\n",
       "      <th>What’s the biggest fight you’ve gotten into, and what was it about?</th>\n",
       "      <td>0.191</td>\n",
       "      <td>0.809</td>\n",
       "      <td>0.000</td>\n",
       "      <td>-0.3818</td>\n",
       "    </tr>\n",
       "    <tr>\n",
       "      <th>What are you scared of as an adult that you weren’t scared of as a child?</th>\n",
       "      <td>0.309</td>\n",
       "      <td>0.691</td>\n",
       "      <td>0.000</td>\n",
       "      <td>-0.7003</td>\n",
       "    </tr>\n",
       "    <tr>\n",
       "      <th>...</th>\n",
       "      <td>...</td>\n",
       "      <td>...</td>\n",
       "      <td>...</td>\n",
       "      <td>...</td>\n",
       "    </tr>\n",
       "    <tr>\n",
       "      <th>What’s a superstition you absolutely believe?</th>\n",
       "      <td>0.000</td>\n",
       "      <td>1.000</td>\n",
       "      <td>0.000</td>\n",
       "      <td>0.0000</td>\n",
       "    </tr>\n",
       "    <tr>\n",
       "      <th>What are the advantages of being good at swearing and cursing?</th>\n",
       "      <td>0.130</td>\n",
       "      <td>0.519</td>\n",
       "      <td>0.351</td>\n",
       "      <td>0.5267</td>\n",
       "    </tr>\n",
       "    <tr>\n",
       "      <th>What artist or band do you dislike despite their popularity?</th>\n",
       "      <td>0.392</td>\n",
       "      <td>0.608</td>\n",
       "      <td>0.000</td>\n",
       "      <td>-0.6315</td>\n",
       "    </tr>\n",
       "    <tr>\n",
       "      <th>What are your pets currently doing?</th>\n",
       "      <td>0.000</td>\n",
       "      <td>1.000</td>\n",
       "      <td>0.000</td>\n",
       "      <td>0.0000</td>\n",
       "    </tr>\n",
       "    <tr>\n",
       "      <th>What is the most awkward thing that ever happened to you?</th>\n",
       "      <td>0.159</td>\n",
       "      <td>0.841</td>\n",
       "      <td>0.000</td>\n",
       "      <td>-0.2247</td>\n",
       "    </tr>\n",
       "  </tbody>\n",
       "</table>\n",
       "<p>100 rows × 4 columns</p>\n",
       "</div>"
      ],
      "text/plain": [
       "                                                      neg    neu    pos  \\\n",
       "2024 United States Elections Thread                 0.000  0.588  0.412   \n",
       "Who is the ideal male role model for young men?     0.000  0.726  0.274   \n",
       "What is the worst pain you’ve EVER felt?            0.552  0.448  0.000   \n",
       "What’s the biggest fight you’ve gotten into, an...  0.191  0.809  0.000   \n",
       "What are you scared of as an adult that you wer...  0.309  0.691  0.000   \n",
       "...                                                   ...    ...    ...   \n",
       "What’s a superstition you absolutely believe?       0.000  1.000  0.000   \n",
       "What are the advantages of being good at sweari...  0.130  0.519  0.351   \n",
       "What artist or band do you dislike despite thei...  0.392  0.608  0.000   \n",
       "What are your pets currently doing?                 0.000  1.000  0.000   \n",
       "What is the most awkward thing that ever happen...  0.159  0.841  0.000   \n",
       "\n",
       "                                                    compound  \n",
       "2024 United States Elections Thread                   0.4215  \n",
       "Who is the ideal male role model for young men?       0.5267  \n",
       "What is the worst pain you’ve EVER felt?             -0.8126  \n",
       "What’s the biggest fight you’ve gotten into, an...   -0.3818  \n",
       "What are you scared of as an adult that you wer...   -0.7003  \n",
       "...                                                      ...  \n",
       "What’s a superstition you absolutely believe?         0.0000  \n",
       "What are the advantages of being good at sweari...    0.5267  \n",
       "What artist or band do you dislike despite thei...   -0.6315  \n",
       "What are your pets currently doing?                   0.0000  \n",
       "What is the most awkward thing that ever happen...   -0.2247  \n",
       "\n",
       "[100 rows x 4 columns]"
      ]
     },
     "execution_count": 22,
     "metadata": {},
     "output_type": "execute_result"
    }
   ],
   "source": [
    "vaders_2 = pd.DataFrame(res).T\n",
    "vaders_2"
   ]
  },
  {
   "cell_type": "code",
   "execution_count": 23,
   "metadata": {},
   "outputs": [
    {
     "data": {
      "text/html": [
       "<div>\n",
       "<style scoped>\n",
       "    .dataframe tbody tr th:only-of-type {\n",
       "        vertical-align: middle;\n",
       "    }\n",
       "\n",
       "    .dataframe tbody tr th {\n",
       "        vertical-align: top;\n",
       "    }\n",
       "\n",
       "    .dataframe thead th {\n",
       "        text-align: right;\n",
       "    }\n",
       "</style>\n",
       "<table border=\"1\" class=\"dataframe\">\n",
       "  <thead>\n",
       "    <tr style=\"text-align: right;\">\n",
       "      <th></th>\n",
       "      <th>index</th>\n",
       "      <th>neg</th>\n",
       "      <th>neu</th>\n",
       "      <th>pos</th>\n",
       "      <th>compound</th>\n",
       "      <th>subreddit</th>\n",
       "      <th>post_id</th>\n",
       "      <th>post_title</th>\n",
       "      <th>comment_text</th>\n",
       "      <th>comment_score</th>\n",
       "    </tr>\n",
       "  </thead>\n",
       "  <tbody>\n",
       "    <tr>\n",
       "      <th>0</th>\n",
       "      <td>0</td>\n",
       "      <td>0.000</td>\n",
       "      <td>1.000</td>\n",
       "      <td>0.000</td>\n",
       "      <td>0.0000</td>\n",
       "      <td>AskReddit</td>\n",
       "      <td>1gkk9s3</td>\n",
       "      <td>2024 United States Elections Thread</td>\n",
       "      <td>much pollster predict iowa harris</td>\n",
       "      <td>60</td>\n",
       "    </tr>\n",
       "    <tr>\n",
       "      <th>1</th>\n",
       "      <td>1</td>\n",
       "      <td>0.323</td>\n",
       "      <td>0.677</td>\n",
       "      <td>0.000</td>\n",
       "      <td>-0.6486</td>\n",
       "      <td>AskReddit</td>\n",
       "      <td>1gkk9s3</td>\n",
       "      <td>2024 United States Elections Thread</td>\n",
       "      <td>devastating reminder social medium echo chambe...</td>\n",
       "      <td>180</td>\n",
       "    </tr>\n",
       "    <tr>\n",
       "      <th>2</th>\n",
       "      <td>2</td>\n",
       "      <td>0.310</td>\n",
       "      <td>0.519</td>\n",
       "      <td>0.171</td>\n",
       "      <td>-0.7506</td>\n",
       "      <td>AskReddit</td>\n",
       "      <td>1gkk9s3</td>\n",
       "      <td>2024 United States Elections Thread</td>\n",
       "      <td>often wonder campaign generally waste time we ...</td>\n",
       "      <td>33</td>\n",
       "    </tr>\n",
       "    <tr>\n",
       "      <th>3</th>\n",
       "      <td>3</td>\n",
       "      <td>0.464</td>\n",
       "      <td>0.091</td>\n",
       "      <td>0.445</td>\n",
       "      <td>-0.0516</td>\n",
       "      <td>AskReddit</td>\n",
       "      <td>1gkk9s3</td>\n",
       "      <td>2024 United States Elections Thread</td>\n",
       "      <td>matter win lose get drunk</td>\n",
       "      <td>56</td>\n",
       "    </tr>\n",
       "    <tr>\n",
       "      <th>4</th>\n",
       "      <td>4</td>\n",
       "      <td>0.181</td>\n",
       "      <td>0.645</td>\n",
       "      <td>0.174</td>\n",
       "      <td>-0.0258</td>\n",
       "      <td>AskReddit</td>\n",
       "      <td>1gkk9s3</td>\n",
       "      <td>2024 United States Elections Thread</td>\n",
       "      <td>day election night national holiday regret get...</td>\n",
       "      <td>44</td>\n",
       "    </tr>\n",
       "    <tr>\n",
       "      <th>...</th>\n",
       "      <td>...</td>\n",
       "      <td>...</td>\n",
       "      <td>...</td>\n",
       "      <td>...</td>\n",
       "      <td>...</td>\n",
       "      <td>...</td>\n",
       "      <td>...</td>\n",
       "      <td>...</td>\n",
       "      <td>...</td>\n",
       "      <td>...</td>\n",
       "    </tr>\n",
       "    <tr>\n",
       "      <th>26155</th>\n",
       "      <td>26155</td>\n",
       "      <td>0.286</td>\n",
       "      <td>0.714</td>\n",
       "      <td>0.000</td>\n",
       "      <td>-0.3400</td>\n",
       "      <td>AskReddit</td>\n",
       "      <td>1gmexng</td>\n",
       "      <td>What is the most awkward thing that ever happe...</td>\n",
       "      <td>accidentally wave back someone wave happen time</td>\n",
       "      <td>1</td>\n",
       "    </tr>\n",
       "    <tr>\n",
       "      <th>26156</th>\n",
       "      <td>26156</td>\n",
       "      <td>0.000</td>\n",
       "      <td>1.000</td>\n",
       "      <td>0.000</td>\n",
       "      <td>0.0000</td>\n",
       "      <td>AskReddit</td>\n",
       "      <td>1gmexng</td>\n",
       "      <td>What is the most awkward thing that ever happe...</td>\n",
       "      <td>unintentionally call date exs name first date ...</td>\n",
       "      <td>1</td>\n",
       "    </tr>\n",
       "    <tr>\n",
       "      <th>26157</th>\n",
       "      <td>26157</td>\n",
       "      <td>0.000</td>\n",
       "      <td>0.635</td>\n",
       "      <td>0.365</td>\n",
       "      <td>0.8481</td>\n",
       "      <td>AskReddit</td>\n",
       "      <td>1gmexng</td>\n",
       "      <td>What is the most awkward thing that ever happe...</td>\n",
       "      <td>social event think see someone know walk right...</td>\n",
       "      <td>1</td>\n",
       "    </tr>\n",
       "    <tr>\n",
       "      <th>26158</th>\n",
       "      <td>26158</td>\n",
       "      <td>0.049</td>\n",
       "      <td>0.513</td>\n",
       "      <td>0.438</td>\n",
       "      <td>0.9371</td>\n",
       "      <td>AskReddit</td>\n",
       "      <td>1gmexng</td>\n",
       "      <td>What is the most awkward thing that ever happe...</td>\n",
       "      <td>oh story sure start new job try make great imp...</td>\n",
       "      <td>1</td>\n",
       "    </tr>\n",
       "    <tr>\n",
       "      <th>26159</th>\n",
       "      <td>26159</td>\n",
       "      <td>0.000</td>\n",
       "      <td>0.698</td>\n",
       "      <td>0.302</td>\n",
       "      <td>0.0772</td>\n",
       "      <td>AskReddit</td>\n",
       "      <td>1gmexng</td>\n",
       "      <td>What is the most awkward thing that ever happe...</td>\n",
       "      <td>jesus want whittle one</td>\n",
       "      <td>1</td>\n",
       "    </tr>\n",
       "  </tbody>\n",
       "</table>\n",
       "<p>26160 rows × 10 columns</p>\n",
       "</div>"
      ],
      "text/plain": [
       "       index    neg    neu    pos  compound  subreddit  post_id  \\\n",
       "0          0  0.000  1.000  0.000    0.0000  AskReddit  1gkk9s3   \n",
       "1          1  0.323  0.677  0.000   -0.6486  AskReddit  1gkk9s3   \n",
       "2          2  0.310  0.519  0.171   -0.7506  AskReddit  1gkk9s3   \n",
       "3          3  0.464  0.091  0.445   -0.0516  AskReddit  1gkk9s3   \n",
       "4          4  0.181  0.645  0.174   -0.0258  AskReddit  1gkk9s3   \n",
       "...      ...    ...    ...    ...       ...        ...      ...   \n",
       "26155  26155  0.286  0.714  0.000   -0.3400  AskReddit  1gmexng   \n",
       "26156  26156  0.000  1.000  0.000    0.0000  AskReddit  1gmexng   \n",
       "26157  26157  0.000  0.635  0.365    0.8481  AskReddit  1gmexng   \n",
       "26158  26158  0.049  0.513  0.438    0.9371  AskReddit  1gmexng   \n",
       "26159  26159  0.000  0.698  0.302    0.0772  AskReddit  1gmexng   \n",
       "\n",
       "                                              post_title  \\\n",
       "0                    2024 United States Elections Thread   \n",
       "1                    2024 United States Elections Thread   \n",
       "2                    2024 United States Elections Thread   \n",
       "3                    2024 United States Elections Thread   \n",
       "4                    2024 United States Elections Thread   \n",
       "...                                                  ...   \n",
       "26155  What is the most awkward thing that ever happe...   \n",
       "26156  What is the most awkward thing that ever happe...   \n",
       "26157  What is the most awkward thing that ever happe...   \n",
       "26158  What is the most awkward thing that ever happe...   \n",
       "26159  What is the most awkward thing that ever happe...   \n",
       "\n",
       "                                            comment_text  comment_score  \n",
       "0                      much pollster predict iowa harris             60  \n",
       "1      devastating reminder social medium echo chambe...            180  \n",
       "2      often wonder campaign generally waste time we ...             33  \n",
       "3                              matter win lose get drunk             56  \n",
       "4      day election night national holiday regret get...             44  \n",
       "...                                                  ...            ...  \n",
       "26155    accidentally wave back someone wave happen time              1  \n",
       "26156  unintentionally call date exs name first date ...              1  \n",
       "26157  social event think see someone know walk right...              1  \n",
       "26158  oh story sure start new job try make great imp...              1  \n",
       "26159                             jesus want whittle one              1  \n",
       "\n",
       "[26160 rows x 10 columns]"
      ]
     },
     "execution_count": 23,
     "metadata": {},
     "output_type": "execute_result"
    }
   ],
   "source": [
    "vaders"
   ]
  },
  {
   "cell_type": "code",
   "execution_count": 24,
   "metadata": {},
   "outputs": [
    {
     "data": {
      "text/html": [
       "<div>\n",
       "<style scoped>\n",
       "    .dataframe tbody tr th:only-of-type {\n",
       "        vertical-align: middle;\n",
       "    }\n",
       "\n",
       "    .dataframe tbody tr th {\n",
       "        vertical-align: top;\n",
       "    }\n",
       "\n",
       "    .dataframe thead th {\n",
       "        text-align: right;\n",
       "    }\n",
       "</style>\n",
       "<table border=\"1\" class=\"dataframe\">\n",
       "  <thead>\n",
       "    <tr style=\"text-align: right;\">\n",
       "      <th></th>\n",
       "      <th>post_title</th>\n",
       "      <th>neg_title</th>\n",
       "      <th>neu_title</th>\n",
       "      <th>pos_title</th>\n",
       "      <th>compound_title</th>\n",
       "      <th>index</th>\n",
       "      <th>neg</th>\n",
       "      <th>neu</th>\n",
       "      <th>pos</th>\n",
       "      <th>compound</th>\n",
       "      <th>subreddit</th>\n",
       "      <th>post_id</th>\n",
       "      <th>comment_text</th>\n",
       "      <th>comment_score</th>\n",
       "    </tr>\n",
       "  </thead>\n",
       "  <tbody>\n",
       "    <tr>\n",
       "      <th>0</th>\n",
       "      <td>2024 United States Elections Thread</td>\n",
       "      <td>0.000</td>\n",
       "      <td>0.588</td>\n",
       "      <td>0.412</td>\n",
       "      <td>0.4215</td>\n",
       "      <td>0</td>\n",
       "      <td>0.000</td>\n",
       "      <td>1.000</td>\n",
       "      <td>0.000</td>\n",
       "      <td>0.0000</td>\n",
       "      <td>AskReddit</td>\n",
       "      <td>1gkk9s3</td>\n",
       "      <td>much pollster predict iowa harris</td>\n",
       "      <td>60</td>\n",
       "    </tr>\n",
       "    <tr>\n",
       "      <th>1</th>\n",
       "      <td>2024 United States Elections Thread</td>\n",
       "      <td>0.000</td>\n",
       "      <td>0.588</td>\n",
       "      <td>0.412</td>\n",
       "      <td>0.4215</td>\n",
       "      <td>1</td>\n",
       "      <td>0.323</td>\n",
       "      <td>0.677</td>\n",
       "      <td>0.000</td>\n",
       "      <td>-0.6486</td>\n",
       "      <td>AskReddit</td>\n",
       "      <td>1gkk9s3</td>\n",
       "      <td>devastating reminder social medium echo chambe...</td>\n",
       "      <td>180</td>\n",
       "    </tr>\n",
       "    <tr>\n",
       "      <th>2</th>\n",
       "      <td>2024 United States Elections Thread</td>\n",
       "      <td>0.000</td>\n",
       "      <td>0.588</td>\n",
       "      <td>0.412</td>\n",
       "      <td>0.4215</td>\n",
       "      <td>2</td>\n",
       "      <td>0.310</td>\n",
       "      <td>0.519</td>\n",
       "      <td>0.171</td>\n",
       "      <td>-0.7506</td>\n",
       "      <td>AskReddit</td>\n",
       "      <td>1gkk9s3</td>\n",
       "      <td>often wonder campaign generally waste time we ...</td>\n",
       "      <td>33</td>\n",
       "    </tr>\n",
       "    <tr>\n",
       "      <th>3</th>\n",
       "      <td>2024 United States Elections Thread</td>\n",
       "      <td>0.000</td>\n",
       "      <td>0.588</td>\n",
       "      <td>0.412</td>\n",
       "      <td>0.4215</td>\n",
       "      <td>3</td>\n",
       "      <td>0.464</td>\n",
       "      <td>0.091</td>\n",
       "      <td>0.445</td>\n",
       "      <td>-0.0516</td>\n",
       "      <td>AskReddit</td>\n",
       "      <td>1gkk9s3</td>\n",
       "      <td>matter win lose get drunk</td>\n",
       "      <td>56</td>\n",
       "    </tr>\n",
       "    <tr>\n",
       "      <th>4</th>\n",
       "      <td>2024 United States Elections Thread</td>\n",
       "      <td>0.000</td>\n",
       "      <td>0.588</td>\n",
       "      <td>0.412</td>\n",
       "      <td>0.4215</td>\n",
       "      <td>4</td>\n",
       "      <td>0.181</td>\n",
       "      <td>0.645</td>\n",
       "      <td>0.174</td>\n",
       "      <td>-0.0258</td>\n",
       "      <td>AskReddit</td>\n",
       "      <td>1gkk9s3</td>\n",
       "      <td>day election night national holiday regret get...</td>\n",
       "      <td>44</td>\n",
       "    </tr>\n",
       "    <tr>\n",
       "      <th>...</th>\n",
       "      <td>...</td>\n",
       "      <td>...</td>\n",
       "      <td>...</td>\n",
       "      <td>...</td>\n",
       "      <td>...</td>\n",
       "      <td>...</td>\n",
       "      <td>...</td>\n",
       "      <td>...</td>\n",
       "      <td>...</td>\n",
       "      <td>...</td>\n",
       "      <td>...</td>\n",
       "      <td>...</td>\n",
       "      <td>...</td>\n",
       "      <td>...</td>\n",
       "    </tr>\n",
       "    <tr>\n",
       "      <th>26155</th>\n",
       "      <td>What is the most awkward thing that ever happe...</td>\n",
       "      <td>0.159</td>\n",
       "      <td>0.841</td>\n",
       "      <td>0.000</td>\n",
       "      <td>-0.2247</td>\n",
       "      <td>26155</td>\n",
       "      <td>0.286</td>\n",
       "      <td>0.714</td>\n",
       "      <td>0.000</td>\n",
       "      <td>-0.3400</td>\n",
       "      <td>AskReddit</td>\n",
       "      <td>1gmexng</td>\n",
       "      <td>accidentally wave back someone wave happen time</td>\n",
       "      <td>1</td>\n",
       "    </tr>\n",
       "    <tr>\n",
       "      <th>26156</th>\n",
       "      <td>What is the most awkward thing that ever happe...</td>\n",
       "      <td>0.159</td>\n",
       "      <td>0.841</td>\n",
       "      <td>0.000</td>\n",
       "      <td>-0.2247</td>\n",
       "      <td>26156</td>\n",
       "      <td>0.000</td>\n",
       "      <td>1.000</td>\n",
       "      <td>0.000</td>\n",
       "      <td>0.0000</td>\n",
       "      <td>AskReddit</td>\n",
       "      <td>1gmexng</td>\n",
       "      <td>unintentionally call date exs name first date ...</td>\n",
       "      <td>1</td>\n",
       "    </tr>\n",
       "    <tr>\n",
       "      <th>26157</th>\n",
       "      <td>What is the most awkward thing that ever happe...</td>\n",
       "      <td>0.159</td>\n",
       "      <td>0.841</td>\n",
       "      <td>0.000</td>\n",
       "      <td>-0.2247</td>\n",
       "      <td>26157</td>\n",
       "      <td>0.000</td>\n",
       "      <td>0.635</td>\n",
       "      <td>0.365</td>\n",
       "      <td>0.8481</td>\n",
       "      <td>AskReddit</td>\n",
       "      <td>1gmexng</td>\n",
       "      <td>social event think see someone know walk right...</td>\n",
       "      <td>1</td>\n",
       "    </tr>\n",
       "    <tr>\n",
       "      <th>26158</th>\n",
       "      <td>What is the most awkward thing that ever happe...</td>\n",
       "      <td>0.159</td>\n",
       "      <td>0.841</td>\n",
       "      <td>0.000</td>\n",
       "      <td>-0.2247</td>\n",
       "      <td>26158</td>\n",
       "      <td>0.049</td>\n",
       "      <td>0.513</td>\n",
       "      <td>0.438</td>\n",
       "      <td>0.9371</td>\n",
       "      <td>AskReddit</td>\n",
       "      <td>1gmexng</td>\n",
       "      <td>oh story sure start new job try make great imp...</td>\n",
       "      <td>1</td>\n",
       "    </tr>\n",
       "    <tr>\n",
       "      <th>26159</th>\n",
       "      <td>What is the most awkward thing that ever happe...</td>\n",
       "      <td>0.159</td>\n",
       "      <td>0.841</td>\n",
       "      <td>0.000</td>\n",
       "      <td>-0.2247</td>\n",
       "      <td>26159</td>\n",
       "      <td>0.000</td>\n",
       "      <td>0.698</td>\n",
       "      <td>0.302</td>\n",
       "      <td>0.0772</td>\n",
       "      <td>AskReddit</td>\n",
       "      <td>1gmexng</td>\n",
       "      <td>jesus want whittle one</td>\n",
       "      <td>1</td>\n",
       "    </tr>\n",
       "  </tbody>\n",
       "</table>\n",
       "<p>26160 rows × 14 columns</p>\n",
       "</div>"
      ],
      "text/plain": [
       "                                              post_title  neg_title  \\\n",
       "0                    2024 United States Elections Thread      0.000   \n",
       "1                    2024 United States Elections Thread      0.000   \n",
       "2                    2024 United States Elections Thread      0.000   \n",
       "3                    2024 United States Elections Thread      0.000   \n",
       "4                    2024 United States Elections Thread      0.000   \n",
       "...                                                  ...        ...   \n",
       "26155  What is the most awkward thing that ever happe...      0.159   \n",
       "26156  What is the most awkward thing that ever happe...      0.159   \n",
       "26157  What is the most awkward thing that ever happe...      0.159   \n",
       "26158  What is the most awkward thing that ever happe...      0.159   \n",
       "26159  What is the most awkward thing that ever happe...      0.159   \n",
       "\n",
       "       neu_title  pos_title  compound_title  index    neg    neu    pos  \\\n",
       "0          0.588      0.412          0.4215      0  0.000  1.000  0.000   \n",
       "1          0.588      0.412          0.4215      1  0.323  0.677  0.000   \n",
       "2          0.588      0.412          0.4215      2  0.310  0.519  0.171   \n",
       "3          0.588      0.412          0.4215      3  0.464  0.091  0.445   \n",
       "4          0.588      0.412          0.4215      4  0.181  0.645  0.174   \n",
       "...          ...        ...             ...    ...    ...    ...    ...   \n",
       "26155      0.841      0.000         -0.2247  26155  0.286  0.714  0.000   \n",
       "26156      0.841      0.000         -0.2247  26156  0.000  1.000  0.000   \n",
       "26157      0.841      0.000         -0.2247  26157  0.000  0.635  0.365   \n",
       "26158      0.841      0.000         -0.2247  26158  0.049  0.513  0.438   \n",
       "26159      0.841      0.000         -0.2247  26159  0.000  0.698  0.302   \n",
       "\n",
       "       compound  subreddit  post_id  \\\n",
       "0        0.0000  AskReddit  1gkk9s3   \n",
       "1       -0.6486  AskReddit  1gkk9s3   \n",
       "2       -0.7506  AskReddit  1gkk9s3   \n",
       "3       -0.0516  AskReddit  1gkk9s3   \n",
       "4       -0.0258  AskReddit  1gkk9s3   \n",
       "...         ...        ...      ...   \n",
       "26155   -0.3400  AskReddit  1gmexng   \n",
       "26156    0.0000  AskReddit  1gmexng   \n",
       "26157    0.8481  AskReddit  1gmexng   \n",
       "26158    0.9371  AskReddit  1gmexng   \n",
       "26159    0.0772  AskReddit  1gmexng   \n",
       "\n",
       "                                            comment_text  comment_score  \n",
       "0                      much pollster predict iowa harris             60  \n",
       "1      devastating reminder social medium echo chambe...            180  \n",
       "2      often wonder campaign generally waste time we ...             33  \n",
       "3                              matter win lose get drunk             56  \n",
       "4      day election night national holiday regret get...             44  \n",
       "...                                                  ...            ...  \n",
       "26155    accidentally wave back someone wave happen time              1  \n",
       "26156  unintentionally call date exs name first date ...              1  \n",
       "26157  social event think see someone know walk right...              1  \n",
       "26158  oh story sure start new job try make great imp...              1  \n",
       "26159                             jesus want whittle one              1  \n",
       "\n",
       "[26160 rows x 14 columns]"
      ]
     },
     "execution_count": 24,
     "metadata": {},
     "output_type": "execute_result"
    }
   ],
   "source": [
    "vaders_2 = vaders_2.reset_index().rename(columns={'index': 'post_title', 'neg': 'neg_title', 'neu': 'neu_title', 'pos': 'pos_title', 'compound' : 'compound_title'})\n",
    "vaders_2 = vaders_2.merge(vaders,how='right', on='post_title')\n",
    "vaders_2"
   ]
  },
  {
   "cell_type": "code",
   "execution_count": 25,
   "metadata": {},
   "outputs": [
    {
     "data": {
      "text/plain": [
       "0.19690558880009618"
      ]
     },
     "execution_count": 25,
     "metadata": {},
     "output_type": "execute_result"
    }
   ],
   "source": [
    "# Calculate the correlation between the title sentiment and the post sentiment\n",
    "correlation = vaders_2['compound'].corr(vaders_2['compound_title'])\n",
    "correlation\n"
   ]
  },
  {
   "cell_type": "markdown",
   "metadata": {},
   "source": [
    "# there's a very weak relationship between title sentiment and comment sentiment"
   ]
  },
  {
   "cell_type": "markdown",
   "metadata": {},
   "source": [
    "## Roberta Pretrained Model\n",
    "- Use a model trained on a large corpus of data.\n",
    "- Transformer model accounts for the words but also the context related to other words"
   ]
  },
  {
   "cell_type": "code",
   "execution_count": 26,
   "metadata": {},
   "outputs": [],
   "source": [
    "from transformers import AutoTokenizer\n",
    "from transformers import AutoModelForSequenceClassification\n",
    "from scipy.special import softmax\n"
   ]
  },
  {
   "cell_type": "code",
   "execution_count": 27,
   "metadata": {},
   "outputs": [
    {
     "name": "stdout",
     "output_type": "stream",
     "text": [
      "2.5.1\n"
     ]
    }
   ],
   "source": [
    "import torch\n",
    "print(torch.__version__)\n"
   ]
  },
  {
   "cell_type": "code",
   "execution_count": 28,
   "metadata": {},
   "outputs": [],
   "source": [
    "MODEL = f\"cardiffnlp/twitter-roberta-base-sentiment\"\n",
    "\n",
    "tokenizer = AutoTokenizer.from_pretrained(MODEL)\n",
    "model = AutoModelForSequenceClassification.from_pretrained(MODEL)"
   ]
  },
  {
   "cell_type": "code",
   "execution_count": 29,
   "metadata": {},
   "outputs": [
    {
     "name": "stdout",
     "output_type": "stream",
     "text": [
      "uk hear trump basically orange bafoon convict rig last election sexual harassment stop immigration building wall bad america vote president\n"
     ]
    },
    {
     "data": {
      "text/plain": [
       "{'neg': 0.401, 'neu': 0.599, 'pos': 0.0, 'compound': -0.8658}"
      ]
     },
     "execution_count": 29,
     "metadata": {},
     "output_type": "execute_result"
    }
   ],
   "source": [
    "# VADER results on example\n",
    "print(example)\n",
    "sia.polarity_scores(example)"
   ]
  },
  {
   "cell_type": "markdown",
   "metadata": {},
   "source": [
    "text must be Encoded and then embed that to the model to be understood"
   ]
  },
  {
   "cell_type": "code",
   "execution_count": 30,
   "metadata": {},
   "outputs": [],
   "source": [
    "# Run Roberta Model\n",
    "def polarity_scores_roberta(example):\n",
    "    encoded_text = tokenizer(example, return_tensors='pt')\n",
    "    output = model(**encoded_text)\n",
    "    scores = output[0][0].detach().numpy()\n",
    "    scores = softmax(scores)\n",
    "    scores_dict = {\n",
    "        'roberta_neg': scores[0],\n",
    "        'roberta_neu': scores[1],\n",
    "        'roberta_pos': scores[2]\n",
    "    }\n",
    "    return scores_dict"
   ]
  },
  {
   "cell_type": "code",
   "execution_count": 31,
   "metadata": {},
   "outputs": [
    {
     "name": "stderr",
     "output_type": "stream",
     "text": [
      "  3%|▎         | 658/26160 [01:10<1:09:10,  6.14it/s]"
     ]
    },
    {
     "name": "stdout",
     "output_type": "stream",
     "text": [
      "Broke for id 656\n"
     ]
    },
    {
     "name": "stderr",
     "output_type": "stream",
     "text": [
      "  4%|▍         | 1053/26160 [01:50<35:34, 11.76it/s] "
     ]
    },
    {
     "name": "stdout",
     "output_type": "stream",
     "text": [
      "Broke for id 1050\n"
     ]
    },
    {
     "name": "stderr",
     "output_type": "stream",
     "text": [
      "  5%|▌         | 1314/26160 [02:14<32:17, 12.82it/s]"
     ]
    },
    {
     "name": "stdout",
     "output_type": "stream",
     "text": [
      "Broke for id 1312\n"
     ]
    },
    {
     "name": "stderr",
     "output_type": "stream",
     "text": [
      "  5%|▌         | 1372/26160 [02:20<34:14, 12.06it/s]"
     ]
    },
    {
     "name": "stdout",
     "output_type": "stream",
     "text": [
      "Broke for id 1369\n"
     ]
    },
    {
     "name": "stderr",
     "output_type": "stream",
     "text": [
      " 47%|████▋     | 12183/26160 [18:07<19:40, 11.84it/s] "
     ]
    },
    {
     "name": "stdout",
     "output_type": "stream",
     "text": [
      "Broke for id 12180\n"
     ]
    },
    {
     "name": "stderr",
     "output_type": "stream",
     "text": [
      " 81%|████████  | 21167/26160 [31:39<06:27, 12.89it/s]"
     ]
    },
    {
     "name": "stdout",
     "output_type": "stream",
     "text": [
      "Broke for id 21164\n"
     ]
    },
    {
     "name": "stderr",
     "output_type": "stream",
     "text": [
      "100%|██████████| 26160/26160 [39:24<00:00, 11.07it/s]\n"
     ]
    }
   ],
   "source": [
    "# Run the polarity score on the entire dataset\n",
    "res = {}\n",
    "for i, row in tqdm(df.iterrows(), total=len(df)):\n",
    "    try:\n",
    "        text = row['comment_text']\n",
    "        myid = row['index']\n",
    "        vader_result = sia.polarity_scores(text)\n",
    "        vader_result_rename = {}\n",
    "        for key, value in vader_result.items():\n",
    "            vader_result_rename[f'vader_{key}'] = value\n",
    "\n",
    "        roberta_result = polarity_scores_roberta(text)\n",
    "        both = {**vader_result_rename, **roberta_result}\n",
    "        res[myid] = both\n",
    "    except RuntimeError:\n",
    "        print(f'Broke for id {myid}')"
   ]
  },
  {
   "cell_type": "code",
   "execution_count": 32,
   "metadata": {},
   "outputs": [],
   "source": [
    "results_df = pd.DataFrame(res).T\n",
    "results_df = results_df.reset_index()\n",
    "results_df = results_df.merge(df, how='left')"
   ]
  },
  {
   "cell_type": "code",
   "execution_count": 33,
   "metadata": {},
   "outputs": [
    {
     "data": {
      "text/html": [
       "<div>\n",
       "<style scoped>\n",
       "    .dataframe tbody tr th:only-of-type {\n",
       "        vertical-align: middle;\n",
       "    }\n",
       "\n",
       "    .dataframe tbody tr th {\n",
       "        vertical-align: top;\n",
       "    }\n",
       "\n",
       "    .dataframe thead th {\n",
       "        text-align: right;\n",
       "    }\n",
       "</style>\n",
       "<table border=\"1\" class=\"dataframe\">\n",
       "  <thead>\n",
       "    <tr style=\"text-align: right;\">\n",
       "      <th></th>\n",
       "      <th>index</th>\n",
       "      <th>vader_neg</th>\n",
       "      <th>vader_neu</th>\n",
       "      <th>vader_pos</th>\n",
       "      <th>vader_compound</th>\n",
       "      <th>roberta_neg</th>\n",
       "      <th>roberta_neu</th>\n",
       "      <th>roberta_pos</th>\n",
       "      <th>subreddit</th>\n",
       "      <th>post_id</th>\n",
       "      <th>post_title</th>\n",
       "      <th>comment_text</th>\n",
       "      <th>comment_score</th>\n",
       "    </tr>\n",
       "  </thead>\n",
       "  <tbody>\n",
       "    <tr>\n",
       "      <th>0</th>\n",
       "      <td>0</td>\n",
       "      <td>0.000</td>\n",
       "      <td>1.000</td>\n",
       "      <td>0.000</td>\n",
       "      <td>0.0000</td>\n",
       "      <td>0.074472</td>\n",
       "      <td>0.887767</td>\n",
       "      <td>0.037761</td>\n",
       "      <td>AskReddit</td>\n",
       "      <td>1gkk9s3</td>\n",
       "      <td>2024 United States Elections Thread</td>\n",
       "      <td>much pollster predict iowa harris</td>\n",
       "      <td>60</td>\n",
       "    </tr>\n",
       "    <tr>\n",
       "      <th>1</th>\n",
       "      <td>1</td>\n",
       "      <td>0.323</td>\n",
       "      <td>0.677</td>\n",
       "      <td>0.000</td>\n",
       "      <td>-0.6486</td>\n",
       "      <td>0.827450</td>\n",
       "      <td>0.164512</td>\n",
       "      <td>0.008039</td>\n",
       "      <td>AskReddit</td>\n",
       "      <td>1gkk9s3</td>\n",
       "      <td>2024 United States Elections Thread</td>\n",
       "      <td>devastating reminder social medium echo chambe...</td>\n",
       "      <td>180</td>\n",
       "    </tr>\n",
       "    <tr>\n",
       "      <th>2</th>\n",
       "      <td>2</td>\n",
       "      <td>0.310</td>\n",
       "      <td>0.519</td>\n",
       "      <td>0.171</td>\n",
       "      <td>-0.7506</td>\n",
       "      <td>0.757083</td>\n",
       "      <td>0.228403</td>\n",
       "      <td>0.014514</td>\n",
       "      <td>AskReddit</td>\n",
       "      <td>1gkk9s3</td>\n",
       "      <td>2024 United States Elections Thread</td>\n",
       "      <td>often wonder campaign generally waste time we ...</td>\n",
       "      <td>33</td>\n",
       "    </tr>\n",
       "    <tr>\n",
       "      <th>3</th>\n",
       "      <td>3</td>\n",
       "      <td>0.464</td>\n",
       "      <td>0.091</td>\n",
       "      <td>0.445</td>\n",
       "      <td>-0.0516</td>\n",
       "      <td>0.433912</td>\n",
       "      <td>0.475297</td>\n",
       "      <td>0.090791</td>\n",
       "      <td>AskReddit</td>\n",
       "      <td>1gkk9s3</td>\n",
       "      <td>2024 United States Elections Thread</td>\n",
       "      <td>matter win lose get drunk</td>\n",
       "      <td>56</td>\n",
       "    </tr>\n",
       "    <tr>\n",
       "      <th>4</th>\n",
       "      <td>4</td>\n",
       "      <td>0.181</td>\n",
       "      <td>0.645</td>\n",
       "      <td>0.174</td>\n",
       "      <td>-0.0258</td>\n",
       "      <td>0.700795</td>\n",
       "      <td>0.266801</td>\n",
       "      <td>0.032404</td>\n",
       "      <td>AskReddit</td>\n",
       "      <td>1gkk9s3</td>\n",
       "      <td>2024 United States Elections Thread</td>\n",
       "      <td>day election night national holiday regret get...</td>\n",
       "      <td>44</td>\n",
       "    </tr>\n",
       "  </tbody>\n",
       "</table>\n",
       "</div>"
      ],
      "text/plain": [
       "   index  vader_neg  vader_neu  vader_pos  vader_compound  roberta_neg  \\\n",
       "0      0      0.000      1.000      0.000          0.0000     0.074472   \n",
       "1      1      0.323      0.677      0.000         -0.6486     0.827450   \n",
       "2      2      0.310      0.519      0.171         -0.7506     0.757083   \n",
       "3      3      0.464      0.091      0.445         -0.0516     0.433912   \n",
       "4      4      0.181      0.645      0.174         -0.0258     0.700795   \n",
       "\n",
       "   roberta_neu  roberta_pos  subreddit  post_id  \\\n",
       "0     0.887767     0.037761  AskReddit  1gkk9s3   \n",
       "1     0.164512     0.008039  AskReddit  1gkk9s3   \n",
       "2     0.228403     0.014514  AskReddit  1gkk9s3   \n",
       "3     0.475297     0.090791  AskReddit  1gkk9s3   \n",
       "4     0.266801     0.032404  AskReddit  1gkk9s3   \n",
       "\n",
       "                            post_title  \\\n",
       "0  2024 United States Elections Thread   \n",
       "1  2024 United States Elections Thread   \n",
       "2  2024 United States Elections Thread   \n",
       "3  2024 United States Elections Thread   \n",
       "4  2024 United States Elections Thread   \n",
       "\n",
       "                                        comment_text  comment_score  \n",
       "0                  much pollster predict iowa harris             60  \n",
       "1  devastating reminder social medium echo chambe...            180  \n",
       "2  often wonder campaign generally waste time we ...             33  \n",
       "3                          matter win lose get drunk             56  \n",
       "4  day election night national holiday regret get...             44  "
      ]
     },
     "execution_count": 33,
     "metadata": {},
     "output_type": "execute_result"
    }
   ],
   "source": [
    "results_df.head()"
   ]
  },
  {
   "cell_type": "markdown",
   "metadata": {},
   "source": [
    "## Compare Scores between models"
   ]
  },
  {
   "cell_type": "code",
   "execution_count": 3,
   "metadata": {},
   "outputs": [
    {
     "ename": "NameError",
     "evalue": "name 'results_df' is not defined",
     "output_type": "error",
     "traceback": [
      "\u001b[0;31m---------------------------------------------------------------------------\u001b[0m",
      "\u001b[0;31mNameError\u001b[0m                                 Traceback (most recent call last)",
      "Cell \u001b[0;32mIn[3], line 1\u001b[0m\n\u001b[0;32m----> 1\u001b[0m \u001b[43mresults_df\u001b[49m\u001b[38;5;241m.\u001b[39mcolumns\n",
      "\u001b[0;31mNameError\u001b[0m: name 'results_df' is not defined"
     ]
    }
   ],
   "source": [
    "results_df.columns"
   ]
  },
  {
   "cell_type": "code",
   "execution_count": 2,
   "metadata": {},
   "outputs": [
    {
     "ename": "NameError",
     "evalue": "name 'sns' is not defined",
     "output_type": "error",
     "traceback": [
      "\u001b[0;31m---------------------------------------------------------------------------\u001b[0m",
      "\u001b[0;31mNameError\u001b[0m                                 Traceback (most recent call last)",
      "Cell \u001b[0;32mIn[2], line 1\u001b[0m\n\u001b[0;32m----> 1\u001b[0m \u001b[43msns\u001b[49m\u001b[38;5;241m.\u001b[39mpairplot(data\u001b[38;5;241m=\u001b[39mresults_df, \u001b[38;5;28mvars\u001b[39m\u001b[38;5;241m=\u001b[39m[\u001b[38;5;124m'\u001b[39m\u001b[38;5;124mvader_neg\u001b[39m\u001b[38;5;124m'\u001b[39m, \u001b[38;5;124m'\u001b[39m\u001b[38;5;124mvader_neu\u001b[39m\u001b[38;5;124m'\u001b[39m, \u001b[38;5;124m'\u001b[39m\u001b[38;5;124mvader_pos\u001b[39m\u001b[38;5;124m'\u001b[39m,\n\u001b[1;32m      2\u001b[0m        \u001b[38;5;124m'\u001b[39m\u001b[38;5;124mroberta_neg\u001b[39m\u001b[38;5;124m'\u001b[39m, \u001b[38;5;124m'\u001b[39m\u001b[38;5;124mroberta_neu\u001b[39m\u001b[38;5;124m'\u001b[39m, \u001b[38;5;124m'\u001b[39m\u001b[38;5;124mroberta_pos\u001b[39m\u001b[38;5;124m'\u001b[39m], palette\u001b[38;5;241m=\u001b[39m\u001b[38;5;124m'\u001b[39m\u001b[38;5;124mtab10\u001b[39m\u001b[38;5;124m'\u001b[39m)\n",
      "\u001b[0;31mNameError\u001b[0m: name 'sns' is not defined"
     ]
    }
   ],
   "source": [
    "sns.pairplot(data=results_df, vars=['vader_neg', 'vader_neu', 'vader_pos',\n",
    "       'roberta_neg', 'roberta_neu', 'roberta_pos'], palette='tab10')"
   ]
  }
 ],
 "metadata": {
  "kernelspec": {
   "display_name": "myenv",
   "language": "python",
   "name": "python3"
  },
  "language_info": {
   "codemirror_mode": {
    "name": "ipython",
    "version": 3
   },
   "file_extension": ".py",
   "mimetype": "text/x-python",
   "name": "python",
   "nbconvert_exporter": "python",
   "pygments_lexer": "ipython3",
   "version": "3.10.7"
  }
 },
 "nbformat": 4,
 "nbformat_minor": 2
}
