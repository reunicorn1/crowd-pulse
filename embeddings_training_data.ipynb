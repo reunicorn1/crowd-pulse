{
 "cells": [
  {
   "cell_type": "code",
   "execution_count": 8,
   "metadata": {},
   "outputs": [
    {
     "data": {
      "text/html": [
       "<div>\n",
       "<style scoped>\n",
       "    .dataframe tbody tr th:only-of-type {\n",
       "        vertical-align: middle;\n",
       "    }\n",
       "\n",
       "    .dataframe tbody tr th {\n",
       "        vertical-align: top;\n",
       "    }\n",
       "\n",
       "    .dataframe thead th {\n",
       "        text-align: right;\n",
       "    }\n",
       "</style>\n",
       "<table border=\"1\" class=\"dataframe\">\n",
       "  <thead>\n",
       "    <tr style=\"text-align: right;\">\n",
       "      <th></th>\n",
       "      <th>index</th>\n",
       "      <th>roberta_neg_post_body</th>\n",
       "      <th>roberta_neu_post_body</th>\n",
       "      <th>roberta_pos_post_body</th>\n",
       "      <th>roberta_compound_post_body</th>\n",
       "      <th>roberta_neg_post_title</th>\n",
       "      <th>roberta_neu_post_title</th>\n",
       "      <th>roberta_pos_post_title</th>\n",
       "      <th>roberta_compound_post_title</th>\n",
       "      <th>subreddit</th>\n",
       "      <th>post_id</th>\n",
       "      <th>post_title</th>\n",
       "      <th>post_score</th>\n",
       "      <th>post_url</th>\n",
       "      <th>post_comms_num</th>\n",
       "      <th>post_body</th>\n",
       "      <th>post_timestamp</th>\n",
       "    </tr>\n",
       "  </thead>\n",
       "  <tbody>\n",
       "    <tr>\n",
       "      <th>0</th>\n",
       "      <td>1</td>\n",
       "      <td>0.171448</td>\n",
       "      <td>0.768685</td>\n",
       "      <td>0.059867</td>\n",
       "      <td>-0.111581</td>\n",
       "      <td>0.013251</td>\n",
       "      <td>0.928738</td>\n",
       "      <td>0.058012</td>\n",
       "      <td>0.044761</td>\n",
       "      <td>television</td>\n",
       "      <td>1gmlvja</td>\n",
       "      <td>watch recommend week november 08 2024</td>\n",
       "      <td>51</td>\n",
       "      <td>https://www.reddit.com/r/television/comments/1...</td>\n",
       "      <td>406</td>\n",
       "      <td>comment sort new default feel free describe sh...</td>\n",
       "      <td>2024-11-08 16:00:12</td>\n",
       "    </tr>\n",
       "    <tr>\n",
       "      <th>1</th>\n",
       "      <td>2</td>\n",
       "      <td>0.101025</td>\n",
       "      <td>0.739353</td>\n",
       "      <td>0.159622</td>\n",
       "      <td>0.058597</td>\n",
       "      <td>0.268124</td>\n",
       "      <td>0.694113</td>\n",
       "      <td>0.037763</td>\n",
       "      <td>-0.230361</td>\n",
       "      <td>television</td>\n",
       "      <td>1gpuzer</td>\n",
       "      <td>kiernan shipka say know go mad man despite eff...</td>\n",
       "      <td>1411</td>\n",
       "      <td>https://people.com/kiernan-shipka-says-she-kne...</td>\n",
       "      <td>74</td>\n",
       "      <td>\" I know brain body decide remember like audit...</td>\n",
       "      <td>2024-11-12 20:45:23</td>\n",
       "    </tr>\n",
       "    <tr>\n",
       "      <th>2</th>\n",
       "      <td>3</td>\n",
       "      <td>0.031195</td>\n",
       "      <td>0.229534</td>\n",
       "      <td>0.739270</td>\n",
       "      <td>0.708075</td>\n",
       "      <td>0.008140</td>\n",
       "      <td>0.296943</td>\n",
       "      <td>0.694917</td>\n",
       "      <td>0.686777</td>\n",
       "      <td>television</td>\n",
       "      <td>1gpkns9</td>\n",
       "      <td>jim gaffigan end time tim walz ' snl ' \" I fee...</td>\n",
       "      <td>943</td>\n",
       "      <td>https://www.hollywoodreporter.com/tv/tv-news/j...</td>\n",
       "      <td>97</td>\n",
       "      <td>\" it expectation maya going continue entire ti...</td>\n",
       "      <td>2024-11-12 13:25:57</td>\n",
       "    </tr>\n",
       "    <tr>\n",
       "      <th>3</th>\n",
       "      <td>4</td>\n",
       "      <td>0.122717</td>\n",
       "      <td>0.428424</td>\n",
       "      <td>0.448859</td>\n",
       "      <td>0.326142</td>\n",
       "      <td>0.013590</td>\n",
       "      <td>0.429056</td>\n",
       "      <td>0.557354</td>\n",
       "      <td>0.543763</td>\n",
       "      <td>television</td>\n",
       "      <td>1gq3tw7</td>\n",
       "      <td>hbo series oz unforgettable character tv</td>\n",
       "      <td>62</td>\n",
       "      <td>https://www.reddit.com/r/television/comments/1...</td>\n",
       "      <td>36</td>\n",
       "      <td>ryan oreilly vern schillinger simon adebisi to...</td>\n",
       "      <td>2024-11-13 03:35:16</td>\n",
       "    </tr>\n",
       "    <tr>\n",
       "      <th>4</th>\n",
       "      <td>5</td>\n",
       "      <td>0.065585</td>\n",
       "      <td>0.878166</td>\n",
       "      <td>0.056249</td>\n",
       "      <td>-0.009336</td>\n",
       "      <td>0.073045</td>\n",
       "      <td>0.879932</td>\n",
       "      <td>0.047023</td>\n",
       "      <td>-0.026022</td>\n",
       "      <td>television</td>\n",
       "      <td>1gq3oj3</td>\n",
       "      <td>st denis medical series premiere discussion</td>\n",
       "      <td>21</td>\n",
       "      <td>https://www.reddit.com/r/television/comments/1...</td>\n",
       "      <td>6</td>\n",
       "      <td>st denis medical premise staff oregon understa...</td>\n",
       "      <td>2024-11-13 03:27:24</td>\n",
       "    </tr>\n",
       "  </tbody>\n",
       "</table>\n",
       "</div>"
      ],
      "text/plain": [
       "   index  roberta_neg_post_body  roberta_neu_post_body  roberta_pos_post_body  \\\n",
       "0      1               0.171448               0.768685               0.059867   \n",
       "1      2               0.101025               0.739353               0.159622   \n",
       "2      3               0.031195               0.229534               0.739270   \n",
       "3      4               0.122717               0.428424               0.448859   \n",
       "4      5               0.065585               0.878166               0.056249   \n",
       "\n",
       "   roberta_compound_post_body  roberta_neg_post_title  roberta_neu_post_title  \\\n",
       "0                   -0.111581                0.013251                0.928738   \n",
       "1                    0.058597                0.268124                0.694113   \n",
       "2                    0.708075                0.008140                0.296943   \n",
       "3                    0.326142                0.013590                0.429056   \n",
       "4                   -0.009336                0.073045                0.879932   \n",
       "\n",
       "   roberta_pos_post_title  roberta_compound_post_title   subreddit  post_id  \\\n",
       "0                0.058012                     0.044761  television  1gmlvja   \n",
       "1                0.037763                    -0.230361  television  1gpuzer   \n",
       "2                0.694917                     0.686777  television  1gpkns9   \n",
       "3                0.557354                     0.543763  television  1gq3tw7   \n",
       "4                0.047023                    -0.026022  television  1gq3oj3   \n",
       "\n",
       "                                          post_title  post_score  \\\n",
       "0              watch recommend week november 08 2024          51   \n",
       "1  kiernan shipka say know go mad man despite eff...        1411   \n",
       "2  jim gaffigan end time tim walz ' snl ' \" I fee...         943   \n",
       "3           hbo series oz unforgettable character tv          62   \n",
       "4        st denis medical series premiere discussion          21   \n",
       "\n",
       "                                            post_url  post_comms_num  \\\n",
       "0  https://www.reddit.com/r/television/comments/1...             406   \n",
       "1  https://people.com/kiernan-shipka-says-she-kne...              74   \n",
       "2  https://www.hollywoodreporter.com/tv/tv-news/j...              97   \n",
       "3  https://www.reddit.com/r/television/comments/1...              36   \n",
       "4  https://www.reddit.com/r/television/comments/1...               6   \n",
       "\n",
       "                                           post_body       post_timestamp  \n",
       "0  comment sort new default feel free describe sh...  2024-11-08 16:00:12  \n",
       "1  \" I know brain body decide remember like audit...  2024-11-12 20:45:23  \n",
       "2  \" it expectation maya going continue entire ti...  2024-11-12 13:25:57  \n",
       "3  ryan oreilly vern schillinger simon adebisi to...  2024-11-13 03:35:16  \n",
       "4  st denis medical premise staff oregon understa...  2024-11-13 03:27:24  "
      ]
     },
     "execution_count": 8,
     "metadata": {},
     "output_type": "execute_result"
    }
   ],
   "source": [
    "\n",
    "import pandas as pd\n",
    "import numpy as np\n",
    "from sklearn.model_selection import train_test_split\n",
    "\n",
    "df = pd.read_csv('data_training_roberta.csv')\n",
    "df.head()"
   ]
  },
  {
   "cell_type": "code",
   "execution_count": 9,
   "metadata": {},
   "outputs": [],
   "source": [
    "import torch\n",
    "from sklearn.linear_model import LinearRegression\n",
    "from sklearn.metrics import mean_squared_error\n",
    "from transformers import AutoTokenizer, AutoModel\n",
    "from sklearn.model_selection import train_test_split"
   ]
  },
  {
   "cell_type": "code",
   "execution_count": 10,
   "metadata": {},
   "outputs": [],
   "source": [
    "device = torch.device(\"cuda\" if torch.cuda.is_available() else \"cpu\")\n",
    "batch_size = 8  # Adjust this to fit within GPU memory limits\n",
    "\n",
    "# Initialize tokenizer and model\n",
    "tokenizer = AutoTokenizer.from_pretrained(\"distilbert-base-uncased\")\n",
    "model = AutoModel.from_pretrained(\"distilbert-base-uncased\").to(device)\n",
    "\n",
    "# Split the data into training and validation sets\n",
    "df_train, df_val = train_test_split(df, test_size=0.2, random_state=42)\n"
   ]
  },
  {
   "cell_type": "code",
   "execution_count": 13,
   "metadata": {},
   "outputs": [],
   "source": [
    "def get_hidden_states_in_batches(df, batch_size, tokenizer, model, device):\n",
    "    cls_outputs = []\n",
    "    for i in range(0, len(df), batch_size):\n",
    "        batch_texts = [str(text) for text in df[\"post_body\"].values[i:i + batch_size] if isinstance(text, str)]        # Tokenize the batch\n",
    "        tokenized_batch = tokenizer(batch_texts, padding=True, truncation=True, return_tensors=\"pt\")\n",
    "        tokenized_batch = {k: v.to(device) for k, v in tokenized_batch.items()}\n",
    "        \n",
    "        with torch.no_grad():\n",
    "            outputs = model(**tokenized_batch)\n",
    "            # Extract [CLS] hidden state\n",
    "            cls_output = outputs.last_hidden_state[:, 0, :].cpu().numpy()\n",
    "            cls_outputs.append(cls_output)\n",
    "    \n",
    "    return np.concatenate(cls_outputs, axis=0)"
   ]
  },
  {
   "cell_type": "code",
   "execution_count": 14,
   "metadata": {},
   "outputs": [],
   "source": [
    "x_train = get_hidden_states_in_batches(df_train, batch_size, tokenizer, model, device)\n",
    "x_val = get_hidden_states_in_batches(df_val, batch_size, tokenizer, model, device)\n",
    "\n",
    "# Labels\n",
    "y_train = df_train[\"roberta_compound_post_body\"].values\n",
    "y_val = df_val[\"roberta_compound_post_body\"].values"
   ]
  },
  {
   "cell_type": "code",
   "execution_count": 15,
   "metadata": {},
   "outputs": [
    {
     "name": "stdout",
     "output_type": "stream",
     "text": [
      "x_train shape: (11504, 768), y_train shape: (11504,)\n",
      "x_val shape: (2877, 768), y_val shape: (2877,)\n"
     ]
    }
   ],
   "source": [
    "print(f\"x_train shape: {x_train.shape}, y_train shape: {y_train.shape}\")\n",
    "print(f\"x_val shape: {x_val.shape}, y_val shape: {y_val.shape}\")"
   ]
  },
  {
   "cell_type": "code",
   "execution_count": 16,
   "metadata": {},
   "outputs": [
    {
     "name": "stdout",
     "output_type": "stream",
     "text": [
      "Mean Squared Error: 0.0767115509444193\n",
      "R^2 score: 0.6717766448003887\n"
     ]
    }
   ],
   "source": [
    "reg_model = LinearRegression()\n",
    "reg_model.fit(x_train, y_train)\n",
    "\n",
    "y_pred = reg_model.predict(x_val)\n",
    "mse = mean_squared_error(y_val, y_pred)\n",
    "print(f\"Mean Squared Error: {mse}\")\n",
    "\n",
    "r2 = reg_model.score(x_val, y_val)\n",
    "print(f\"R^2 score: {r2}\")"
   ]
  },
  {
   "cell_type": "code",
   "execution_count": 17,
   "metadata": {},
   "outputs": [],
   "source": [
    "from sklearn.metrics import accuracy_score, precision_score, f1_score, mean_squared_error\n",
    "\n",
    "def sentiment_to_class(score):\n",
    "    if score <= -0.1:\n",
    "        return -1\n",
    "    elif score >= 0.1:\n",
    "        return 1\n",
    "    else:\n",
    "        return 0\n"
   ]
  },
  {
   "cell_type": "code",
   "execution_count": 18,
   "metadata": {},
   "outputs": [],
   "source": [
    "y_train_classes = np.array([sentiment_to_class(score) for score in y_train])\n",
    "y_val_classes = np.array([sentiment_to_class(score) for score in y_val])\n",
    "\n",
    "y_pred_classes = np.array([sentiment_to_class(score) for score in y_pred])"
   ]
  },
  {
   "cell_type": "code",
   "execution_count": 19,
   "metadata": {},
   "outputs": [
    {
     "name": "stdout",
     "output_type": "stream",
     "text": [
      "Accuracy: 0.7021202641640598\n",
      "Precision: 0.7058560338840711\n",
      "F1 Score: 0.7031876493096432\n"
     ]
    }
   ],
   "source": [
    "accuracy = accuracy_score(y_val_classes, y_pred_classes)\n",
    "precision = precision_score(y_val_classes, y_pred_classes, average='weighted')\n",
    "f1 = f1_score(y_val_classes, y_pred_classes, average='weighted')\n",
    "\n",
    "print(f\"Accuracy: {accuracy}\")\n",
    "print(f\"Precision: {precision}\")\n",
    "print(f\"F1 Score: {f1}\")"
   ]
  }
 ],
 "metadata": {
  "kernelspec": {
   "display_name": "myenv",
   "language": "python",
   "name": "python3"
  },
  "language_info": {
   "codemirror_mode": {
    "name": "ipython",
    "version": 3
   },
   "file_extension": ".py",
   "mimetype": "text/x-python",
   "name": "python",
   "nbconvert_exporter": "python",
   "pygments_lexer": "ipython3",
   "version": "3.10.15"
  }
 },
 "nbformat": 4,
 "nbformat_minor": 2
}
